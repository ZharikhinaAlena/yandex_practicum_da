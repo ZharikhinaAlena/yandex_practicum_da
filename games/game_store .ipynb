{
 "cells": [
  {
   "cell_type": "markdown",
   "metadata": {},
   "source": [
    "# Исследование продаж в интернет-магазине компьютерных игр. "
   ]
  },
  {
   "cell_type": "markdown",
   "metadata": {},
   "source": [
    "В нашем паспоряжении данные о продажах в интернет-магазине «Стримчик», который продаёт по всему миру компьютерные игры. Из открытых источников доступны исторические данные о продажах игр, оценки пользователей и экспертов, жанры и платформы (например, Xbox или PlayStation). Нам нужно выявить определяющие успешность игры закономерности. Это позволит сделать ставку на потенциально популярный продукт и спланировать рекламные кампании."
   ]
  },
  {
   "cell_type": "markdown",
   "metadata": {},
   "source": [
    "### Откроем файл с данными и изучим общую информацию."
   ]
  },
  {
   "cell_type": "code",
   "execution_count": 1,
   "metadata": {},
   "outputs": [
    {
     "data": {
      "text/html": [
       "<div>\n",
       "<style scoped>\n",
       "    .dataframe tbody tr th:only-of-type {\n",
       "        vertical-align: middle;\n",
       "    }\n",
       "\n",
       "    .dataframe tbody tr th {\n",
       "        vertical-align: top;\n",
       "    }\n",
       "\n",
       "    .dataframe thead th {\n",
       "        text-align: right;\n",
       "    }\n",
       "</style>\n",
       "<table border=\"1\" class=\"dataframe\">\n",
       "  <thead>\n",
       "    <tr style=\"text-align: right;\">\n",
       "      <th></th>\n",
       "      <th>Name</th>\n",
       "      <th>Platform</th>\n",
       "      <th>Year_of_Release</th>\n",
       "      <th>Genre</th>\n",
       "      <th>NA_sales</th>\n",
       "      <th>EU_sales</th>\n",
       "      <th>JP_sales</th>\n",
       "      <th>Other_sales</th>\n",
       "      <th>Critic_Score</th>\n",
       "      <th>User_Score</th>\n",
       "      <th>Rating</th>\n",
       "    </tr>\n",
       "  </thead>\n",
       "  <tbody>\n",
       "    <tr>\n",
       "      <th>0</th>\n",
       "      <td>Wii Sports</td>\n",
       "      <td>Wii</td>\n",
       "      <td>2006.0</td>\n",
       "      <td>Sports</td>\n",
       "      <td>41.36</td>\n",
       "      <td>28.96</td>\n",
       "      <td>3.77</td>\n",
       "      <td>8.45</td>\n",
       "      <td>76.0</td>\n",
       "      <td>8</td>\n",
       "      <td>E</td>\n",
       "    </tr>\n",
       "    <tr>\n",
       "      <th>1</th>\n",
       "      <td>Super Mario Bros.</td>\n",
       "      <td>NES</td>\n",
       "      <td>1985.0</td>\n",
       "      <td>Platform</td>\n",
       "      <td>29.08</td>\n",
       "      <td>3.58</td>\n",
       "      <td>6.81</td>\n",
       "      <td>0.77</td>\n",
       "      <td>NaN</td>\n",
       "      <td>NaN</td>\n",
       "      <td>NaN</td>\n",
       "    </tr>\n",
       "    <tr>\n",
       "      <th>2</th>\n",
       "      <td>Mario Kart Wii</td>\n",
       "      <td>Wii</td>\n",
       "      <td>2008.0</td>\n",
       "      <td>Racing</td>\n",
       "      <td>15.68</td>\n",
       "      <td>12.76</td>\n",
       "      <td>3.79</td>\n",
       "      <td>3.29</td>\n",
       "      <td>82.0</td>\n",
       "      <td>8.3</td>\n",
       "      <td>E</td>\n",
       "    </tr>\n",
       "    <tr>\n",
       "      <th>3</th>\n",
       "      <td>Wii Sports Resort</td>\n",
       "      <td>Wii</td>\n",
       "      <td>2009.0</td>\n",
       "      <td>Sports</td>\n",
       "      <td>15.61</td>\n",
       "      <td>10.93</td>\n",
       "      <td>3.28</td>\n",
       "      <td>2.95</td>\n",
       "      <td>80.0</td>\n",
       "      <td>8</td>\n",
       "      <td>E</td>\n",
       "    </tr>\n",
       "    <tr>\n",
       "      <th>4</th>\n",
       "      <td>Pokemon Red/Pokemon Blue</td>\n",
       "      <td>GB</td>\n",
       "      <td>1996.0</td>\n",
       "      <td>Role-Playing</td>\n",
       "      <td>11.27</td>\n",
       "      <td>8.89</td>\n",
       "      <td>10.22</td>\n",
       "      <td>1.00</td>\n",
       "      <td>NaN</td>\n",
       "      <td>NaN</td>\n",
       "      <td>NaN</td>\n",
       "    </tr>\n",
       "    <tr>\n",
       "      <th>5</th>\n",
       "      <td>Tetris</td>\n",
       "      <td>GB</td>\n",
       "      <td>1989.0</td>\n",
       "      <td>Puzzle</td>\n",
       "      <td>23.20</td>\n",
       "      <td>2.26</td>\n",
       "      <td>4.22</td>\n",
       "      <td>0.58</td>\n",
       "      <td>NaN</td>\n",
       "      <td>NaN</td>\n",
       "      <td>NaN</td>\n",
       "    </tr>\n",
       "    <tr>\n",
       "      <th>6</th>\n",
       "      <td>New Super Mario Bros.</td>\n",
       "      <td>DS</td>\n",
       "      <td>2006.0</td>\n",
       "      <td>Platform</td>\n",
       "      <td>11.28</td>\n",
       "      <td>9.14</td>\n",
       "      <td>6.50</td>\n",
       "      <td>2.88</td>\n",
       "      <td>89.0</td>\n",
       "      <td>8.5</td>\n",
       "      <td>E</td>\n",
       "    </tr>\n",
       "    <tr>\n",
       "      <th>7</th>\n",
       "      <td>Wii Play</td>\n",
       "      <td>Wii</td>\n",
       "      <td>2006.0</td>\n",
       "      <td>Misc</td>\n",
       "      <td>13.96</td>\n",
       "      <td>9.18</td>\n",
       "      <td>2.93</td>\n",
       "      <td>2.84</td>\n",
       "      <td>58.0</td>\n",
       "      <td>6.6</td>\n",
       "      <td>E</td>\n",
       "    </tr>\n",
       "    <tr>\n",
       "      <th>8</th>\n",
       "      <td>New Super Mario Bros. Wii</td>\n",
       "      <td>Wii</td>\n",
       "      <td>2009.0</td>\n",
       "      <td>Platform</td>\n",
       "      <td>14.44</td>\n",
       "      <td>6.94</td>\n",
       "      <td>4.70</td>\n",
       "      <td>2.24</td>\n",
       "      <td>87.0</td>\n",
       "      <td>8.4</td>\n",
       "      <td>E</td>\n",
       "    </tr>\n",
       "    <tr>\n",
       "      <th>9</th>\n",
       "      <td>Duck Hunt</td>\n",
       "      <td>NES</td>\n",
       "      <td>1984.0</td>\n",
       "      <td>Shooter</td>\n",
       "      <td>26.93</td>\n",
       "      <td>0.63</td>\n",
       "      <td>0.28</td>\n",
       "      <td>0.47</td>\n",
       "      <td>NaN</td>\n",
       "      <td>NaN</td>\n",
       "      <td>NaN</td>\n",
       "    </tr>\n",
       "  </tbody>\n",
       "</table>\n",
       "</div>"
      ],
      "text/plain": [
       "                        Name Platform  Year_of_Release         Genre  \\\n",
       "0                 Wii Sports      Wii           2006.0        Sports   \n",
       "1          Super Mario Bros.      NES           1985.0      Platform   \n",
       "2             Mario Kart Wii      Wii           2008.0        Racing   \n",
       "3          Wii Sports Resort      Wii           2009.0        Sports   \n",
       "4   Pokemon Red/Pokemon Blue       GB           1996.0  Role-Playing   \n",
       "5                     Tetris       GB           1989.0        Puzzle   \n",
       "6      New Super Mario Bros.       DS           2006.0      Platform   \n",
       "7                   Wii Play      Wii           2006.0          Misc   \n",
       "8  New Super Mario Bros. Wii      Wii           2009.0      Platform   \n",
       "9                  Duck Hunt      NES           1984.0       Shooter   \n",
       "\n",
       "   NA_sales  EU_sales  JP_sales  Other_sales  Critic_Score User_Score Rating  \n",
       "0     41.36     28.96      3.77         8.45          76.0          8      E  \n",
       "1     29.08      3.58      6.81         0.77           NaN        NaN    NaN  \n",
       "2     15.68     12.76      3.79         3.29          82.0        8.3      E  \n",
       "3     15.61     10.93      3.28         2.95          80.0          8      E  \n",
       "4     11.27      8.89     10.22         1.00           NaN        NaN    NaN  \n",
       "5     23.20      2.26      4.22         0.58           NaN        NaN    NaN  \n",
       "6     11.28      9.14      6.50         2.88          89.0        8.5      E  \n",
       "7     13.96      9.18      2.93         2.84          58.0        6.6      E  \n",
       "8     14.44      6.94      4.70         2.24          87.0        8.4      E  \n",
       "9     26.93      0.63      0.28         0.47           NaN        NaN    NaN  "
      ]
     },
     "execution_count": 1,
     "metadata": {},
     "output_type": "execute_result"
    }
   ],
   "source": [
    "#импортируем библиотеки\n",
    "import pandas as pd \n",
    "import matplotlib.pyplot as plt \n",
    "import numpy as np  \n",
    "import seaborn as sns \n",
    "from scipy import stats as st\n",
    "data = pd.read_csv('/datasets/games.csv')\n",
    "data.head(10) #выведем первые 10 строк датафрейма data на экран"
   ]
  },
  {
   "cell_type": "markdown",
   "metadata": {},
   "source": [
    "Изучим общую информацию о полученном датафрейме методом info() и используем метод describe( ) для получения сводки числовых значений в вашем наборе данных:"
   ]
  },
  {
   "cell_type": "code",
   "execution_count": 2,
   "metadata": {
    "scrolled": true
   },
   "outputs": [
    {
     "name": "stdout",
     "output_type": "stream",
     "text": [
      "<class 'pandas.core.frame.DataFrame'>\n",
      "RangeIndex: 16715 entries, 0 to 16714\n",
      "Data columns (total 11 columns):\n",
      " #   Column           Non-Null Count  Dtype  \n",
      "---  ------           --------------  -----  \n",
      " 0   Name             16713 non-null  object \n",
      " 1   Platform         16715 non-null  object \n",
      " 2   Year_of_Release  16446 non-null  float64\n",
      " 3   Genre            16713 non-null  object \n",
      " 4   NA_sales         16715 non-null  float64\n",
      " 5   EU_sales         16715 non-null  float64\n",
      " 6   JP_sales         16715 non-null  float64\n",
      " 7   Other_sales      16715 non-null  float64\n",
      " 8   Critic_Score     8137 non-null   float64\n",
      " 9   User_Score       10014 non-null  object \n",
      " 10  Rating           9949 non-null   object \n",
      "dtypes: float64(6), object(5)\n",
      "memory usage: 1.4+ MB\n"
     ]
    },
    {
     "data": {
      "text/html": [
       "<div>\n",
       "<style scoped>\n",
       "    .dataframe tbody tr th:only-of-type {\n",
       "        vertical-align: middle;\n",
       "    }\n",
       "\n",
       "    .dataframe tbody tr th {\n",
       "        vertical-align: top;\n",
       "    }\n",
       "\n",
       "    .dataframe thead th {\n",
       "        text-align: right;\n",
       "    }\n",
       "</style>\n",
       "<table border=\"1\" class=\"dataframe\">\n",
       "  <thead>\n",
       "    <tr style=\"text-align: right;\">\n",
       "      <th></th>\n",
       "      <th>Year_of_Release</th>\n",
       "      <th>NA_sales</th>\n",
       "      <th>EU_sales</th>\n",
       "      <th>JP_sales</th>\n",
       "      <th>Other_sales</th>\n",
       "      <th>Critic_Score</th>\n",
       "    </tr>\n",
       "  </thead>\n",
       "  <tbody>\n",
       "    <tr>\n",
       "      <th>count</th>\n",
       "      <td>16446.000000</td>\n",
       "      <td>16715.000000</td>\n",
       "      <td>16715.000000</td>\n",
       "      <td>16715.000000</td>\n",
       "      <td>16715.000000</td>\n",
       "      <td>8137.000000</td>\n",
       "    </tr>\n",
       "    <tr>\n",
       "      <th>mean</th>\n",
       "      <td>2006.484616</td>\n",
       "      <td>0.263377</td>\n",
       "      <td>0.145060</td>\n",
       "      <td>0.077617</td>\n",
       "      <td>0.047342</td>\n",
       "      <td>68.967679</td>\n",
       "    </tr>\n",
       "    <tr>\n",
       "      <th>std</th>\n",
       "      <td>5.877050</td>\n",
       "      <td>0.813604</td>\n",
       "      <td>0.503339</td>\n",
       "      <td>0.308853</td>\n",
       "      <td>0.186731</td>\n",
       "      <td>13.938165</td>\n",
       "    </tr>\n",
       "    <tr>\n",
       "      <th>min</th>\n",
       "      <td>1980.000000</td>\n",
       "      <td>0.000000</td>\n",
       "      <td>0.000000</td>\n",
       "      <td>0.000000</td>\n",
       "      <td>0.000000</td>\n",
       "      <td>13.000000</td>\n",
       "    </tr>\n",
       "    <tr>\n",
       "      <th>25%</th>\n",
       "      <td>2003.000000</td>\n",
       "      <td>0.000000</td>\n",
       "      <td>0.000000</td>\n",
       "      <td>0.000000</td>\n",
       "      <td>0.000000</td>\n",
       "      <td>60.000000</td>\n",
       "    </tr>\n",
       "    <tr>\n",
       "      <th>50%</th>\n",
       "      <td>2007.000000</td>\n",
       "      <td>0.080000</td>\n",
       "      <td>0.020000</td>\n",
       "      <td>0.000000</td>\n",
       "      <td>0.010000</td>\n",
       "      <td>71.000000</td>\n",
       "    </tr>\n",
       "    <tr>\n",
       "      <th>75%</th>\n",
       "      <td>2010.000000</td>\n",
       "      <td>0.240000</td>\n",
       "      <td>0.110000</td>\n",
       "      <td>0.040000</td>\n",
       "      <td>0.030000</td>\n",
       "      <td>79.000000</td>\n",
       "    </tr>\n",
       "    <tr>\n",
       "      <th>max</th>\n",
       "      <td>2016.000000</td>\n",
       "      <td>41.360000</td>\n",
       "      <td>28.960000</td>\n",
       "      <td>10.220000</td>\n",
       "      <td>10.570000</td>\n",
       "      <td>98.000000</td>\n",
       "    </tr>\n",
       "  </tbody>\n",
       "</table>\n",
       "</div>"
      ],
      "text/plain": [
       "       Year_of_Release      NA_sales      EU_sales      JP_sales  \\\n",
       "count     16446.000000  16715.000000  16715.000000  16715.000000   \n",
       "mean       2006.484616      0.263377      0.145060      0.077617   \n",
       "std           5.877050      0.813604      0.503339      0.308853   \n",
       "min        1980.000000      0.000000      0.000000      0.000000   \n",
       "25%        2003.000000      0.000000      0.000000      0.000000   \n",
       "50%        2007.000000      0.080000      0.020000      0.000000   \n",
       "75%        2010.000000      0.240000      0.110000      0.040000   \n",
       "max        2016.000000     41.360000     28.960000     10.220000   \n",
       "\n",
       "        Other_sales  Critic_Score  \n",
       "count  16715.000000   8137.000000  \n",
       "mean       0.047342     68.967679  \n",
       "std        0.186731     13.938165  \n",
       "min        0.000000     13.000000  \n",
       "25%        0.000000     60.000000  \n",
       "50%        0.010000     71.000000  \n",
       "75%        0.030000     79.000000  \n",
       "max       10.570000     98.000000  "
      ]
     },
     "execution_count": 2,
     "metadata": {},
     "output_type": "execute_result"
    }
   ],
   "source": [
    "data.info()\n",
    "data.describe()"
   ]
  },
  {
   "cell_type": "code",
   "execution_count": 3,
   "metadata": {},
   "outputs": [
    {
     "data": {
      "text/plain": [
       "0"
      ]
     },
     "execution_count": 3,
     "metadata": {},
     "output_type": "execute_result"
    }
   ],
   "source": [
    "#проверим есть ли явные дубликаты\n",
    "data.duplicated().sum()"
   ]
  },
  {
   "cell_type": "markdown",
   "metadata": {},
   "source": [
    "**Описание данных**\n",
    "\n",
    "•   *Name* — название игры\n",
    "\n",
    "•   *Platform* — платформа\n",
    "\n",
    "•\t*Year_of_Release* — год выпуска\n",
    "\n",
    "•\t*Genre* — жанр игры\n",
    "\n",
    "•\t*NA_sales* — продажи в Северной Америке (миллионы проданных копий)\n",
    "\n",
    "•\t*EU_sales* — продажи в Европе (миллионы проданных копий)\n",
    "\n",
    "•\t*JP_sales* — продажи в Японии (миллионы проданных копий)\n",
    "\n",
    "•\t*Other_sales* — продажи в других странах (миллионы проданных копий)\n",
    "\n",
    "•\t*Critic_Score* — оценка критиков (максимум 100)\n",
    "\n",
    "•\t*User_Score* — оценка пользователей (максимум 10)\n",
    "\n",
    "•\t*Rating* — рейтинг от организации ESRB (англ. Entertainment Software Rating Board). Эта ассоциация определяет рейтинг компьютерных игр и присваивает им подходящую возрастную категорию.\n",
    "Данные за 2016 год могут быть неполными.\n"
   ]
  },
  {
   "cell_type": "markdown",
   "metadata": {},
   "source": [
    "**Изучив общую информацию в датафрейме, мы видим несколько проблем в исходных данных, а именно:**\n",
    "\n",
    "- пропущенные значения в ряде столбцов;\n",
    "- некорректный тип данных в некоторых столбцах\n",
    "- также необходимо привести название столбцов к нижнему регистру\n",
    "\n",
    "Подробно на этих проблемах оставновимся в разделе по предобработке данных, выясним причины их возникновения и обработаем там, где это будет корректно сделать и в зависимости от наших дальнейших задач."
   ]
  },
  {
   "cell_type": "markdown",
   "metadata": {},
   "source": [
    "### Предобработка данных."
   ]
  },
  {
   "cell_type": "markdown",
   "metadata": {},
   "source": [
    "**Изменение названий столбцов**"
   ]
  },
  {
   "cell_type": "code",
   "execution_count": 4,
   "metadata": {},
   "outputs": [
    {
     "data": {
      "text/html": [
       "<div>\n",
       "<style scoped>\n",
       "    .dataframe tbody tr th:only-of-type {\n",
       "        vertical-align: middle;\n",
       "    }\n",
       "\n",
       "    .dataframe tbody tr th {\n",
       "        vertical-align: top;\n",
       "    }\n",
       "\n",
       "    .dataframe thead th {\n",
       "        text-align: right;\n",
       "    }\n",
       "</style>\n",
       "<table border=\"1\" class=\"dataframe\">\n",
       "  <thead>\n",
       "    <tr style=\"text-align: right;\">\n",
       "      <th></th>\n",
       "      <th>name</th>\n",
       "      <th>platform</th>\n",
       "      <th>year_of_release</th>\n",
       "      <th>genre</th>\n",
       "      <th>na_sales</th>\n",
       "      <th>eu_sales</th>\n",
       "      <th>jp_sales</th>\n",
       "      <th>other_sales</th>\n",
       "      <th>critic_score</th>\n",
       "      <th>user_score</th>\n",
       "      <th>rating</th>\n",
       "    </tr>\n",
       "  </thead>\n",
       "  <tbody>\n",
       "    <tr>\n",
       "      <th>0</th>\n",
       "      <td>Wii Sports</td>\n",
       "      <td>Wii</td>\n",
       "      <td>2006.0</td>\n",
       "      <td>Sports</td>\n",
       "      <td>41.36</td>\n",
       "      <td>28.96</td>\n",
       "      <td>3.77</td>\n",
       "      <td>8.45</td>\n",
       "      <td>76.0</td>\n",
       "      <td>8</td>\n",
       "      <td>E</td>\n",
       "    </tr>\n",
       "    <tr>\n",
       "      <th>1</th>\n",
       "      <td>Super Mario Bros.</td>\n",
       "      <td>NES</td>\n",
       "      <td>1985.0</td>\n",
       "      <td>Platform</td>\n",
       "      <td>29.08</td>\n",
       "      <td>3.58</td>\n",
       "      <td>6.81</td>\n",
       "      <td>0.77</td>\n",
       "      <td>NaN</td>\n",
       "      <td>NaN</td>\n",
       "      <td>NaN</td>\n",
       "    </tr>\n",
       "    <tr>\n",
       "      <th>2</th>\n",
       "      <td>Mario Kart Wii</td>\n",
       "      <td>Wii</td>\n",
       "      <td>2008.0</td>\n",
       "      <td>Racing</td>\n",
       "      <td>15.68</td>\n",
       "      <td>12.76</td>\n",
       "      <td>3.79</td>\n",
       "      <td>3.29</td>\n",
       "      <td>82.0</td>\n",
       "      <td>8.3</td>\n",
       "      <td>E</td>\n",
       "    </tr>\n",
       "    <tr>\n",
       "      <th>3</th>\n",
       "      <td>Wii Sports Resort</td>\n",
       "      <td>Wii</td>\n",
       "      <td>2009.0</td>\n",
       "      <td>Sports</td>\n",
       "      <td>15.61</td>\n",
       "      <td>10.93</td>\n",
       "      <td>3.28</td>\n",
       "      <td>2.95</td>\n",
       "      <td>80.0</td>\n",
       "      <td>8</td>\n",
       "      <td>E</td>\n",
       "    </tr>\n",
       "    <tr>\n",
       "      <th>4</th>\n",
       "      <td>Pokemon Red/Pokemon Blue</td>\n",
       "      <td>GB</td>\n",
       "      <td>1996.0</td>\n",
       "      <td>Role-Playing</td>\n",
       "      <td>11.27</td>\n",
       "      <td>8.89</td>\n",
       "      <td>10.22</td>\n",
       "      <td>1.00</td>\n",
       "      <td>NaN</td>\n",
       "      <td>NaN</td>\n",
       "      <td>NaN</td>\n",
       "    </tr>\n",
       "  </tbody>\n",
       "</table>\n",
       "</div>"
      ],
      "text/plain": [
       "                       name platform  year_of_release         genre  na_sales  \\\n",
       "0                Wii Sports      Wii           2006.0        Sports     41.36   \n",
       "1         Super Mario Bros.      NES           1985.0      Platform     29.08   \n",
       "2            Mario Kart Wii      Wii           2008.0        Racing     15.68   \n",
       "3         Wii Sports Resort      Wii           2009.0        Sports     15.61   \n",
       "4  Pokemon Red/Pokemon Blue       GB           1996.0  Role-Playing     11.27   \n",
       "\n",
       "   eu_sales  jp_sales  other_sales  critic_score user_score rating  \n",
       "0     28.96      3.77         8.45          76.0          8      E  \n",
       "1      3.58      6.81         0.77           NaN        NaN    NaN  \n",
       "2     12.76      3.79         3.29          82.0        8.3      E  \n",
       "3     10.93      3.28         2.95          80.0          8      E  \n",
       "4      8.89     10.22         1.00           NaN        NaN    NaN  "
      ]
     },
     "execution_count": 4,
     "metadata": {},
     "output_type": "execute_result"
    }
   ],
   "source": [
    "#приведем названия столбцов к нижнему регистру\n",
    "data.columns = data.columns.str.lower()\n",
    "data.head()"
   ]
  },
  {
   "cell_type": "markdown",
   "metadata": {},
   "source": [
    "**Обработка пропущенных значений**"
   ]
  },
  {
   "cell_type": "code",
   "execution_count": 5,
   "metadata": {
    "scrolled": true
   },
   "outputs": [
    {
     "data": {
      "text/plain": [
       "name                  2\n",
       "platform              0\n",
       "year_of_release     269\n",
       "genre                 2\n",
       "na_sales              0\n",
       "eu_sales              0\n",
       "jp_sales              0\n",
       "other_sales           0\n",
       "critic_score       8578\n",
       "user_score         6701\n",
       "rating             6766\n",
       "dtype: int64"
      ]
     },
     "execution_count": 5,
     "metadata": {},
     "output_type": "execute_result"
    }
   ],
   "source": [
    "#Выведем количество пропущенных значений для каждого столбца\n",
    "data.isna().sum() "
   ]
  },
  {
   "cell_type": "markdown",
   "metadata": {},
   "source": [
    "**Удалим строки с пропущенными значениями там, где они не многочисленны, а именно в :**\n",
    "- name\n",
    "- year_of_release\n",
    "- genre"
   ]
  },
  {
   "cell_type": "code",
   "execution_count": 6,
   "metadata": {},
   "outputs": [],
   "source": [
    "#удалим строки методом dropna()\n",
    "data.dropna(subset=['name', 'year_of_release', 'genre'], inplace=True)"
   ]
  },
  {
   "cell_type": "markdown",
   "metadata": {},
   "source": [
    "Посмотрим уникальные значения в оставшихся столбцах с пропусками :"
   ]
  },
  {
   "cell_type": "code",
   "execution_count": 7,
   "metadata": {
    "scrolled": false
   },
   "outputs": [
    {
     "data": {
      "text/plain": [
       "array([76., nan, 82., 80., 89., 58., 87., 91., 61., 97., 95., 77., 88.,\n",
       "       83., 94., 93., 85., 86., 98., 96., 90., 84., 73., 74., 78., 92.,\n",
       "       71., 72., 68., 62., 49., 67., 81., 66., 56., 79., 70., 59., 64.,\n",
       "       75., 60., 63., 69., 50., 25., 42., 44., 55., 48., 57., 29., 47.,\n",
       "       65., 54., 20., 53., 37., 38., 33., 52., 30., 32., 43., 45., 51.,\n",
       "       40., 46., 39., 34., 41., 36., 31., 27., 35., 26., 19., 28., 23.,\n",
       "       24., 21., 17., 13.])"
      ]
     },
     "execution_count": 7,
     "metadata": {},
     "output_type": "execute_result"
    }
   ],
   "source": [
    "data['critic_score'].unique()"
   ]
  },
  {
   "cell_type": "code",
   "execution_count": 8,
   "metadata": {
    "scrolled": true
   },
   "outputs": [
    {
     "data": {
      "text/plain": [
       "array(['8', nan, '8.3', '8.5', '6.6', '8.4', '8.6', '7.7', '6.3', '7.4',\n",
       "       '8.2', '9', '7.9', '8.1', '8.7', '7.1', '3.4', '5.3', '4.8', '3.2',\n",
       "       '8.9', '6.4', '7.8', '7.5', '2.6', '7.2', '9.2', '7', '7.3', '4.3',\n",
       "       '7.6', '5.7', '5', '9.1', '6.5', 'tbd', '8.8', '6.9', '9.4', '6.8',\n",
       "       '6.1', '6.7', '5.4', '4', '4.9', '4.5', '9.3', '6.2', '4.2', '6',\n",
       "       '3.7', '4.1', '5.8', '5.6', '5.5', '4.4', '4.6', '5.9', '3.9',\n",
       "       '3.1', '2.9', '5.2', '3.3', '4.7', '5.1', '3.5', '2.5', '1.9', '3',\n",
       "       '2.7', '2.2', '2', '9.5', '2.1', '3.6', '2.8', '1.8', '3.8', '0',\n",
       "       '1.6', '9.6', '2.4', '1.7', '1.1', '0.3', '1.5', '0.7', '1.2',\n",
       "       '2.3', '0.5', '1.3', '0.2', '0.6', '1.4', '0.9', '1', '9.7'],\n",
       "      dtype=object)"
      ]
     },
     "execution_count": 8,
     "metadata": {},
     "output_type": "execute_result"
    }
   ],
   "source": [
    "data['user_score'].unique()"
   ]
  },
  {
   "cell_type": "code",
   "execution_count": 9,
   "metadata": {
    "scrolled": true
   },
   "outputs": [
    {
     "data": {
      "text/plain": [
       "array(['E', nan, 'M', 'T', 'E10+', 'K-A', 'AO', 'EC', 'RP'], dtype=object)"
      ]
     },
     "execution_count": 9,
     "metadata": {},
     "output_type": "execute_result"
    }
   ],
   "source": [
    "data['rating'].unique()"
   ]
  },
  {
   "cell_type": "markdown",
   "metadata": {},
   "source": [
    "Мы видим, что аномальные значения отсутствуют. В столбце user_score есть значение 'tbd' (в переводе с англ. 'to be determined' - \"Будет определено\"), заменим его на Nan.\n",
    "Заменить пропущенные значения в столбцах critic_score и user_score на медиану или удалить мы не можем, иначе это исказит наши данные, поэтому оставим их без изменений. Пропускам в столбце rating присвоим значение 'unknown' - неизвестно."
   ]
  },
  {
   "cell_type": "code",
   "execution_count": 10,
   "metadata": {},
   "outputs": [
    {
     "data": {
      "text/plain": [
       "name                  0\n",
       "platform              0\n",
       "year_of_release       0\n",
       "genre                 0\n",
       "na_sales              0\n",
       "eu_sales              0\n",
       "jp_sales              0\n",
       "other_sales           0\n",
       "critic_score       8461\n",
       "user_score         8981\n",
       "rating                0\n",
       "dtype: int64"
      ]
     },
     "execution_count": 10,
     "metadata": {},
     "output_type": "execute_result"
    }
   ],
   "source": [
    "#с помощью метода replace() заменим значение 'tbd' на Nan и перезапишем в столбец user_score\n",
    "data['user_score'] = data['user_score'].replace('tbd', np.NaN)\n",
    "#с помощью метода fillna() заменим пропущенные значения в столбце rating на 'unknown' и презепишем его \n",
    "data['rating'] = data['rating'].fillna('unknown')\n",
    "#проверим пропуски еще раз\n",
    "data.isna().sum()"
   ]
  },
  {
   "cell_type": "markdown",
   "metadata": {},
   "source": [
    "Мы обработали пропуски, удалив строки с пропущенными значениями в столбцах:\n",
    "- name\n",
    "- year_of_release\n",
    "- genre\n",
    "\n",
    "Пропуски в столбце rating заменили на значение 'unknown' и изменили значение 'tbd' на Nan в столбце user_score.\n"
   ]
  },
  {
   "cell_type": "markdown",
   "metadata": {},
   "source": [
    "**Изменение типов данных**"
   ]
  },
  {
   "cell_type": "code",
   "execution_count": 11,
   "metadata": {},
   "outputs": [
    {
     "name": "stdout",
     "output_type": "stream",
     "text": [
      "<class 'pandas.core.frame.DataFrame'>\n",
      "Int64Index: 16444 entries, 0 to 16714\n",
      "Data columns (total 11 columns):\n",
      " #   Column           Non-Null Count  Dtype  \n",
      "---  ------           --------------  -----  \n",
      " 0   name             16444 non-null  object \n",
      " 1   platform         16444 non-null  object \n",
      " 2   year_of_release  16444 non-null  int64  \n",
      " 3   genre            16444 non-null  object \n",
      " 4   na_sales         16444 non-null  float64\n",
      " 5   eu_sales         16444 non-null  float64\n",
      " 6   jp_sales         16444 non-null  float64\n",
      " 7   other_sales      16444 non-null  float64\n",
      " 8   critic_score     7983 non-null   float64\n",
      " 9   user_score       7463 non-null   float64\n",
      " 10  rating           16444 non-null  object \n",
      "dtypes: float64(6), int64(1), object(4)\n",
      "memory usage: 1.5+ MB\n"
     ]
    }
   ],
   "source": [
    "#заменим вещественный тип данных в столбце year_of_release на целочисленный с помощью метода astype()\n",
    "data['year_of_release'] = data['year_of_release'].astype('int')\n",
    "#переведем данные в столбце user_score из строкового типа в вещественный с помощью метода astype()\n",
    "data['user_score'] = data['user_score'].astype('float')\n",
    "data.info()"
   ]
  },
  {
   "cell_type": "markdown",
   "metadata": {},
   "source": [
    "**Посчитаем суммарные продажи во всех регионах и запишем их в отдельный столбец**"
   ]
  },
  {
   "cell_type": "code",
   "execution_count": 12,
   "metadata": {},
   "outputs": [
    {
     "data": {
      "text/html": [
       "<div>\n",
       "<style scoped>\n",
       "    .dataframe tbody tr th:only-of-type {\n",
       "        vertical-align: middle;\n",
       "    }\n",
       "\n",
       "    .dataframe tbody tr th {\n",
       "        vertical-align: top;\n",
       "    }\n",
       "\n",
       "    .dataframe thead th {\n",
       "        text-align: right;\n",
       "    }\n",
       "</style>\n",
       "<table border=\"1\" class=\"dataframe\">\n",
       "  <thead>\n",
       "    <tr style=\"text-align: right;\">\n",
       "      <th></th>\n",
       "      <th>name</th>\n",
       "      <th>platform</th>\n",
       "      <th>year_of_release</th>\n",
       "      <th>genre</th>\n",
       "      <th>na_sales</th>\n",
       "      <th>eu_sales</th>\n",
       "      <th>jp_sales</th>\n",
       "      <th>other_sales</th>\n",
       "      <th>critic_score</th>\n",
       "      <th>user_score</th>\n",
       "      <th>rating</th>\n",
       "      <th>total_sales</th>\n",
       "    </tr>\n",
       "  </thead>\n",
       "  <tbody>\n",
       "    <tr>\n",
       "      <th>0</th>\n",
       "      <td>Wii Sports</td>\n",
       "      <td>Wii</td>\n",
       "      <td>2006</td>\n",
       "      <td>Sports</td>\n",
       "      <td>41.36</td>\n",
       "      <td>28.96</td>\n",
       "      <td>3.77</td>\n",
       "      <td>8.45</td>\n",
       "      <td>76.0</td>\n",
       "      <td>8.0</td>\n",
       "      <td>E</td>\n",
       "      <td>82.54</td>\n",
       "    </tr>\n",
       "    <tr>\n",
       "      <th>1</th>\n",
       "      <td>Super Mario Bros.</td>\n",
       "      <td>NES</td>\n",
       "      <td>1985</td>\n",
       "      <td>Platform</td>\n",
       "      <td>29.08</td>\n",
       "      <td>3.58</td>\n",
       "      <td>6.81</td>\n",
       "      <td>0.77</td>\n",
       "      <td>NaN</td>\n",
       "      <td>NaN</td>\n",
       "      <td>unknown</td>\n",
       "      <td>40.24</td>\n",
       "    </tr>\n",
       "    <tr>\n",
       "      <th>2</th>\n",
       "      <td>Mario Kart Wii</td>\n",
       "      <td>Wii</td>\n",
       "      <td>2008</td>\n",
       "      <td>Racing</td>\n",
       "      <td>15.68</td>\n",
       "      <td>12.76</td>\n",
       "      <td>3.79</td>\n",
       "      <td>3.29</td>\n",
       "      <td>82.0</td>\n",
       "      <td>8.3</td>\n",
       "      <td>E</td>\n",
       "      <td>35.52</td>\n",
       "    </tr>\n",
       "    <tr>\n",
       "      <th>3</th>\n",
       "      <td>Wii Sports Resort</td>\n",
       "      <td>Wii</td>\n",
       "      <td>2009</td>\n",
       "      <td>Sports</td>\n",
       "      <td>15.61</td>\n",
       "      <td>10.93</td>\n",
       "      <td>3.28</td>\n",
       "      <td>2.95</td>\n",
       "      <td>80.0</td>\n",
       "      <td>8.0</td>\n",
       "      <td>E</td>\n",
       "      <td>32.77</td>\n",
       "    </tr>\n",
       "    <tr>\n",
       "      <th>4</th>\n",
       "      <td>Pokemon Red/Pokemon Blue</td>\n",
       "      <td>GB</td>\n",
       "      <td>1996</td>\n",
       "      <td>Role-Playing</td>\n",
       "      <td>11.27</td>\n",
       "      <td>8.89</td>\n",
       "      <td>10.22</td>\n",
       "      <td>1.00</td>\n",
       "      <td>NaN</td>\n",
       "      <td>NaN</td>\n",
       "      <td>unknown</td>\n",
       "      <td>31.38</td>\n",
       "    </tr>\n",
       "    <tr>\n",
       "      <th>5</th>\n",
       "      <td>Tetris</td>\n",
       "      <td>GB</td>\n",
       "      <td>1989</td>\n",
       "      <td>Puzzle</td>\n",
       "      <td>23.20</td>\n",
       "      <td>2.26</td>\n",
       "      <td>4.22</td>\n",
       "      <td>0.58</td>\n",
       "      <td>NaN</td>\n",
       "      <td>NaN</td>\n",
       "      <td>unknown</td>\n",
       "      <td>30.26</td>\n",
       "    </tr>\n",
       "    <tr>\n",
       "      <th>6</th>\n",
       "      <td>New Super Mario Bros.</td>\n",
       "      <td>DS</td>\n",
       "      <td>2006</td>\n",
       "      <td>Platform</td>\n",
       "      <td>11.28</td>\n",
       "      <td>9.14</td>\n",
       "      <td>6.50</td>\n",
       "      <td>2.88</td>\n",
       "      <td>89.0</td>\n",
       "      <td>8.5</td>\n",
       "      <td>E</td>\n",
       "      <td>29.80</td>\n",
       "    </tr>\n",
       "    <tr>\n",
       "      <th>7</th>\n",
       "      <td>Wii Play</td>\n",
       "      <td>Wii</td>\n",
       "      <td>2006</td>\n",
       "      <td>Misc</td>\n",
       "      <td>13.96</td>\n",
       "      <td>9.18</td>\n",
       "      <td>2.93</td>\n",
       "      <td>2.84</td>\n",
       "      <td>58.0</td>\n",
       "      <td>6.6</td>\n",
       "      <td>E</td>\n",
       "      <td>28.91</td>\n",
       "    </tr>\n",
       "    <tr>\n",
       "      <th>8</th>\n",
       "      <td>New Super Mario Bros. Wii</td>\n",
       "      <td>Wii</td>\n",
       "      <td>2009</td>\n",
       "      <td>Platform</td>\n",
       "      <td>14.44</td>\n",
       "      <td>6.94</td>\n",
       "      <td>4.70</td>\n",
       "      <td>2.24</td>\n",
       "      <td>87.0</td>\n",
       "      <td>8.4</td>\n",
       "      <td>E</td>\n",
       "      <td>28.32</td>\n",
       "    </tr>\n",
       "    <tr>\n",
       "      <th>9</th>\n",
       "      <td>Duck Hunt</td>\n",
       "      <td>NES</td>\n",
       "      <td>1984</td>\n",
       "      <td>Shooter</td>\n",
       "      <td>26.93</td>\n",
       "      <td>0.63</td>\n",
       "      <td>0.28</td>\n",
       "      <td>0.47</td>\n",
       "      <td>NaN</td>\n",
       "      <td>NaN</td>\n",
       "      <td>unknown</td>\n",
       "      <td>28.31</td>\n",
       "    </tr>\n",
       "  </tbody>\n",
       "</table>\n",
       "</div>"
      ],
      "text/plain": [
       "                        name platform  year_of_release         genre  \\\n",
       "0                 Wii Sports      Wii             2006        Sports   \n",
       "1          Super Mario Bros.      NES             1985      Platform   \n",
       "2             Mario Kart Wii      Wii             2008        Racing   \n",
       "3          Wii Sports Resort      Wii             2009        Sports   \n",
       "4   Pokemon Red/Pokemon Blue       GB             1996  Role-Playing   \n",
       "5                     Tetris       GB             1989        Puzzle   \n",
       "6      New Super Mario Bros.       DS             2006      Platform   \n",
       "7                   Wii Play      Wii             2006          Misc   \n",
       "8  New Super Mario Bros. Wii      Wii             2009      Platform   \n",
       "9                  Duck Hunt      NES             1984       Shooter   \n",
       "\n",
       "   na_sales  eu_sales  jp_sales  other_sales  critic_score  user_score  \\\n",
       "0     41.36     28.96      3.77         8.45          76.0         8.0   \n",
       "1     29.08      3.58      6.81         0.77           NaN         NaN   \n",
       "2     15.68     12.76      3.79         3.29          82.0         8.3   \n",
       "3     15.61     10.93      3.28         2.95          80.0         8.0   \n",
       "4     11.27      8.89     10.22         1.00           NaN         NaN   \n",
       "5     23.20      2.26      4.22         0.58           NaN         NaN   \n",
       "6     11.28      9.14      6.50         2.88          89.0         8.5   \n",
       "7     13.96      9.18      2.93         2.84          58.0         6.6   \n",
       "8     14.44      6.94      4.70         2.24          87.0         8.4   \n",
       "9     26.93      0.63      0.28         0.47           NaN         NaN   \n",
       "\n",
       "    rating  total_sales  \n",
       "0        E        82.54  \n",
       "1  unknown        40.24  \n",
       "2        E        35.52  \n",
       "3        E        32.77  \n",
       "4  unknown        31.38  \n",
       "5  unknown        30.26  \n",
       "6        E        29.80  \n",
       "7        E        28.91  \n",
       "8        E        28.32  \n",
       "9  unknown        28.31  "
      ]
     },
     "execution_count": 12,
     "metadata": {},
     "output_type": "execute_result"
    }
   ],
   "source": [
    "#сложим значения по каждому региону и запишем результат в новый столбец total_sales\n",
    "data['total_sales'] = data['na_sales'] + data['eu_sales'] + data['jp_sales'] + data['other_sales']\n",
    "data.head(10)"
   ]
  },
  {
   "cell_type": "markdown",
   "metadata": {},
   "source": [
    "Мы завершили предобработку данных. Привели названия столбцов к змеиному регистру, изменили типы данных в столбцах year_of_release и user_score для дальнейших расчетов. Также заменили пропуски, где это коррекно сделать, удалили строки с малочисленными пропусками и оставили пропуски там, где их невозможно заполнить, предварительно обосновав, что их замена приведет к искажению нашего анализа. Пропущенные значения могли возникнуть в результате некорректной выгрузки данных, либо если информация не была указана в открытых источниках, также пропуски в столбцах с оценками критиков и пользователей могли возникнуть, если данные игры не оценивались или набрали совсем небольшое количесво оценок (например, если это новинка или непопулярная игра, у нас нет точных данных, но, возможно, есть какой-то порог \"входа\"), значения в категории rating (рейтинг от организации ESRB , она определяет рейтинг компьютерных игр и присваивает им подходящую возрастную категорию) могут быть пропущены по причине того, что данная организация присваивает рейтинг играм с определенного года (например,не рассматривает давно вышедшие) или используется не во всех регионах."
   ]
  },
  {
   "cell_type": "markdown",
   "metadata": {},
   "source": [
    "### Исследовательский анализ данных."
   ]
  },
  {
   "cell_type": "markdown",
   "metadata": {},
   "source": [
    "**Сколько игр выпускалось в разные годы?**"
   ]
  },
  {
   "cell_type": "code",
   "execution_count": 13,
   "metadata": {},
   "outputs": [
    {
     "data": {
      "image/png": "[encoded data removed]",
      "text/plain": [
       "<Figure size 720x360 with 1 Axes>"
      ]
     },
     "metadata": {
      "needs_background": "light"
     },
     "output_type": "display_data"
    }
   ],
   "source": [
    "#построим гистограмму методом hist ()\n",
    "data['year_of_release'].hist(bins=100, figsize=(10,5))\n",
    "plt.xlabel('Год')\n",
    "plt.ylabel('Количество игр')\n",
    "plt.title('Количество выпущенных игр за период 1980-2016 г')\n",
    "plt.show()"
   ]
  },
  {
   "cell_type": "markdown",
   "metadata": {},
   "source": [
    "На графике видно, что до 1994 года выпускалось небольшое количество игр, технологии не так стремительно развивались. С 1995 видим рост, пик приходится на 2007-2011 гг. Спад начинается с 2012 года, возможно, это связано с тем, что с расширением технологических возможностей и перенасыщенностью рынка, на первый план выходит качество игры, детальная проработка, графика. Игры перестали \"штамповать\", т.е. упор делается не на скорость выпуска и количество. Релиз качественного, конкурентноспособного продукта требует больше времени. А также значение имеет тот факт, что развитие цифровой индустрии и выход множества игр на смартфонах вцелом снижают популярность игровых консолей."
   ]
  },
  {
   "cell_type": "markdown",
   "metadata": {},
   "source": [
    "**Как менялись продажи на разных платформах?**"
   ]
  },
  {
   "cell_type": "markdown",
   "metadata": {},
   "source": [
    "Далее мы посмотрим, как менялись продажи по платформам. \n",
    "Выберем платформы с наибольшими суммарными продажами и построим распределение по годам. Также узнаем за какой характерный срок появляются новые и исчезают старые платформы."
   ]
  },
  {
   "cell_type": "code",
   "execution_count": 14,
   "metadata": {},
   "outputs": [
    {
     "data": {
      "text/html": [
       "<div>\n",
       "<style scoped>\n",
       "    .dataframe tbody tr th:only-of-type {\n",
       "        vertical-align: middle;\n",
       "    }\n",
       "\n",
       "    .dataframe tbody tr th {\n",
       "        vertical-align: top;\n",
       "    }\n",
       "\n",
       "    .dataframe thead th {\n",
       "        text-align: right;\n",
       "    }\n",
       "</style>\n",
       "<table border=\"1\" class=\"dataframe\">\n",
       "  <thead>\n",
       "    <tr style=\"text-align: right;\">\n",
       "      <th></th>\n",
       "      <th>total_sales</th>\n",
       "    </tr>\n",
       "    <tr>\n",
       "      <th>platform</th>\n",
       "      <th></th>\n",
       "    </tr>\n",
       "  </thead>\n",
       "  <tbody>\n",
       "    <tr>\n",
       "      <th>PS2</th>\n",
       "      <td>1233.56</td>\n",
       "    </tr>\n",
       "    <tr>\n",
       "      <th>X360</th>\n",
       "      <td>961.24</td>\n",
       "    </tr>\n",
       "    <tr>\n",
       "      <th>PS3</th>\n",
       "      <td>931.34</td>\n",
       "    </tr>\n",
       "    <tr>\n",
       "      <th>Wii</th>\n",
       "      <td>891.18</td>\n",
       "    </tr>\n",
       "    <tr>\n",
       "      <th>DS</th>\n",
       "      <td>802.78</td>\n",
       "    </tr>\n",
       "    <tr>\n",
       "      <th>PS</th>\n",
       "      <td>727.58</td>\n",
       "    </tr>\n",
       "    <tr>\n",
       "      <th>PS4</th>\n",
       "      <td>314.14</td>\n",
       "    </tr>\n",
       "    <tr>\n",
       "      <th>GBA</th>\n",
       "      <td>312.88</td>\n",
       "    </tr>\n",
       "    <tr>\n",
       "      <th>PSP</th>\n",
       "      <td>289.53</td>\n",
       "    </tr>\n",
       "    <tr>\n",
       "      <th>3DS</th>\n",
       "      <td>257.81</td>\n",
       "    </tr>\n",
       "    <tr>\n",
       "      <th>PC</th>\n",
       "      <td>255.76</td>\n",
       "    </tr>\n",
       "    <tr>\n",
       "      <th>GB</th>\n",
       "      <td>254.43</td>\n",
       "    </tr>\n",
       "    <tr>\n",
       "      <th>XB</th>\n",
       "      <td>251.57</td>\n",
       "    </tr>\n",
       "    <tr>\n",
       "      <th>NES</th>\n",
       "      <td>251.05</td>\n",
       "    </tr>\n",
       "    <tr>\n",
       "      <th>N64</th>\n",
       "      <td>218.01</td>\n",
       "    </tr>\n",
       "    <tr>\n",
       "      <th>SNES</th>\n",
       "      <td>200.04</td>\n",
       "    </tr>\n",
       "    <tr>\n",
       "      <th>GC</th>\n",
       "      <td>196.73</td>\n",
       "    </tr>\n",
       "    <tr>\n",
       "      <th>XOne</th>\n",
       "      <td>159.32</td>\n",
       "    </tr>\n",
       "    <tr>\n",
       "      <th>2600</th>\n",
       "      <td>86.48</td>\n",
       "    </tr>\n",
       "    <tr>\n",
       "      <th>WiiU</th>\n",
       "      <td>82.19</td>\n",
       "    </tr>\n",
       "    <tr>\n",
       "      <th>PSV</th>\n",
       "      <td>53.81</td>\n",
       "    </tr>\n",
       "    <tr>\n",
       "      <th>SAT</th>\n",
       "      <td>33.59</td>\n",
       "    </tr>\n",
       "    <tr>\n",
       "      <th>GEN</th>\n",
       "      <td>28.35</td>\n",
       "    </tr>\n",
       "    <tr>\n",
       "      <th>DC</th>\n",
       "      <td>15.95</td>\n",
       "    </tr>\n",
       "    <tr>\n",
       "      <th>SCD</th>\n",
       "      <td>1.86</td>\n",
       "    </tr>\n",
       "    <tr>\n",
       "      <th>NG</th>\n",
       "      <td>1.44</td>\n",
       "    </tr>\n",
       "    <tr>\n",
       "      <th>WS</th>\n",
       "      <td>1.42</td>\n",
       "    </tr>\n",
       "    <tr>\n",
       "      <th>TG16</th>\n",
       "      <td>0.16</td>\n",
       "    </tr>\n",
       "    <tr>\n",
       "      <th>3DO</th>\n",
       "      <td>0.10</td>\n",
       "    </tr>\n",
       "    <tr>\n",
       "      <th>GG</th>\n",
       "      <td>0.04</td>\n",
       "    </tr>\n",
       "    <tr>\n",
       "      <th>PCFX</th>\n",
       "      <td>0.03</td>\n",
       "    </tr>\n",
       "  </tbody>\n",
       "</table>\n",
       "</div>"
      ],
      "text/plain": [
       "          total_sales\n",
       "platform             \n",
       "PS2           1233.56\n",
       "X360           961.24\n",
       "PS3            931.34\n",
       "Wii            891.18\n",
       "DS             802.78\n",
       "PS             727.58\n",
       "PS4            314.14\n",
       "GBA            312.88\n",
       "PSP            289.53\n",
       "3DS            257.81\n",
       "PC             255.76\n",
       "GB             254.43\n",
       "XB             251.57\n",
       "NES            251.05\n",
       "N64            218.01\n",
       "SNES           200.04\n",
       "GC             196.73\n",
       "XOne           159.32\n",
       "2600            86.48\n",
       "WiiU            82.19\n",
       "PSV             53.81\n",
       "SAT             33.59\n",
       "GEN             28.35\n",
       "DC              15.95\n",
       "SCD              1.86\n",
       "NG               1.44\n",
       "WS               1.42\n",
       "TG16             0.16\n",
       "3DO              0.10\n",
       "GG               0.04\n",
       "PCFX             0.03"
      ]
     },
     "execution_count": 14,
     "metadata": {},
     "output_type": "execute_result"
    }
   ],
   "source": [
    "#построим сводную таблицу для определения платформ с наибольшими суммарными продажами и сохраним ее в переменную platform_pivot\n",
    "platform_pivot = data.pivot_table(index='platform', values='total_sales', aggfunc='sum').sort_values(by='total_sales',ascending=False)\n",
    "platform_pivot"
   ]
  },
  {
   "cell_type": "markdown",
   "metadata": {},
   "source": [
    "В явных лидерах видим 6 платформ: PS2, X360, PS3, Wii, DS, PS."
   ]
  },
  {
   "cell_type": "code",
   "execution_count": 15,
   "metadata": {},
   "outputs": [
    {
     "data": {
      "text/plain": [
       "['PS2', 'X360', 'PS3', 'Wii', 'DS', 'PS']"
      ]
     },
     "execution_count": 15,
     "metadata": {},
     "output_type": "execute_result"
    }
   ],
   "source": [
    "#создадим список методом index.tolist() и выведем его на экран\n",
    "platform_top_six = platform_pivot.head(6).index.tolist()\n",
    "platform_top_six"
   ]
  },
  {
   "cell_type": "code",
   "execution_count": 16,
   "metadata": {
    "scrolled": false
   },
   "outputs": [
    {
     "data": {
      "image/png": "[encoded data removed]",
      "text/plain": [
       "<Figure size 864x432 with 1 Axes>"
      ]
     },
     "metadata": {
      "needs_background": "light"
     },
     "output_type": "display_data"
    }
   ],
   "source": [
    "#построим распределение кол-ва продаж по годам для топ-6 платформ\n",
    "(data\n",
    "    .query('platform in @platform_top_six') #сделаем срез данных по нашим топ-6 платформам\n",
    "    .pivot_table(index='year_of_release', columns='platform', values='total_sales', aggfunc='sum') #создадим сводную таблицу зависимости продаж от года \n",
    "    .plot(grid=True, figsize=(12,6),style='o-') #построим график для наглядности\n",
    "\n",
    ")\n",
    "plt.xlim(1990, 2016)\n",
    "plt.xlabel('Год')\n",
    "plt.ylabel('Количество проданных копий (млн)')\n",
    "plt.title('Количество проданных копий на Топ-6 игровых платформ')\n",
    "plt.show()"
   ]
  },
  {
   "cell_type": "markdown",
   "metadata": {},
   "source": [
    "На основании нашего графика, отображающего распределение количества продаж на популярных платформах в разные годы, можно сделать вывод, что \"продолжительность жизни\" платформы варьируется от 7 до 10 лет, \"пик\" популярности не держится при этом дольше 3-5 лет. Для нашего исследования нецелесообразно рассматривать платформы, которые были популярны в конце 90х- начале 2000х. В быстроразвивающейся и меняющейся индустрии оптимально рассматривать данные за последние несколько лет, поэтому актуальным периодом, на основании которого мы будем строить наш прогноз на 2017 год, будем считать период с 2013 по 2016 гг."
   ]
  },
  {
   "cell_type": "markdown",
   "metadata": {},
   "source": [
    "**Актуальный период. Какие платформы - лидеры продаж?**"
   ]
  },
  {
   "cell_type": "markdown",
   "metadata": {},
   "source": [
    "Проверим, какие платформы лидируют по продажам, растут или падают? Выберем несколько потенциально прибыльных платформ."
   ]
  },
  {
   "cell_type": "code",
   "execution_count": 17,
   "metadata": {
    "scrolled": true
   },
   "outputs": [
    {
     "name": "stdout",
     "output_type": "stream",
     "text": [
      "<class 'pandas.core.frame.DataFrame'>\n",
      "Int64Index: 2233 entries, 16 to 16714\n",
      "Data columns (total 12 columns):\n",
      " #   Column           Non-Null Count  Dtype  \n",
      "---  ------           --------------  -----  \n",
      " 0   name             2233 non-null   object \n",
      " 1   platform         2233 non-null   object \n",
      " 2   year_of_release  2233 non-null   int64  \n",
      " 3   genre            2233 non-null   object \n",
      " 4   na_sales         2233 non-null   float64\n",
      " 5   eu_sales         2233 non-null   float64\n",
      " 6   jp_sales         2233 non-null   float64\n",
      " 7   other_sales      2233 non-null   float64\n",
      " 8   critic_score     991 non-null    float64\n",
      " 9   user_score       1192 non-null   float64\n",
      " 10  rating           2233 non-null   object \n",
      " 11  total_sales      2233 non-null   float64\n",
      "dtypes: float64(7), int64(1), object(4)\n",
      "memory usage: 226.8+ KB\n"
     ]
    }
   ],
   "source": [
    "#оставляем только актуальные данные в нашем датафрейме\n",
    "data = data.query('year_of_release > 2012')\n",
    "data.info()"
   ]
  },
  {
   "cell_type": "code",
   "execution_count": 18,
   "metadata": {},
   "outputs": [
    {
     "data": {
      "text/html": [
       "<div>\n",
       "<style scoped>\n",
       "    .dataframe tbody tr th:only-of-type {\n",
       "        vertical-align: middle;\n",
       "    }\n",
       "\n",
       "    .dataframe tbody tr th {\n",
       "        vertical-align: top;\n",
       "    }\n",
       "\n",
       "    .dataframe thead th {\n",
       "        text-align: right;\n",
       "    }\n",
       "</style>\n",
       "<table border=\"1\" class=\"dataframe\">\n",
       "  <thead>\n",
       "    <tr style=\"text-align: right;\">\n",
       "      <th></th>\n",
       "      <th>name</th>\n",
       "      <th>total_sales</th>\n",
       "    </tr>\n",
       "    <tr>\n",
       "      <th>platform</th>\n",
       "      <th></th>\n",
       "      <th></th>\n",
       "    </tr>\n",
       "  </thead>\n",
       "  <tbody>\n",
       "    <tr>\n",
       "      <th>PS4</th>\n",
       "      <td>392</td>\n",
       "      <td>314.14</td>\n",
       "    </tr>\n",
       "    <tr>\n",
       "      <th>PS3</th>\n",
       "      <td>345</td>\n",
       "      <td>181.43</td>\n",
       "    </tr>\n",
       "    <tr>\n",
       "      <th>XOne</th>\n",
       "      <td>247</td>\n",
       "      <td>159.32</td>\n",
       "    </tr>\n",
       "    <tr>\n",
       "      <th>3DS</th>\n",
       "      <td>303</td>\n",
       "      <td>143.25</td>\n",
       "    </tr>\n",
       "    <tr>\n",
       "      <th>X360</th>\n",
       "      <td>186</td>\n",
       "      <td>136.80</td>\n",
       "    </tr>\n",
       "    <tr>\n",
       "      <th>WiiU</th>\n",
       "      <td>115</td>\n",
       "      <td>64.63</td>\n",
       "    </tr>\n",
       "    <tr>\n",
       "      <th>PC</th>\n",
       "      <td>189</td>\n",
       "      <td>39.43</td>\n",
       "    </tr>\n",
       "    <tr>\n",
       "      <th>PSV</th>\n",
       "      <td>358</td>\n",
       "      <td>32.99</td>\n",
       "    </tr>\n",
       "    <tr>\n",
       "      <th>Wii</th>\n",
       "      <td>23</td>\n",
       "      <td>13.66</td>\n",
       "    </tr>\n",
       "    <tr>\n",
       "      <th>PSP</th>\n",
       "      <td>67</td>\n",
       "      <td>3.50</td>\n",
       "    </tr>\n",
       "    <tr>\n",
       "      <th>DS</th>\n",
       "      <td>8</td>\n",
       "      <td>1.54</td>\n",
       "    </tr>\n",
       "  </tbody>\n",
       "</table>\n",
       "</div>"
      ],
      "text/plain": [
       "          name  total_sales\n",
       "platform                   \n",
       "PS4        392       314.14\n",
       "PS3        345       181.43\n",
       "XOne       247       159.32\n",
       "3DS        303       143.25\n",
       "X360       186       136.80\n",
       "WiiU       115        64.63\n",
       "PC         189        39.43\n",
       "PSV        358        32.99\n",
       "Wii         23        13.66\n",
       "PSP         67         3.50\n",
       "DS           8         1.54"
      ]
     },
     "execution_count": 18,
     "metadata": {},
     "output_type": "execute_result"
    }
   ],
   "source": [
    "#посмотрим на рейтинг платформ по количеству игр и суммой продаж за актуальный период\n",
    "(data\n",
    "    .groupby('platform').agg({'name': 'count','total_sales' : 'sum'})\n",
    "    .sort_values(by='total_sales', ascending=False)\n",
    ")"
   ]
  },
  {
   "cell_type": "code",
   "execution_count": 19,
   "metadata": {},
   "outputs": [
    {
     "data": {
      "image/png": "[encoded data removed]",
      "text/plain": [
       "<Figure size 864x432 with 1 Axes>"
      ]
     },
     "metadata": {
      "needs_background": "light"
     },
     "output_type": "display_data"
    }
   ],
   "source": [
    "#создадим сводную таблицу зависимости суммарных продаж от года на каждой из платформ\n",
    "(data\n",
    "    .pivot_table(index='year_of_release', columns='platform', values='total_sales', aggfunc='sum') \n",
    "    .plot(grid=True, figsize=(12,6),style='o-') #построим график для наглядности\n",
    "\n",
    ")\n",
    "plt.xlabel('Год')\n",
    "plt.ylabel('Количество проданных копий (млн)')\n",
    "plt.title('Игровые платформы 2013-2016 гг')\n",
    "plt.show()"
   ]
  },
  {
   "cell_type": "markdown",
   "metadata": {},
   "source": [
    "В период за 2013-2016 гг лидерами по продажам являются следующие платформы: PS4, PS3, X360, 3DS, XOne.\n",
    "Но на графике мы видим, что к 2015 году PS3, X360 стремительно теряют свою популярность, платформа 3DS ведет себя более стабильно, но тоже теряет в продажах. За 2016 год данные неполные, поэтому на конец 2015 года мы видим две лидирущие и перспективные платформы, которые показывают рост - это PS4 и XOne, их можно считать потенциально самыми прибыльными."
   ]
  },
  {
   "cell_type": "markdown",
   "metadata": {},
   "source": [
    "**Глобальные продажи с разбивкой по платформам.**"
   ]
  },
  {
   "cell_type": "code",
   "execution_count": 20,
   "metadata": {
    "scrolled": true
   },
   "outputs": [
    {
     "data": {
      "image/png": "[encoded data removed]",
      "text/plain": [
       "<Figure size 432x288 with 1 Axes>"
      ]
     },
     "metadata": {
      "needs_background": "light"
     },
     "output_type": "display_data"
    }
   ],
   "source": [
    "#построим график «ящик с усами» по глобальным продажам игр в разбивке по платформам\n",
    "sns.boxplot(x='platform', y='total_sales', data=data)\n",
    "sns.set(rc={'figure.figsize':(20,5)})\n",
    "plt.xlabel('Платформа')\n",
    "plt.ylabel('Количество продаж (млн)')\n",
    "plt.title('Диаграмма размаха для продаж по платформам')\n",
    "plt.show()"
   ]
  },
  {
   "cell_type": "markdown",
   "metadata": {},
   "source": [
    "Получилось не очень наглядно, ниже изменим масштаб и посмотрим поближе. Но сначала интересно посмотреть, что за суперпопулярные игры представлены в выбросах."
   ]
  },
  {
   "cell_type": "code",
   "execution_count": 21,
   "metadata": {},
   "outputs": [
    {
     "data": {
      "text/html": [
       "<div>\n",
       "<style scoped>\n",
       "    .dataframe tbody tr th:only-of-type {\n",
       "        vertical-align: middle;\n",
       "    }\n",
       "\n",
       "    .dataframe tbody tr th {\n",
       "        vertical-align: top;\n",
       "    }\n",
       "\n",
       "    .dataframe thead th {\n",
       "        text-align: right;\n",
       "    }\n",
       "</style>\n",
       "<table border=\"1\" class=\"dataframe\">\n",
       "  <thead>\n",
       "    <tr style=\"text-align: right;\">\n",
       "      <th></th>\n",
       "      <th>name</th>\n",
       "      <th>platform</th>\n",
       "      <th>year_of_release</th>\n",
       "      <th>genre</th>\n",
       "      <th>na_sales</th>\n",
       "      <th>eu_sales</th>\n",
       "      <th>jp_sales</th>\n",
       "      <th>other_sales</th>\n",
       "      <th>critic_score</th>\n",
       "      <th>user_score</th>\n",
       "      <th>rating</th>\n",
       "      <th>total_sales</th>\n",
       "    </tr>\n",
       "  </thead>\n",
       "  <tbody>\n",
       "    <tr>\n",
       "      <th>16</th>\n",
       "      <td>Grand Theft Auto V</td>\n",
       "      <td>PS3</td>\n",
       "      <td>2013</td>\n",
       "      <td>Action</td>\n",
       "      <td>7.02</td>\n",
       "      <td>9.09</td>\n",
       "      <td>0.98</td>\n",
       "      <td>3.96</td>\n",
       "      <td>97.0</td>\n",
       "      <td>8.2</td>\n",
       "      <td>M</td>\n",
       "      <td>21.05</td>\n",
       "    </tr>\n",
       "    <tr>\n",
       "      <th>23</th>\n",
       "      <td>Grand Theft Auto V</td>\n",
       "      <td>X360</td>\n",
       "      <td>2013</td>\n",
       "      <td>Action</td>\n",
       "      <td>9.66</td>\n",
       "      <td>5.14</td>\n",
       "      <td>0.06</td>\n",
       "      <td>1.41</td>\n",
       "      <td>97.0</td>\n",
       "      <td>8.1</td>\n",
       "      <td>M</td>\n",
       "      <td>16.27</td>\n",
       "    </tr>\n",
       "    <tr>\n",
       "      <th>31</th>\n",
       "      <td>Call of Duty: Black Ops 3</td>\n",
       "      <td>PS4</td>\n",
       "      <td>2015</td>\n",
       "      <td>Shooter</td>\n",
       "      <td>6.03</td>\n",
       "      <td>5.86</td>\n",
       "      <td>0.36</td>\n",
       "      <td>2.38</td>\n",
       "      <td>NaN</td>\n",
       "      <td>NaN</td>\n",
       "      <td>unknown</td>\n",
       "      <td>14.63</td>\n",
       "    </tr>\n",
       "    <tr>\n",
       "      <th>33</th>\n",
       "      <td>Pokemon X/Pokemon Y</td>\n",
       "      <td>3DS</td>\n",
       "      <td>2013</td>\n",
       "      <td>Role-Playing</td>\n",
       "      <td>5.28</td>\n",
       "      <td>4.19</td>\n",
       "      <td>4.35</td>\n",
       "      <td>0.78</td>\n",
       "      <td>NaN</td>\n",
       "      <td>NaN</td>\n",
       "      <td>unknown</td>\n",
       "      <td>14.60</td>\n",
       "    </tr>\n",
       "    <tr>\n",
       "      <th>42</th>\n",
       "      <td>Grand Theft Auto V</td>\n",
       "      <td>PS4</td>\n",
       "      <td>2014</td>\n",
       "      <td>Action</td>\n",
       "      <td>3.96</td>\n",
       "      <td>6.31</td>\n",
       "      <td>0.38</td>\n",
       "      <td>1.97</td>\n",
       "      <td>97.0</td>\n",
       "      <td>8.3</td>\n",
       "      <td>M</td>\n",
       "      <td>12.62</td>\n",
       "    </tr>\n",
       "    <tr>\n",
       "      <th>47</th>\n",
       "      <td>Pokemon Omega Ruby/Pokemon Alpha Sapphire</td>\n",
       "      <td>3DS</td>\n",
       "      <td>2014</td>\n",
       "      <td>Role-Playing</td>\n",
       "      <td>4.35</td>\n",
       "      <td>3.49</td>\n",
       "      <td>3.10</td>\n",
       "      <td>0.74</td>\n",
       "      <td>NaN</td>\n",
       "      <td>NaN</td>\n",
       "      <td>unknown</td>\n",
       "      <td>11.68</td>\n",
       "    </tr>\n",
       "    <tr>\n",
       "      <th>60</th>\n",
       "      <td>Call of Duty: Ghosts</td>\n",
       "      <td>X360</td>\n",
       "      <td>2013</td>\n",
       "      <td>Shooter</td>\n",
       "      <td>6.73</td>\n",
       "      <td>2.56</td>\n",
       "      <td>0.04</td>\n",
       "      <td>0.91</td>\n",
       "      <td>73.0</td>\n",
       "      <td>2.6</td>\n",
       "      <td>M</td>\n",
       "      <td>10.24</td>\n",
       "    </tr>\n",
       "    <tr>\n",
       "      <th>69</th>\n",
       "      <td>Call of Duty: Ghosts</td>\n",
       "      <td>PS3</td>\n",
       "      <td>2013</td>\n",
       "      <td>Shooter</td>\n",
       "      <td>4.10</td>\n",
       "      <td>3.63</td>\n",
       "      <td>0.38</td>\n",
       "      <td>1.25</td>\n",
       "      <td>71.0</td>\n",
       "      <td>2.6</td>\n",
       "      <td>M</td>\n",
       "      <td>9.36</td>\n",
       "    </tr>\n",
       "    <tr>\n",
       "      <th>72</th>\n",
       "      <td>Minecraft</td>\n",
       "      <td>X360</td>\n",
       "      <td>2013</td>\n",
       "      <td>Misc</td>\n",
       "      <td>5.70</td>\n",
       "      <td>2.65</td>\n",
       "      <td>0.02</td>\n",
       "      <td>0.81</td>\n",
       "      <td>NaN</td>\n",
       "      <td>NaN</td>\n",
       "      <td>unknown</td>\n",
       "      <td>9.18</td>\n",
       "    </tr>\n",
       "    <tr>\n",
       "      <th>77</th>\n",
       "      <td>FIFA 16</td>\n",
       "      <td>PS4</td>\n",
       "      <td>2015</td>\n",
       "      <td>Sports</td>\n",
       "      <td>1.12</td>\n",
       "      <td>6.12</td>\n",
       "      <td>0.06</td>\n",
       "      <td>1.28</td>\n",
       "      <td>82.0</td>\n",
       "      <td>4.3</td>\n",
       "      <td>E</td>\n",
       "      <td>8.58</td>\n",
       "    </tr>\n",
       "  </tbody>\n",
       "</table>\n",
       "</div>"
      ],
      "text/plain": [
       "                                         name platform  year_of_release  \\\n",
       "16                         Grand Theft Auto V      PS3             2013   \n",
       "23                         Grand Theft Auto V     X360             2013   \n",
       "31                  Call of Duty: Black Ops 3      PS4             2015   \n",
       "33                        Pokemon X/Pokemon Y      3DS             2013   \n",
       "42                         Grand Theft Auto V      PS4             2014   \n",
       "47  Pokemon Omega Ruby/Pokemon Alpha Sapphire      3DS             2014   \n",
       "60                       Call of Duty: Ghosts     X360             2013   \n",
       "69                       Call of Duty: Ghosts      PS3             2013   \n",
       "72                                  Minecraft     X360             2013   \n",
       "77                                    FIFA 16      PS4             2015   \n",
       "\n",
       "           genre  na_sales  eu_sales  jp_sales  other_sales  critic_score  \\\n",
       "16        Action      7.02      9.09      0.98         3.96          97.0   \n",
       "23        Action      9.66      5.14      0.06         1.41          97.0   \n",
       "31       Shooter      6.03      5.86      0.36         2.38           NaN   \n",
       "33  Role-Playing      5.28      4.19      4.35         0.78           NaN   \n",
       "42        Action      3.96      6.31      0.38         1.97          97.0   \n",
       "47  Role-Playing      4.35      3.49      3.10         0.74           NaN   \n",
       "60       Shooter      6.73      2.56      0.04         0.91          73.0   \n",
       "69       Shooter      4.10      3.63      0.38         1.25          71.0   \n",
       "72          Misc      5.70      2.65      0.02         0.81           NaN   \n",
       "77        Sports      1.12      6.12      0.06         1.28          82.0   \n",
       "\n",
       "    user_score   rating  total_sales  \n",
       "16         8.2        M        21.05  \n",
       "23         8.1        M        16.27  \n",
       "31         NaN  unknown        14.63  \n",
       "33         NaN  unknown        14.60  \n",
       "42         8.3        M        12.62  \n",
       "47         NaN  unknown        11.68  \n",
       "60         2.6        M        10.24  \n",
       "69         2.6        M         9.36  \n",
       "72         NaN  unknown         9.18  \n",
       "77         4.3        E         8.58  "
      ]
     },
     "execution_count": 21,
     "metadata": {},
     "output_type": "execute_result"
    }
   ],
   "source": [
    "#сделаем срез, ограничив общую сумму продаж по игре отметкой 8 млн копий\n",
    "top_game=data.query('total_sales > 8').sort_values(by='total_sales', ascending=False)\n",
    "top_game"
   ]
  },
  {
   "cell_type": "markdown",
   "metadata": {},
   "source": [
    "Бесспорным лидером среди игр с большим отрывом становится Grand Theft Auto V, больше всего млн копий было продано на PS3 и X360, данная игра вышла на новую PS4 на год позже, но тоже попала в топ.\n",
    "Это для нас наглядный пример, как одна игра может вывести в топ свой жанр, став хитом продаж, поэтому надо быть аккуратнее далее в разделе анализа топовых жанров."
   ]
  },
  {
   "cell_type": "code",
   "execution_count": 22,
   "metadata": {},
   "outputs": [
    {
     "data": {
      "image/png": "[encoded data removed]",
      "text/plain": [
       "<Figure size 1440x360 with 1 Axes>"
      ]
     },
     "metadata": {},
     "output_type": "display_data"
    }
   ],
   "source": [
    "#укрупним наши «ящики с усами» \n",
    "sns.boxplot(x='platform', y='total_sales', data=data)\n",
    "sns.set(rc={'figure.figsize':(20,5)})\n",
    "plt.ylim(0,2)\n",
    "plt.xlabel('Платформа')\n",
    "plt.ylabel('Количество продаж (млн)')\n",
    "plt.title('Диаграмма размаха для продаж по платформам')\n",
    "plt.show()"
   ]
  },
  {
   "cell_type": "markdown",
   "metadata": {},
   "source": [
    "На диаграмме размаха мы видим, что медианные значения у 6 платформ выше остальных и очень близки между собой, это: X360, PS4, PS3 (чуть отстает) , XOne, WiiU, Wii, однако, две из них не входят в наш топ по количеству суммарных продаж. И наоборот, у платформы 3DS , из топ-продаж, медианные продажи низкие. Почему так происходит? Всему виной наши выбросы, они - это топовые игры, благодаря которым платформа может вырваться в лидеры по количеству продаж, а если мегахиты не выпускаются для определенной платформы, то она остается \"среднячком\"."
   ]
  },
  {
   "cell_type": "markdown",
   "metadata": {},
   "source": [
    "**Влияние отзывов пользователей и критиков на продажи на примере PS4.**"
   ]
  },
  {
   "cell_type": "markdown",
   "metadata": {},
   "source": [
    "Посмотрим, как влияют на продажи внутри одной популярной платформы отзывы пользователей и критиков. Построим диаграмму рассеяния и посчитаем корреляцию между отзывами и продажами"
   ]
  },
  {
   "cell_type": "code",
   "execution_count": 23,
   "metadata": {},
   "outputs": [
    {
     "data": {
      "image/png": "[encoded data removed]",
      "text/plain": [
       "<Figure size 1080x360 with 2 Axes>"
      ]
     },
     "metadata": {},
     "output_type": "display_data"
    },
    {
     "name": "stdout",
     "output_type": "stream",
     "text": [
      "Коэффициент корреляции между отзывами пользователей и количеством продаж: -0.031957110204556376\n",
      "Коэффициент корреляции между отзывами критиков и количеством продаж: 0.40656790206178095\n"
     ]
    }
   ],
   "source": [
    "#для примера возьмем PS4, рассмотрим корреляцию между отзывами и продажами, построим диаграмму рассеяния\n",
    "ps4 = data.query('platform == \"PS4\"')\n",
    "fig, ax = plt.subplots(nrows=1, ncols=2, figsize=(15,5)) #создаем фигуру «1×2», задаём размер\n",
    "sns.scatterplot(x='user_score', y='total_sales', data=ps4, ax=ax[0], color='green')\n",
    "sns.scatterplot(x='critic_score', y='total_sales', data=ps4, ax=ax[1], color='red')\n",
    "fig.suptitle('PS4', fontsize=20) #указываем подзаголовок и его размер\n",
    "ax[0].set(xlabel='Оценка пользователей') #называем оси x для каждого графика \n",
    "ax[1].set(xlabel='Оценка критиков')\n",
    "ax[0].set(ylabel='Количество продаж') #называем оси y для каждого графика\n",
    "ax[1].set(ylabel='Количество продаж')\n",
    "plt.show()\n",
    "  \n",
    "#считаем коэффицент корреляции Пирсона\n",
    "print('Коэффициент корреляции между отзывами пользователей и количеством продаж:', ps4['user_score'].corr(ps4['total_sales']))\n",
    "print('Коэффициент корреляции между отзывами критиков и количеством продаж:', ps4['critic_score'].corr(ps4['total_sales']))"
   ]
  },
  {
   "cell_type": "markdown",
   "metadata": {},
   "source": [
    "Благодаря нашему графику и рассчету коэффициента корреляции, мы выяснили, что между отзывами пользователей и количеством продаж внутри платформы PS4 линейная связь не прослеживается. А вот оценка критиков на продажи влияет, хотя все равно не так уж и сильно, но видим, что тенденция: \"чем выше оценка критиков, тем больше продаж\" присутствует."
   ]
  },
  {
   "cell_type": "markdown",
   "metadata": {},
   "source": [
    "**Сравнение результатов корреляционного анализа PS4 с другими платформами из топ-5, а именно: PS3, X360, 3DS, XOne.**"
   ]
  },
  {
   "cell_type": "code",
   "execution_count": 24,
   "metadata": {
    "scrolled": false
   },
   "outputs": [
    {
     "data": {
      "image/png": "[encoded data removed]",
      "text/plain": [
       "<Figure size 1152x288 with 2 Axes>"
      ]
     },
     "metadata": {},
     "output_type": "display_data"
    },
    {
     "name": "stdout",
     "output_type": "stream",
     "text": [
      "Коэффициент корреляции между отзывами пользователей и количеством продаж PS3 0.0023944027357566925\n",
      "Коэффициент корреляции между отзывами критиков и количеством продаж PS3 0.3342853393371919\n"
     ]
    },
    {
     "data": {
      "image/png": "[encoded data removed]",
      "text/plain": [
       "<Figure size 1152x288 with 2 Axes>"
      ]
     },
     "metadata": {},
     "output_type": "display_data"
    },
    {
     "name": "stdout",
     "output_type": "stream",
     "text": [
      "Коэффициент корреляции между отзывами пользователей и количеством продаж X360 -0.011742185147181342\n",
      "Коэффициент корреляции между отзывами критиков и количеством продаж X360 0.3503445460228664\n"
     ]
    },
    {
     "data": {
      "image/png": "[encoded data removed]",
      "text/plain": [
       "<Figure size 1152x288 with 2 Axes>"
      ]
     },
     "metadata": {},
     "output_type": "display_data"
    },
    {
     "name": "stdout",
     "output_type": "stream",
     "text": [
      "Коэффициент корреляции между отзывами пользователей и количеством продаж 3DS 0.24150411773563016\n",
      "Коэффициент корреляции между отзывами критиков и количеством продаж 3DS 0.3570566142288103\n"
     ]
    },
    {
     "data": {
      "image/png": "[encoded data removed]",
      "text/plain": [
       "<Figure size 1152x288 with 2 Axes>"
      ]
     },
     "metadata": {},
     "output_type": "display_data"
    },
    {
     "name": "stdout",
     "output_type": "stream",
     "text": [
      "Коэффициент корреляции между отзывами пользователей и количеством продаж XOne -0.06892505328279414\n",
      "Коэффициент корреляции между отзывами критиков и количеством продаж XOne 0.4169983280084017\n"
     ]
    }
   ],
   "source": [
    "#поместим игровые платформы (за исключением PS4) из топ-5 в список top_platforms_other\n",
    "top_platforms_other = ['PS3', 'X360', '3DS', 'XOne']\n",
    "#создадим собственную функцию для построения диаграмм рассеяния и расчета корреляции\n",
    "def platform_matrix(platform_name):\n",
    "    platform = data[data['platform']==platform_name]\n",
    "    fig, ax = plt.subplots(nrows=1, ncols=2, figsize=(16,4))#создаем фигуру «1×2», задаём размер\n",
    "    sns.scatterplot(x='user_score', y='total_sales', data=platform, ax=ax[0], color='green') #первый график с оценками пользователей\n",
    "    sns.scatterplot(x='critic_score', y='total_sales', data=platform, ax=ax[1], color='red') #второй график с оценками критиков\n",
    "    fig.suptitle(platform_name, fontsize=20) #указываем подзаголовок и его размер\n",
    "    ax[0].set(xlabel='Оценка пользователей') #называем оси x для каждого графика \n",
    "    ax[1].set(xlabel='Оценка критиков')\n",
    "    ax[0].set(ylabel='Количество продаж') #называем оси y для каждого графика\n",
    "    ax[1].set(ylabel='Количество продаж')\n",
    "    plt.show()\n",
    "    critic_corr = platform['critic_score'].corr(platform['total_sales']) #считаем корреляцию между оценками критиков и количеством продаж\n",
    "    user_corr = platform['user_score'].corr(platform['total_sales']) #считаем корреляцию между оценками пользователей и количеством продаж\n",
    "    print('Коэффициент корреляции между отзывами пользователей и количеством продаж', platform_name, user_corr)\n",
    "    print('Коэффициент корреляции между отзывами критиков и количеством продаж', platform_name, critic_corr)\n",
    "for platform in top_platforms_other: #выводим все графики из списка с помощью цикла\n",
    "    platform_matrix(platform)"
   ]
  },
  {
   "cell_type": "markdown",
   "metadata": {},
   "source": [
    "Сравнивая полученные данные по PS4 и остальными популярными платформами, можем сделать вывод, что результаты схожи. По остальным платформам мы так же не нашли прямой зависимости между оценками пользователей и количеством продаж (и только у платформы 3DS прослеживается очень слабая прямая зависимость). Между оценками критиков и количеством продаж наблюдается слабая положительная зависимость, наибольшая взаимосвязь прослеживается у XOne, наименьшая - у PS3. Покупатели прислушиваются больше к критикам, чем к оценкам других пользователей."
   ]
  },
  {
   "cell_type": "markdown",
   "metadata": {},
   "source": [
    "**Распределние игр по жанрам.**"
   ]
  },
  {
   "cell_type": "markdown",
   "metadata": {},
   "source": [
    "Посмотрим на общее распределение игр по жанрам. Что мы можем сказать о самых прибыльных жанрах? Выделяются ли жанры с высокими и низкими продажами?"
   ]
  },
  {
   "cell_type": "code",
   "execution_count": 25,
   "metadata": {
    "scrolled": false
   },
   "outputs": [
    {
     "data": {
      "text/plain": [
       "Action          766\n",
       "Role-Playing    292\n",
       "Adventure       245\n",
       "Sports          214\n",
       "Shooter         187\n",
       "Misc            155\n",
       "Racing           85\n",
       "Fighting         80\n",
       "Platform         74\n",
       "Simulation       62\n",
       "Strategy         56\n",
       "Puzzle           17\n",
       "Name: genre, dtype: int64"
      ]
     },
     "execution_count": 25,
     "metadata": {},
     "output_type": "execute_result"
    }
   ],
   "source": [
    "#общее распределение игр по жанрам\n",
    "data['genre'].value_counts()"
   ]
  },
  {
   "cell_type": "markdown",
   "metadata": {},
   "source": [
    "Больше всего игр выпускается в жанре экшн, он лидирует с большим отрывом, далее идет жанр ролевых игр и замыкает тройку приключения. Посмотрим, а какой жанр самый прибыльный?"
   ]
  },
  {
   "cell_type": "code",
   "execution_count": 26,
   "metadata": {},
   "outputs": [
    {
     "data": {
      "text/html": [
       "<div>\n",
       "<style scoped>\n",
       "    .dataframe tbody tr th:only-of-type {\n",
       "        vertical-align: middle;\n",
       "    }\n",
       "\n",
       "    .dataframe tbody tr th {\n",
       "        vertical-align: top;\n",
       "    }\n",
       "\n",
       "    .dataframe thead th {\n",
       "        text-align: right;\n",
       "    }\n",
       "</style>\n",
       "<table border=\"1\" class=\"dataframe\">\n",
       "  <thead>\n",
       "    <tr style=\"text-align: right;\">\n",
       "      <th></th>\n",
       "      <th>count</th>\n",
       "      <th>median</th>\n",
       "      <th>sum</th>\n",
       "    </tr>\n",
       "    <tr>\n",
       "      <th>genre</th>\n",
       "      <th></th>\n",
       "      <th></th>\n",
       "      <th></th>\n",
       "    </tr>\n",
       "  </thead>\n",
       "  <tbody>\n",
       "    <tr>\n",
       "      <th>Action</th>\n",
       "      <td>766</td>\n",
       "      <td>0.110</td>\n",
       "      <td>321.87</td>\n",
       "    </tr>\n",
       "    <tr>\n",
       "      <th>Shooter</th>\n",
       "      <td>187</td>\n",
       "      <td>0.450</td>\n",
       "      <td>232.98</td>\n",
       "    </tr>\n",
       "    <tr>\n",
       "      <th>Sports</th>\n",
       "      <td>214</td>\n",
       "      <td>0.240</td>\n",
       "      <td>150.65</td>\n",
       "    </tr>\n",
       "    <tr>\n",
       "      <th>Role-Playing</th>\n",
       "      <td>292</td>\n",
       "      <td>0.125</td>\n",
       "      <td>145.89</td>\n",
       "    </tr>\n",
       "    <tr>\n",
       "      <th>Misc</th>\n",
       "      <td>155</td>\n",
       "      <td>0.100</td>\n",
       "      <td>62.82</td>\n",
       "    </tr>\n",
       "    <tr>\n",
       "      <th>Platform</th>\n",
       "      <td>74</td>\n",
       "      <td>0.225</td>\n",
       "      <td>42.63</td>\n",
       "    </tr>\n",
       "    <tr>\n",
       "      <th>Racing</th>\n",
       "      <td>85</td>\n",
       "      <td>0.120</td>\n",
       "      <td>39.89</td>\n",
       "    </tr>\n",
       "    <tr>\n",
       "      <th>Fighting</th>\n",
       "      <td>80</td>\n",
       "      <td>0.125</td>\n",
       "      <td>35.31</td>\n",
       "    </tr>\n",
       "    <tr>\n",
       "      <th>Adventure</th>\n",
       "      <td>245</td>\n",
       "      <td>0.030</td>\n",
       "      <td>23.64</td>\n",
       "    </tr>\n",
       "    <tr>\n",
       "      <th>Simulation</th>\n",
       "      <td>62</td>\n",
       "      <td>0.100</td>\n",
       "      <td>21.76</td>\n",
       "    </tr>\n",
       "    <tr>\n",
       "      <th>Strategy</th>\n",
       "      <td>56</td>\n",
       "      <td>0.080</td>\n",
       "      <td>10.08</td>\n",
       "    </tr>\n",
       "    <tr>\n",
       "      <th>Puzzle</th>\n",
       "      <td>17</td>\n",
       "      <td>0.060</td>\n",
       "      <td>3.17</td>\n",
       "    </tr>\n",
       "  </tbody>\n",
       "</table>\n",
       "</div>"
      ],
      "text/plain": [
       "              count  median     sum\n",
       "genre                              \n",
       "Action          766   0.110  321.87\n",
       "Shooter         187   0.450  232.98\n",
       "Sports          214   0.240  150.65\n",
       "Role-Playing    292   0.125  145.89\n",
       "Misc            155   0.100   62.82\n",
       "Platform         74   0.225   42.63\n",
       "Racing           85   0.120   39.89\n",
       "Fighting         80   0.125   35.31\n",
       "Adventure       245   0.030   23.64\n",
       "Simulation       62   0.100   21.76\n",
       "Strategy         56   0.080   10.08\n",
       "Puzzle           17   0.060    3.17"
      ]
     },
     "execution_count": 26,
     "metadata": {},
     "output_type": "execute_result"
    }
   ],
   "source": [
    "#нарисуем сводную таблицу и посмотрим суммарные и медианные значения продаж\n",
    "(data\n",
    "    .pivot_table(index='genre', values='total_sales', aggfunc=('median','sum','count'))\n",
    "    .sort_values(by='sum', ascending=False)\n",
    ")"
   ]
  },
  {
   "cell_type": "markdown",
   "metadata": {},
   "source": [
    "И тут жанр экшн лидирует по количеству суммарных продаж (здесь мы можем вспомнить GTA5, который как раз относится к данному жанру), но мы не можем составить топ-жанров, учитывая общее количество продаж, такую \"кассу\" могут собрать один-два хита внутри одного жанра, а нас интересуют средние показатели распределения. Поэтому построим для наглядности график с учетом медианных показателей и сделаем итоговые выводы. "
   ]
  },
  {
   "cell_type": "code",
   "execution_count": 27,
   "metadata": {},
   "outputs": [
    {
     "data": {
      "image/png": "[encoded data removed]",
      "text/plain": [
       "<Figure size 864x360 with 1 Axes>"
      ]
     },
     "metadata": {},
     "output_type": "display_data"
    }
   ],
   "source": [
    "(data\n",
    "    .pivot_table(index='genre', values='total_sales', aggfunc='median')\n",
    "    .sort_values(by='total_sales', ascending=False)\n",
    "    .plot(kind='bar', figsize=(12, 5), color='green', grid=True)\n",
    ")\n",
    "plt.xlabel('Жанр')\n",
    "plt.ylabel('Количество проданных копий (млн)')\n",
    "plt.title('Распределние игр внутри жанров')\n",
    "plt.show()"
   ]
  },
  {
   "cell_type": "markdown",
   "metadata": {},
   "source": [
    "По медианным продажам первая **тройка лидеров** среди жанров выглядит так:\n",
    "- Shooter\n",
    "- Sports\n",
    "- Platform\n",
    "\n",
    "Самые **низкие продажи** у жанров:\n",
    "- Strategy\n",
    "- Puzzle\n",
    "- Adventure"
   ]
  },
  {
   "cell_type": "code",
   "execution_count": 28,
   "metadata": {},
   "outputs": [
    {
     "data": {
      "image/png": "[encoded data removed]",
      "text/plain": [
       "<Figure size 1440x360 with 1 Axes>"
      ]
     },
     "metadata": {},
     "output_type": "display_data"
    }
   ],
   "source": [
    "#построим диаграммы размаха по жанрам\n",
    "sns.boxplot(x='genre', y='total_sales', data=data)\n",
    "sns.set(rc={'figure.figsize':(20,5)})\n",
    "plt.xlabel('Жанр')\n",
    "plt.ylabel('Количество продаж (млн)')\n",
    "plt.title('Диаграмма размаха для продаж по жанрам')\n",
    "plt.show()"
   ]
  },
  {
   "cell_type": "code",
   "execution_count": 29,
   "metadata": {},
   "outputs": [
    {
     "data": {
      "image/png": "[encoded data removed]",
      "text/plain": [
       "<Figure size 1440x360 with 1 Axes>"
      ]
     },
     "metadata": {},
     "output_type": "display_data"
    }
   ],
   "source": [
    "#для наглядности укрупним, обрезав выбросы\n",
    "sns.boxplot(x='genre', y='total_sales', data=data)\n",
    "sns.set(rc={'figure.figsize':(20,5)})\n",
    "plt.ylim(0,2)\n",
    "plt.xlabel('Жанр')\n",
    "plt.ylabel('Количество продаж (млн)')\n",
    "plt.title('Диаграмма размаха для продаж по жанрам')\n",
    "plt.show()"
   ]
  },
  {
   "cell_type": "markdown",
   "metadata": {},
   "source": [
    "Посмотрев на выбросы, мы можем прийти к выводу, что чаще всего хитовые игры появляются в жанрах Action, Shooter, Sports и  Role-Playing и приносят больше всего суммарных продаж. Проанализировав медианные значения, мы видим, что в среднем больше продаж приносят игры в жанре Shooter при чем с большим отрывом от остальных, второе и третье место у жанра Sports и Platform соответсвенно.\n",
    "Меньше всего продаж приносят жанры Strategy, Adventure (несмотря на то, что игр в этом жанре выпускается много, видимо, подавляющее большинство из них совсем непопулярны) и Puzzle.\n",
    "\n",
    "Подводя итог, выведу свой рейтинг **Топ-5 жанров**, который в первую очередь основывается на медианных продажах, но также учитывает и суммарные продажи, то есть жанры, где чаще всего выходят хитовые игры:\n",
    "\n",
    "- Shotter\n",
    "- Sports\n",
    "- Platform\n",
    "- Role-Playing\n",
    "- Action\n",
    "\n",
    "Жанры Fighting, Racing, Misc можем отнести к стабильным, показывающим средний уровень прибыли."
   ]
  },
  {
   "cell_type": "markdown",
   "metadata": {},
   "source": [
    "**Вывод**\n",
    "\n",
    "Мы провели исследовательский анализ данных по бщему количеству продаж и пришли к следующим выводам:\n",
    "\n",
    "- актуальным периодом, на основании которого мы строим наш прогноз, будем считать последние несколько лет, а именно с 2013 по 2016 год ввиду того, что технологии быстро меняются и предпочтения тоже;\n",
    "- выяснили, что в среднем игровая платформа существует 7-10 лет, а пик приходится на первые 3-4 года;\n",
    "- лидерами по продажам мы можем назвать следующие платформы: PS4, PS3, X360, 3DS, XOne, при этом PS4 и XOne считаем потенциально самыми прибыльными\n",
    "- также выяснили, что отзывы пользователей на продажи никак не влияют, при этом отзывы критиков имеют влияние на количество продаж, однако, эта зависимость не очень сильная\n",
    "- выделили самые прибыльные жанры: Shotter, Sports, Platform, Role-Playing, Action.   \n",
    "Жанры Fighting, Racing, Misc можем отнести к стабильным, показывающим средний уровень прибыли. Strategy и Puzzle наименее популярны и приносят меньше всего прибыли."
   ]
  },
  {
   "cell_type": "markdown",
   "metadata": {},
   "source": [
    "### Портрет пользователя для каждого региона."
   ]
  },
  {
   "cell_type": "markdown",
   "metadata": {},
   "source": [
    "Определим для пользователя каждого региона (NA, EU, JP):\n",
    "- Самые популярные платформы (топ-5). Опишем различия в долях продаж.\n",
    "- Самые популярные жанры (топ-5). Поясним разницу.\n",
    "- Влияет ли рейтинг ESRB на продажи в отдельном регионе?\n"
   ]
  },
  {
   "cell_type": "markdown",
   "metadata": {},
   "source": [
    "**Топ-5 платформ для каждого региона.**"
   ]
  },
  {
   "cell_type": "code",
   "execution_count": 30,
   "metadata": {},
   "outputs": [
    {
     "data": {
      "text/plain": [
       "na_sales    437.71\n",
       "eu_sales    392.23\n",
       "jp_sales    140.78\n",
       "dtype: float64"
      ]
     },
     "execution_count": 30,
     "metadata": {},
     "output_type": "execute_result"
    }
   ],
   "source": [
    "#создадим список с регионами и посмотрим, насколько отличается общее количество продаж по регионам\n",
    "regions = ['na_sales', 'eu_sales', 'jp_sales']\n",
    "data[regions].sum()"
   ]
  },
  {
   "cell_type": "markdown",
   "metadata": {},
   "source": [
    "В Северной Америке больше всего продаж, Европа ей уступает совсем немного, доля Японии значительно меньше."
   ]
  },
  {
   "cell_type": "code",
   "execution_count": 31,
   "metadata": {},
   "outputs": [
    {
     "data": {
      "text/html": [
       "<div>\n",
       "<style scoped>\n",
       "    .dataframe tbody tr th:only-of-type {\n",
       "        vertical-align: middle;\n",
       "    }\n",
       "\n",
       "    .dataframe tbody tr th {\n",
       "        vertical-align: top;\n",
       "    }\n",
       "\n",
       "    .dataframe thead th {\n",
       "        text-align: right;\n",
       "    }\n",
       "</style>\n",
       "<table border=\"1\" class=\"dataframe\">\n",
       "  <thead>\n",
       "    <tr style=\"text-align: right;\">\n",
       "      <th></th>\n",
       "      <th>na_sales</th>\n",
       "      <th>eu_sales</th>\n",
       "      <th>jp_sales</th>\n",
       "    </tr>\n",
       "    <tr>\n",
       "      <th>platform</th>\n",
       "      <th></th>\n",
       "      <th></th>\n",
       "      <th></th>\n",
       "    </tr>\n",
       "  </thead>\n",
       "  <tbody>\n",
       "    <tr>\n",
       "      <th>PS4</th>\n",
       "      <td>108.74</td>\n",
       "      <td>141.09</td>\n",
       "      <td>15.96</td>\n",
       "    </tr>\n",
       "    <tr>\n",
       "      <th>XOne</th>\n",
       "      <td>93.12</td>\n",
       "      <td>51.59</td>\n",
       "      <td>0.34</td>\n",
       "    </tr>\n",
       "    <tr>\n",
       "      <th>X360</th>\n",
       "      <td>81.66</td>\n",
       "      <td>42.52</td>\n",
       "      <td>0.51</td>\n",
       "    </tr>\n",
       "    <tr>\n",
       "      <th>PS3</th>\n",
       "      <td>63.50</td>\n",
       "      <td>67.81</td>\n",
       "      <td>23.35</td>\n",
       "    </tr>\n",
       "    <tr>\n",
       "      <th>3DS</th>\n",
       "      <td>38.20</td>\n",
       "      <td>30.96</td>\n",
       "      <td>67.81</td>\n",
       "    </tr>\n",
       "    <tr>\n",
       "      <th>WiiU</th>\n",
       "      <td>29.21</td>\n",
       "      <td>19.85</td>\n",
       "      <td>10.88</td>\n",
       "    </tr>\n",
       "    <tr>\n",
       "      <th>PC</th>\n",
       "      <td>11.11</td>\n",
       "      <td>25.36</td>\n",
       "      <td>0.00</td>\n",
       "    </tr>\n",
       "    <tr>\n",
       "      <th>Wii</th>\n",
       "      <td>6.56</td>\n",
       "      <td>5.93</td>\n",
       "      <td>0.05</td>\n",
       "    </tr>\n",
       "    <tr>\n",
       "      <th>PSV</th>\n",
       "      <td>5.04</td>\n",
       "      <td>6.10</td>\n",
       "      <td>18.59</td>\n",
       "    </tr>\n",
       "    <tr>\n",
       "      <th>DS</th>\n",
       "      <td>0.57</td>\n",
       "      <td>0.85</td>\n",
       "      <td>0.00</td>\n",
       "    </tr>\n",
       "    <tr>\n",
       "      <th>PSP</th>\n",
       "      <td>0.00</td>\n",
       "      <td>0.17</td>\n",
       "      <td>3.29</td>\n",
       "    </tr>\n",
       "  </tbody>\n",
       "</table>\n",
       "</div>"
      ],
      "text/plain": [
       "          na_sales  eu_sales  jp_sales\n",
       "platform                              \n",
       "PS4         108.74    141.09     15.96\n",
       "XOne         93.12     51.59      0.34\n",
       "X360         81.66     42.52      0.51\n",
       "PS3          63.50     67.81     23.35\n",
       "3DS          38.20     30.96     67.81\n",
       "WiiU         29.21     19.85     10.88\n",
       "PC           11.11     25.36      0.00\n",
       "Wii           6.56      5.93      0.05\n",
       "PSV           5.04      6.10     18.59\n",
       "DS            0.57      0.85      0.00\n",
       "PSP           0.00      0.17      3.29"
      ]
     },
     "execution_count": 31,
     "metadata": {},
     "output_type": "execute_result"
    }
   ],
   "source": [
    "#сгруппируем данные по платформам и посчитаем суммарные продажи в каждом регионе, отсортируем в порядке убывания по одному из регионов\n",
    "data.groupby(['platform']).agg({'na_sales':'sum', 'eu_sales':'sum', 'jp_sales':'sum'}).sort_values(by='na_sales', ascending=False)"
   ]
  },
  {
   "cell_type": "markdown",
   "metadata": {},
   "source": [
    "Мы видим, что популярность платформ отличается в зависимости от региона, для наглядности построим круговые диаграммы по топ-5 платформ для каждого региона и сделаем выводы."
   ]
  },
  {
   "cell_type": "code",
   "execution_count": 32,
   "metadata": {},
   "outputs": [
    {
     "data": {
      "image/png": "[encoded data removed]",
      "text/plain": [
       "<Figure size 504x504 with 1 Axes>"
      ]
     },
     "metadata": {},
     "output_type": "display_data"
    },
    {
     "data": {
      "image/png": "[encoded data removed]",
      "text/plain": [
       "<Figure size 504x504 with 1 Axes>"
      ]
     },
     "metadata": {},
     "output_type": "display_data"
    },
    {
     "data": {
      "image/png": "[encoded data removed]",
      "text/plain": [
       "<Figure size 504x504 with 1 Axes>"
      ]
     },
     "metadata": {},
     "output_type": "display_data"
    }
   ],
   "source": [
    "#с помощью цикла построим круговые диаграммы для каждого региона с разбивкой на топ-5 платформ\n",
    "for region in regions:\n",
    "    (data\n",
    "         .pivot_table(index='platform', values=region, aggfunc='sum')\n",
    "         .sort_values(region,ascending=False).head(5)\n",
    "         .plot(kind='pie', y=region, autopct='%1.0f%%', title = region, figsize=(7,7))\n",
    "    )\n"
   ]
  },
  {
   "cell_type": "markdown",
   "metadata": {},
   "source": [
    "Итак, что мы можем сказать о топ-5 платформ по каждому региону?\n",
    "Для Северной Америки и Европы топ-5 состоит из одинаковых платформ, но они имеют разное процентное распределение. В Северной Америке наибольшую популярность имеет платформа PS4, следом идет XOne с небольшим отрывом, в Европе платформа PS4 уверенно лидирует, второе место занимает PS3. А вот специфика Японии совсем иная, там почти 50% от всех продаж приходится на 3DS, также в топе Японии присутствует платформа PSV и WiiU, которых нет в топ-5 платформ Америки и Европы."
   ]
  },
  {
   "cell_type": "markdown",
   "metadata": {},
   "source": [
    "**Топ-5 жанров для каждого региона.**"
   ]
  },
  {
   "cell_type": "code",
   "execution_count": 33,
   "metadata": {},
   "outputs": [
    {
     "data": {
      "text/html": [
       "<div>\n",
       "<style scoped>\n",
       "    .dataframe tbody tr th:only-of-type {\n",
       "        vertical-align: middle;\n",
       "    }\n",
       "\n",
       "    .dataframe tbody tr th {\n",
       "        vertical-align: top;\n",
       "    }\n",
       "\n",
       "    .dataframe thead th {\n",
       "        text-align: right;\n",
       "    }\n",
       "</style>\n",
       "<table border=\"1\" class=\"dataframe\">\n",
       "  <thead>\n",
       "    <tr style=\"text-align: right;\">\n",
       "      <th></th>\n",
       "      <th>na_sales</th>\n",
       "      <th>eu_sales</th>\n",
       "      <th>jp_sales</th>\n",
       "    </tr>\n",
       "    <tr>\n",
       "      <th>genre</th>\n",
       "      <th></th>\n",
       "      <th></th>\n",
       "      <th></th>\n",
       "    </tr>\n",
       "  </thead>\n",
       "  <tbody>\n",
       "    <tr>\n",
       "      <th>Action</th>\n",
       "      <td>126.05</td>\n",
       "      <td>118.13</td>\n",
       "      <td>40.49</td>\n",
       "    </tr>\n",
       "    <tr>\n",
       "      <th>Shooter</th>\n",
       "      <td>109.74</td>\n",
       "      <td>87.86</td>\n",
       "      <td>6.61</td>\n",
       "    </tr>\n",
       "    <tr>\n",
       "      <th>Sports</th>\n",
       "      <td>65.27</td>\n",
       "      <td>60.52</td>\n",
       "      <td>5.41</td>\n",
       "    </tr>\n",
       "    <tr>\n",
       "      <th>Role-Playing</th>\n",
       "      <td>46.40</td>\n",
       "      <td>36.97</td>\n",
       "      <td>51.04</td>\n",
       "    </tr>\n",
       "    <tr>\n",
       "      <th>Misc</th>\n",
       "      <td>27.49</td>\n",
       "      <td>20.04</td>\n",
       "      <td>9.20</td>\n",
       "    </tr>\n",
       "    <tr>\n",
       "      <th>Platform</th>\n",
       "      <td>18.14</td>\n",
       "      <td>15.58</td>\n",
       "      <td>4.79</td>\n",
       "    </tr>\n",
       "    <tr>\n",
       "      <th>Fighting</th>\n",
       "      <td>15.55</td>\n",
       "      <td>8.55</td>\n",
       "      <td>7.65</td>\n",
       "    </tr>\n",
       "    <tr>\n",
       "      <th>Racing</th>\n",
       "      <td>12.96</td>\n",
       "      <td>20.19</td>\n",
       "      <td>2.30</td>\n",
       "    </tr>\n",
       "    <tr>\n",
       "      <th>Adventure</th>\n",
       "      <td>7.14</td>\n",
       "      <td>8.25</td>\n",
       "      <td>5.82</td>\n",
       "    </tr>\n",
       "    <tr>\n",
       "      <th>Simulation</th>\n",
       "      <td>4.86</td>\n",
       "      <td>10.92</td>\n",
       "      <td>4.52</td>\n",
       "    </tr>\n",
       "    <tr>\n",
       "      <th>Strategy</th>\n",
       "      <td>3.28</td>\n",
       "      <td>4.22</td>\n",
       "      <td>1.77</td>\n",
       "    </tr>\n",
       "    <tr>\n",
       "      <th>Puzzle</th>\n",
       "      <td>0.83</td>\n",
       "      <td>1.00</td>\n",
       "      <td>1.18</td>\n",
       "    </tr>\n",
       "  </tbody>\n",
       "</table>\n",
       "</div>"
      ],
      "text/plain": [
       "              na_sales  eu_sales  jp_sales\n",
       "genre                                     \n",
       "Action          126.05    118.13     40.49\n",
       "Shooter         109.74     87.86      6.61\n",
       "Sports           65.27     60.52      5.41\n",
       "Role-Playing     46.40     36.97     51.04\n",
       "Misc             27.49     20.04      9.20\n",
       "Platform         18.14     15.58      4.79\n",
       "Fighting         15.55      8.55      7.65\n",
       "Racing           12.96     20.19      2.30\n",
       "Adventure         7.14      8.25      5.82\n",
       "Simulation        4.86     10.92      4.52\n",
       "Strategy          3.28      4.22      1.77\n",
       "Puzzle            0.83      1.00      1.18"
      ]
     },
     "execution_count": 33,
     "metadata": {},
     "output_type": "execute_result"
    }
   ],
   "source": [
    "#сгруппируем данные по жанру и посчитаем общую колличество продаж для каждого региона\n",
    "data.groupby(['genre']).agg({'na_sales':'sum', 'eu_sales':'sum', 'jp_sales':'sum'}).sort_values(by='na_sales', ascending=False)"
   ]
  },
  {
   "cell_type": "markdown",
   "metadata": {},
   "source": [
    "По суммарным продажам В Северной Америке и Европе лидирует жанр Action и Shooter, а в Японии - Role-Playing и Action. Но окончательные выводы по популярным жанрам, мы будем делать по медиане, а не суммарным значениям. Построим графики для наглядности."
   ]
  },
  {
   "cell_type": "code",
   "execution_count": 34,
   "metadata": {
    "scrolled": false
   },
   "outputs": [
    {
     "data": {
      "image/png": "[encoded data removed]",
      "text/plain": [
       "<Figure size 720x360 with 1 Axes>"
      ]
     },
     "metadata": {},
     "output_type": "display_data"
    },
    {
     "data": {
      "image/png": "[encoded data removed]",
      "text/plain": [
       "<Figure size 720x360 with 1 Axes>"
      ]
     },
     "metadata": {},
     "output_type": "display_data"
    },
    {
     "data": {
      "image/png": "[encoded data removed]",
      "text/plain": [
       "<Figure size 720x360 with 1 Axes>"
      ]
     },
     "metadata": {},
     "output_type": "display_data"
    }
   ],
   "source": [
    "for region in regions:\n",
    "    (data\n",
    "         .pivot_table(index='genre', values=region, aggfunc='median')\n",
    "         .sort_values(region,ascending=False).head(5)\n",
    "         .plot(kind='bar', y=region, title=region, figsize=(10,5), color=['green','orange','red','brown','purple'])\n",
    "    )\n",
    "    plt.xlabel('Жанр')\n",
    "    plt.ylabel('Количество продаж')"
   ]
  },
  {
   "cell_type": "markdown",
   "metadata": {},
   "source": [
    "Мы построили графики и выяснили, что в каждом регионе есть своя специфика и лидеры среди жанров, опять же мы видим, что в Северной Америке и Европе ситуация схожа по лидерам, а в Японии сильно отличается:\n",
    "\n",
    "**Северная Америка**\n",
    "- Shooter (лидирует с большим отрывом)\n",
    "- Platform \n",
    "- Sports\n",
    "- Fighting\n",
    "- Racing\n",
    "\n",
    "**Европа**\n",
    "- Shooter (так же в лидерах с большим преимуществом)\n",
    "- Platform\n",
    "- Racing\n",
    "- Sports\n",
    "- Simulation\n",
    "\n",
    "**Япония**\n",
    "- Role-Playing (лидер с большим отрывом)\n",
    "- Fighting\n",
    "- Misc\n",
    "- Puzzle\n",
    "- Action\n",
    "\n",
    "Лидеры жанров были выведены по медианным значениям, но не стоит забывать, что по суммарным значениям В Америке и Европе лидирует жанр Action и Shooter, а в Японии - Role-Playing и Action."
   ]
  },
  {
   "cell_type": "markdown",
   "metadata": {},
   "source": [
    "**Влияет ли рейтинг ESRB на продажи в отдельном регионе?**"
   ]
  },
  {
   "cell_type": "code",
   "execution_count": 35,
   "metadata": {},
   "outputs": [
    {
     "data": {
      "text/plain": [
       "unknown    977\n",
       "M          369\n",
       "T          333\n",
       "E          302\n",
       "E10+       252\n",
       "Name: rating, dtype: int64"
      ]
     },
     "execution_count": 35,
     "metadata": {},
     "output_type": "execute_result"
    }
   ],
   "source": [
    "#посмотрим уникальные значения в столбце рейтинг и как они распределены\n",
    "data['rating'].value_counts()"
   ]
  },
  {
   "cell_type": "markdown",
   "metadata": {},
   "source": [
    "**Расшифровка рейтинга ESRB:**\n",
    "- «E» («Everyone») — «Для всех»\n",
    "- «E10+» («Everyone 10 and older») — «Для лиц старше 10 лет»\n",
    "- «T» («Teen») — «Для лиц старше 13 лет»\n",
    "- «M» («Mature») — «От 17 лет»\n",
    "- unknown - категория не определена"
   ]
  },
  {
   "cell_type": "code",
   "execution_count": 36,
   "metadata": {},
   "outputs": [
    {
     "data": {
      "text/html": [
       "<div>\n",
       "<style scoped>\n",
       "    .dataframe tbody tr th:only-of-type {\n",
       "        vertical-align: middle;\n",
       "    }\n",
       "\n",
       "    .dataframe tbody tr th {\n",
       "        vertical-align: top;\n",
       "    }\n",
       "\n",
       "    .dataframe thead th {\n",
       "        text-align: right;\n",
       "    }\n",
       "</style>\n",
       "<table border=\"1\" class=\"dataframe\">\n",
       "  <thead>\n",
       "    <tr style=\"text-align: right;\">\n",
       "      <th></th>\n",
       "      <th>na_sales</th>\n",
       "      <th>eu_sales</th>\n",
       "      <th>jp_sales</th>\n",
       "    </tr>\n",
       "    <tr>\n",
       "      <th>rating</th>\n",
       "      <th></th>\n",
       "      <th></th>\n",
       "      <th></th>\n",
       "    </tr>\n",
       "  </thead>\n",
       "  <tbody>\n",
       "    <tr>\n",
       "      <th>M</th>\n",
       "      <td>165.21</td>\n",
       "      <td>145.32</td>\n",
       "      <td>14.11</td>\n",
       "    </tr>\n",
       "    <tr>\n",
       "      <th>unknown</th>\n",
       "      <td>89.42</td>\n",
       "      <td>78.91</td>\n",
       "      <td>85.05</td>\n",
       "    </tr>\n",
       "    <tr>\n",
       "      <th>E</th>\n",
       "      <td>79.05</td>\n",
       "      <td>83.36</td>\n",
       "      <td>15.14</td>\n",
       "    </tr>\n",
       "    <tr>\n",
       "      <th>E10+</th>\n",
       "      <td>54.24</td>\n",
       "      <td>42.69</td>\n",
       "      <td>5.89</td>\n",
       "    </tr>\n",
       "    <tr>\n",
       "      <th>T</th>\n",
       "      <td>49.79</td>\n",
       "      <td>41.95</td>\n",
       "      <td>20.59</td>\n",
       "    </tr>\n",
       "  </tbody>\n",
       "</table>\n",
       "</div>"
      ],
      "text/plain": [
       "         na_sales  eu_sales  jp_sales\n",
       "rating                               \n",
       "M          165.21    145.32     14.11\n",
       "unknown     89.42     78.91     85.05\n",
       "E           79.05     83.36     15.14\n",
       "E10+        54.24     42.69      5.89\n",
       "T           49.79     41.95     20.59"
      ]
     },
     "execution_count": 36,
     "metadata": {},
     "output_type": "execute_result"
    }
   ],
   "source": [
    "#сгруппируем данные по каждому региону\n",
    "data.groupby(['rating']).agg({'na_sales':'sum', 'eu_sales':'sum', 'jp_sales':'sum'}).sort_values(by='na_sales', ascending=False)"
   ]
  },
  {
   "cell_type": "code",
   "execution_count": 37,
   "metadata": {},
   "outputs": [
    {
     "data": {
      "image/png": "[encoded data removed]",
      "text/plain": [
       "<Figure size 504x504 with 1 Axes>"
      ]
     },
     "metadata": {},
     "output_type": "display_data"
    },
    {
     "data": {
      "image/png": "[encoded data removed]",
      "text/plain": [
       "<Figure size 504x504 with 1 Axes>"
      ]
     },
     "metadata": {},
     "output_type": "display_data"
    },
    {
     "data": {
      "image/png": "[encoded data removed]",
      "text/plain": [
       "<Figure size 504x504 with 1 Axes>"
      ]
     },
     "metadata": {},
     "output_type": "display_data"
    }
   ],
   "source": [
    "#построим круговые диграммы и посмотрим распределение в % соотношении по каждому региону\n",
    "for region in regions:\n",
    "    (data\n",
    "         .pivot_table(index='rating', values=region, aggfunc='sum')\n",
    "         .sort_values(region,ascending=False)\n",
    "         .plot(kind='pie', y=region, autopct='%1.0f%%', title = region, figsize=(7,7))\n",
    "    )"
   ]
  },
  {
   "cell_type": "markdown",
   "metadata": {},
   "source": [
    "В Северной Америке и Европе ситуация по рейтингам схожая, 37-38% от всех продаж приходится на игры для взрослых в категории 17+, на втором и третьем местах игры либо без категории, либо с категорией \"для всех\", меньше всего продаж игр в категории для детей и подростков.\n",
    "\n",
    "В Японии подавляющее большинство игр , а именно 60% от всех продаж, без категории, следом идут игры для подростков, далее категории \"для всех\" и для лиц старше 17 лет (они имеют примерно одинаковое соотношение 10-11%), меньше всего игр продаются для детей в категории 10+. "
   ]
  },
  {
   "cell_type": "markdown",
   "metadata": {},
   "source": [
    "**Итоговый портрет пользователей по каждому региону.**\n",
    "\n",
    "Портреты пользователей **Америки и Европы** очень схожи:\n",
    "\n",
    "- Самой популярной платформой является PS4 (но в Европе она лидирует с большим отрывом от остальных), замыкает топ-5 платформа 3DS, между ними показывают хорошие продажи игры для платформ (с небольшой разницей в распределении): XOne, PS3 и X360\n",
    "- Наиболее популярными являются жанры Shooter и Platform. В Америке также в топ-5 входят жанры Sports, Fighting, Racing, а в Европе- Racing, Sports, Simulation. Но по суммарным продажам лидирует жанр Action благодаря мегахиту GTA5.\n",
    "- Что касается возрастных ограничений, большая доля продаж приходится на рейтинг M (Mature 17+) — от 17 лет, далее по популярности рейтинг \"для всех\" и \"не определен\", меньше всего продаж в категории для детей и подростков.\n",
    "\n",
    "Портрет пользователей **Японии** значительно отличается:\n",
    "\n",
    "- Самой популярной платформой с большим отрывом от остальных стала 3Ds от Nintendo, также в топ-5 вошли: PS3, PSV, PS4 и WiiU\n",
    "- Из жанров с большим преимуществом лидирует Role-Playing, следом идут: Fighting, Misc, Puzzle и Action (занимает второе место по суммарным продажам)\n",
    "- Большинство игр продается без указания возрастной категории, следом идут игры для подростков, далее категория \"для всех\" и для лиц старше 17 лет (они имеют примерно одинаковое соотношение 10-11%), меньше всего игр продаются для детей в категории 10+"
   ]
  },
  {
   "cell_type": "markdown",
   "metadata": {},
   "source": [
    "### Проверка гипотез."
   ]
  },
  {
   "cell_type": "markdown",
   "metadata": {},
   "source": [
    "**Проверим две гипотезы:**\n",
    "- Средние пользовательские рейтинги платформ Xbox One и PC одинаковые;\n",
    "- Средние пользовательские рейтинги жанров Action (англ. «действие», экшен-игры) и Sports (англ. «спортивные соревнования») разные."
   ]
  },
  {
   "cell_type": "markdown",
   "metadata": {},
   "source": [
    "**Средние пользовательские рейтинги платформ Xbox One и PC одинаковые**\n",
    "\n",
    "- H0: Средние пользовательские рейтинги платформ Xbox One и PC одинаковые.\n",
    "- H1: Средние пользовательские рейтинги платформ Xbox One и PC различаются.\n"
   ]
  },
  {
   "cell_type": "code",
   "execution_count": 38,
   "metadata": {},
   "outputs": [
    {
     "name": "stdout",
     "output_type": "stream",
     "text": [
      "Дисперсия по XOne 1.8965188383045526\n",
      "Дисперсия по PC 3.016306347554631\n"
     ]
    }
   ],
   "source": [
    "#сохраним данные по платформам в две переменные XOne и PC\n",
    "xone = data.loc[(data['platform']=='XOne')&(data['user_score'].notna()), 'user_score']\n",
    "pc = data.loc[(data['platform']=='PC')&(data['user_score'].notna()), 'user_score']\n",
    "#чтобы нам понимать, какое значение присваивать аргументу equal_var , проверим равны ли дисперсии выборок\n",
    "print(\"Дисперсия по XOne\",np.var(xone))\n",
    "print(\"Дисперсия по PC\",np.var(pc))"
   ]
  },
  {
   "cell_type": "code",
   "execution_count": 39,
   "metadata": {},
   "outputs": [
    {
     "name": "stdout",
     "output_type": "stream",
     "text": [
      "р-значение 0.14759594013430463\n",
      "Не получилось отвергнуть нулевую гипотезу\n"
     ]
    }
   ],
   "source": [
    "#для проверки гипотезы о равенстве средних надо использовать ttest_ind()\n",
    "alpha=0.01 #если p-value окажется меньше, отвергнем гипотезу\n",
    "results = st.ttest_ind(xone, pc, equal_var=False)\n",
    "print('р-значение', results.pvalue)\n",
    "if results.pvalue<alpha:\n",
    "    print('Отвергаем нулевую гипотезу')\n",
    "else:\n",
    "    print('Не получилось отвергнуть нулевую гипотезу')"
   ]
  },
  {
   "cell_type": "markdown",
   "metadata": {},
   "source": [
    "Мы не смогли отвергнуть нулевую гипотезу, а значит нет оснований утверждать, что средние пользовательские рейтинги платформ Xbox One и PC значимо различаются."
   ]
  },
  {
   "cell_type": "markdown",
   "metadata": {},
   "source": [
    "**Средние пользовательские рейтинги жанров Action (англ. «действие», экшен-игры) и Sports (англ. «спортивные соревнования») разные.**\n",
    "- H0: Средние пользовательские рейтинги жанров Action и Sports одинаковые.\n",
    "- H1: Средние пользовательские рейтинги жанров Action и Sports различаются."
   ]
  },
  {
   "cell_type": "code",
   "execution_count": 40,
   "metadata": {},
   "outputs": [
    {
     "name": "stdout",
     "output_type": "stream",
     "text": [
      "Дисперсия по жанру Action 1.7648124186332366\n",
      "Дисперсия по жанру Sports 3.160733984375\n"
     ]
    }
   ],
   "source": [
    "#сохраним данные по жанрам в две переменные action и sports\n",
    "action= data.loc[(data['genre']=='Action')&(data['user_score'].notna()), 'user_score']\n",
    "sports = data.loc[(data['genre']=='Sports')&(data['user_score'].notna()), 'user_score']\n",
    "#чтобы нам понимать, какое значение присваивать аргументу equal_var , проверим равны ли дисперсии выборок\n",
    "print(\"Дисперсия по жанру Action\",np.var(action))\n",
    "print(\"Дисперсия по жанру Sports\",np.var(sports))"
   ]
  },
  {
   "cell_type": "code",
   "execution_count": 41,
   "metadata": {},
   "outputs": [
    {
     "name": "stdout",
     "output_type": "stream",
     "text": [
      "р-значение 1.4460039700704315e-20\n",
      "Отвергаем нулевую гипотезу\n"
     ]
    }
   ],
   "source": [
    "#для проверки гипотезы о равенстве средних надо использовать ttest_ind()\n",
    "alpha=0.01 #если p-value окажется меньше, отвергнем гипотезу\n",
    "results = st.ttest_ind(action, sports, equal_var=False)\n",
    "print('р-значение', results.pvalue)\n",
    "if results.pvalue<alpha:\n",
    "    print('Отвергаем нулевую гипотезу')\n",
    "else:\n",
    "    print('Не получилось отвергнуть нулевую гипотезу')"
   ]
  },
  {
   "cell_type": "markdown",
   "metadata": {},
   "source": [
    "Нулевая гипотеза о равенстве средних оценок жанров Action и Sports отвергается."
   ]
  },
  {
   "cell_type": "markdown",
   "metadata": {},
   "source": [
    "### Общий вывод."
   ]
  },
  {
   "cell_type": "markdown",
   "metadata": {},
   "source": [
    "Нами было проведено масштабное исследование рынка игровой индустрии для прогнозирования наиболее прибыльных ниш на 2017 год.  Мы смогли выявить определяющие успешность игры закономерности, что позволит сделать ставку на потенциально популярный продукт и спланировать рекламные кампании.\n",
    "\n",
    "**Подведем итоговые результаты и дадим рекомендации.**\n",
    "\n",
    "- Мы выяснили, что пик популярности игр и бум выпуска новых приходился на 2007-2011 гг, после чего видим снижение. Развитие технологий и перенасыщенность рынка привели к тому, что главным фактором стало качество выпускаемых игр, а не их количество (что требует гораздо больше времени), а также фокус внимания сместился на мобильную индустрию и развитие игр на смартфонах.\n",
    "- Актуальным периодом, на основании которого мы строим прогнозы на 2017 год, установили 2013 - 2016 гг, в данной индустрии все стремительно меняется и мы не можем основываться на данных старше 3 лет.\n",
    "- Выяснили, что в среднем игровая платформа существует 7-10 лет, а пик приходится на первые 3-4 года\n",
    "- В период за 2013-2016 гг лидерами по продажам являются следующие платформы: PS4, PS3, X360, 3DS, XOne. \n",
    "\n",
    "На конец 2015 года мы видим две лидирующие и перспективные платформы, которые показывают рост , они вышли на рынок относительно недавно - это PS4 и XOne, их можно считать потенциально самыми прибыльными.\n",
    "- Также выяснили, что отзывы пользователей на продажи никак не влияют, при этом отзывы критиков имеют влияние на количество продаж, однако, эта зависимость не очень сильная.\n",
    "- Стабильно самыми прибыльными жанрами являются Shotter, Sports, Platform, а также Role-Playing. Но стоит обратить внимание на жанр Action, игры в котором в среднем не показывают выдающихся результатов, но суммарные продажи лидируют с большим отрывом благодаря топовым играм, которые выходят в этом жанре.\n",
    "- Регионы Северная Америка и Европа очень схожи по своим предпочтениям по жанрам игр и платформам, Япония от них существенно отличается.\n",
    "- Больше всего продаж приходится на игры с рейтингом для взрослых и для всех.\n",
    "- Япония – отдельный рынок с уклоном в портативные консоли и ролевые игры. Объём продаж в этой стране в 2.5 раза меньше показателей Европы и Америки.\n",
    "\n",
    "**Рекомендации.**\n",
    "Основное, что мы предлагаем - принять разные стратегии по повышению продаж в регионах в зависимости от портрета среднестатистического пользователя каждого региона.\n",
    "\n",
    "- Планируя рекламную кампанию на следующий год, стоит уделить особое внимание играм следующих жанров:\n",
    "\n",
    "**Shooter** По ним наблюдаются самые высокие средние продажи в Северной Америке и Европе\n",
    "\n",
    "**Action** В данном жанре мы видим максимальные суммарные продажи по всем регионам, но средние продажи довольно посредственные.  Но именно в этом жанре с большей вероятностью могут появится игры-хиты, например, новая часть GTA.\n",
    "\n",
    "**Sports** Стабильные суммарные и средние продажи в Европе и Америке.\n",
    "\n",
    "**Role-Playing** Высокие продажи в Японии , стабильные продажи в Америке и Европе.\n",
    "\n",
    "- Касаемо платформ, имеет смысл сосредоточиться на следующих потенциально прибыльных:\n",
    "\n",
    "**PS4** Новинка, находится на взлёте. Популярна во всех регионах.\n",
    "\n",
    "**Xbox One** Новинка, также на взлёте. Популярна в Америке и Европе.\n",
    "\n",
    "**3DS** В случае отдельной рекламной кампании для Японии. \n",
    "\n",
    "- При планировании рекламной кампании учитывать отзывы пользователей и критиков смысла большого нет, связь между отзывами и продажами либо не была выявлена, либо была довольно слабой.\n",
    "- Учитывать, что в Европе и Америке больше всего продаж игр в категории 17+, в Японии большинство же игр продает без указания возрастной категории.\n"
   ]
  }
 ],
 "metadata": {
  "ExecuteTimeLog": [
   {
    "duration": 1346,
    "start_time": "2022-10-31T14:17:09.669Z"
   },
   {
    "duration": 63,
    "start_time": "2022-10-31T14:17:35.252Z"
   },
   {
    "duration": 49,
    "start_time": "2022-10-31T14:24:30.806Z"
   },
   {
    "duration": 311,
    "start_time": "2022-10-31T16:15:05.157Z"
   },
   {
    "duration": 3,
    "start_time": "2022-10-31T16:19:24.030Z"
   },
   {
    "duration": 14,
    "start_time": "2022-10-31T16:19:39.805Z"
   },
   {
    "duration": 8,
    "start_time": "2022-10-31T16:25:36.796Z"
   },
   {
    "duration": 16,
    "start_time": "2022-10-31T16:31:26.206Z"
   },
   {
    "duration": 22,
    "start_time": "2022-10-31T16:31:43.823Z"
   },
   {
    "duration": 9,
    "start_time": "2022-10-31T16:32:20.369Z"
   },
   {
    "duration": 9,
    "start_time": "2022-10-31T16:32:59.965Z"
   },
   {
    "duration": 7,
    "start_time": "2022-10-31T16:33:53.004Z"
   },
   {
    "duration": 8,
    "start_time": "2022-10-31T16:34:36.405Z"
   },
   {
    "duration": 7,
    "start_time": "2022-10-31T16:35:08.307Z"
   },
   {
    "duration": 5,
    "start_time": "2022-10-31T16:50:02.092Z"
   },
   {
    "duration": 9,
    "start_time": "2022-10-31T16:53:48.402Z"
   },
   {
    "duration": 674,
    "start_time": "2022-10-31T16:55:20.970Z"
   },
   {
    "duration": 5,
    "start_time": "2022-10-31T16:58:00.232Z"
   },
   {
    "duration": 6,
    "start_time": "2022-10-31T16:59:35.771Z"
   },
   {
    "duration": 5,
    "start_time": "2022-10-31T16:59:47.845Z"
   },
   {
    "duration": 8,
    "start_time": "2022-10-31T17:00:26.800Z"
   },
   {
    "duration": 8,
    "start_time": "2022-10-31T17:00:37.992Z"
   },
   {
    "duration": 5,
    "start_time": "2022-10-31T17:00:46.357Z"
   },
   {
    "duration": 7,
    "start_time": "2022-10-31T17:03:41.049Z"
   },
   {
    "duration": 5,
    "start_time": "2022-10-31T17:04:01.848Z"
   },
   {
    "duration": 62,
    "start_time": "2022-10-31T17:40:43.139Z"
   },
   {
    "duration": 36,
    "start_time": "2022-10-31T17:40:46.320Z"
   },
   {
    "duration": 13,
    "start_time": "2022-10-31T17:40:51.043Z"
   },
   {
    "duration": 8,
    "start_time": "2022-10-31T17:40:53.563Z"
   },
   {
    "duration": 8,
    "start_time": "2022-10-31T17:40:57.029Z"
   },
   {
    "duration": 5,
    "start_time": "2022-10-31T17:40:59.591Z"
   },
   {
    "duration": 4,
    "start_time": "2022-10-31T17:41:01.423Z"
   },
   {
    "duration": 5,
    "start_time": "2022-10-31T17:41:02.886Z"
   },
   {
    "duration": 6,
    "start_time": "2022-10-31T17:49:53.511Z"
   },
   {
    "duration": 8,
    "start_time": "2022-10-31T17:50:11.801Z"
   },
   {
    "duration": 8,
    "start_time": "2022-10-31T17:50:48.351Z"
   },
   {
    "duration": 13,
    "start_time": "2022-10-31T17:50:51.700Z"
   },
   {
    "duration": 7,
    "start_time": "2022-10-31T17:51:35.577Z"
   },
   {
    "duration": 16,
    "start_time": "2022-10-31T17:57:09.462Z"
   },
   {
    "duration": 43,
    "start_time": "2022-10-31T19:41:50.795Z"
   },
   {
    "duration": 897,
    "start_time": "2022-10-31T19:41:57.369Z"
   },
   {
    "duration": 36,
    "start_time": "2022-10-31T19:42:01.551Z"
   },
   {
    "duration": 20,
    "start_time": "2022-10-31T19:42:05.976Z"
   },
   {
    "duration": 8,
    "start_time": "2022-10-31T19:42:09.380Z"
   },
   {
    "duration": 9,
    "start_time": "2022-10-31T19:42:15.744Z"
   },
   {
    "duration": 5,
    "start_time": "2022-10-31T19:42:17.539Z"
   },
   {
    "duration": 5,
    "start_time": "2022-10-31T19:42:18.739Z"
   },
   {
    "duration": 4,
    "start_time": "2022-10-31T19:42:21.308Z"
   },
   {
    "duration": 11,
    "start_time": "2022-10-31T19:42:22.775Z"
   },
   {
    "duration": 14,
    "start_time": "2022-10-31T19:42:27.182Z"
   },
   {
    "duration": 13,
    "start_time": "2022-10-31T19:42:45.028Z"
   },
   {
    "duration": 4,
    "start_time": "2022-10-31T19:52:09.597Z"
   },
   {
    "duration": 13,
    "start_time": "2022-10-31T19:52:22.810Z"
   },
   {
    "duration": 17,
    "start_time": "2022-10-31T21:24:16.575Z"
   },
   {
    "duration": 1144,
    "start_time": "2022-11-01T12:28:41.011Z"
   },
   {
    "duration": 44,
    "start_time": "2022-11-01T12:28:44.805Z"
   },
   {
    "duration": 16,
    "start_time": "2022-11-01T12:28:50.024Z"
   },
   {
    "duration": 9,
    "start_time": "2022-11-01T12:28:52.741Z"
   },
   {
    "duration": 14,
    "start_time": "2022-11-01T12:28:55.417Z"
   },
   {
    "duration": 7,
    "start_time": "2022-11-01T12:28:57.952Z"
   },
   {
    "duration": 6,
    "start_time": "2022-11-01T12:29:01.210Z"
   },
   {
    "duration": 6,
    "start_time": "2022-11-01T12:29:03.272Z"
   },
   {
    "duration": 15,
    "start_time": "2022-11-01T12:29:05.279Z"
   },
   {
    "duration": 19,
    "start_time": "2022-11-01T12:29:07.622Z"
   },
   {
    "duration": 21,
    "start_time": "2022-11-01T12:29:10.083Z"
   },
   {
    "duration": 6,
    "start_time": "2022-11-01T12:36:53.576Z"
   },
   {
    "duration": 289,
    "start_time": "2022-11-01T12:41:14.361Z"
   },
   {
    "duration": 289,
    "start_time": "2022-11-01T12:56:35.646Z"
   },
   {
    "duration": 353,
    "start_time": "2022-11-01T12:58:14.741Z"
   },
   {
    "duration": 288,
    "start_time": "2022-11-01T12:58:23.062Z"
   },
   {
    "duration": 285,
    "start_time": "2022-11-01T12:58:29.888Z"
   },
   {
    "duration": 292,
    "start_time": "2022-11-01T12:58:40.870Z"
   },
   {
    "duration": 8,
    "start_time": "2022-11-01T13:06:34.676Z"
   },
   {
    "duration": 23,
    "start_time": "2022-11-01T13:44:38.147Z"
   },
   {
    "duration": 20,
    "start_time": "2022-11-01T13:45:32.050Z"
   },
   {
    "duration": 8,
    "start_time": "2022-11-01T13:46:24.980Z"
   },
   {
    "duration": 15,
    "start_time": "2022-11-01T14:00:44.475Z"
   },
   {
    "duration": 17,
    "start_time": "2022-11-01T14:03:03.212Z"
   },
   {
    "duration": 93,
    "start_time": "2022-11-01T14:03:41.994Z"
   },
   {
    "duration": 23,
    "start_time": "2022-11-01T14:04:11.779Z"
   },
   {
    "duration": 17,
    "start_time": "2022-11-01T14:04:40.756Z"
   },
   {
    "duration": 12,
    "start_time": "2022-11-01T14:41:19.998Z"
   },
   {
    "duration": 14,
    "start_time": "2022-11-01T14:41:30.459Z"
   },
   {
    "duration": 22,
    "start_time": "2022-11-01T14:41:38.082Z"
   },
   {
    "duration": 18,
    "start_time": "2022-11-01T14:43:01.739Z"
   },
   {
    "duration": 1129,
    "start_time": "2022-11-01T14:48:58.055Z"
   },
   {
    "duration": 8,
    "start_time": "2022-11-01T14:49:30.556Z"
   },
   {
    "duration": 1287,
    "start_time": "2022-11-01T14:50:00.891Z"
   },
   {
    "duration": 6,
    "start_time": "2022-11-01T15:06:03.845Z"
   },
   {
    "duration": 18,
    "start_time": "2022-11-01T15:07:03.268Z"
   },
   {
    "duration": 5,
    "start_time": "2022-11-01T15:07:41.742Z"
   },
   {
    "duration": 8,
    "start_time": "2022-11-01T15:25:23.267Z"
   },
   {
    "duration": 19,
    "start_time": "2022-11-01T15:25:32.758Z"
   },
   {
    "duration": 5,
    "start_time": "2022-11-01T15:25:36.207Z"
   },
   {
    "duration": 21,
    "start_time": "2022-11-01T15:28:17.465Z"
   },
   {
    "duration": 191,
    "start_time": "2022-11-01T15:28:45.017Z"
   },
   {
    "duration": 316,
    "start_time": "2022-11-01T15:29:51.792Z"
   },
   {
    "duration": 245,
    "start_time": "2022-11-01T15:41:23.275Z"
   },
   {
    "duration": 4,
    "start_time": "2022-11-01T16:16:06.146Z"
   },
   {
    "duration": 66,
    "start_time": "2022-11-01T16:20:58.852Z"
   },
   {
    "duration": 45,
    "start_time": "2022-11-01T16:21:02.348Z"
   },
   {
    "duration": 23,
    "start_time": "2022-11-01T16:21:06.751Z"
   },
   {
    "duration": 15,
    "start_time": "2022-11-01T16:21:09.186Z"
   },
   {
    "duration": 11,
    "start_time": "2022-11-01T16:21:11.569Z"
   },
   {
    "duration": 6,
    "start_time": "2022-11-01T16:21:14.404Z"
   },
   {
    "duration": 6,
    "start_time": "2022-11-01T16:21:16.808Z"
   },
   {
    "duration": 6,
    "start_time": "2022-11-01T16:21:19.036Z"
   },
   {
    "duration": 16,
    "start_time": "2022-11-01T16:21:20.935Z"
   },
   {
    "duration": 19,
    "start_time": "2022-11-01T16:21:23.328Z"
   },
   {
    "duration": 19,
    "start_time": "2022-11-01T16:21:25.657Z"
   },
   {
    "duration": 367,
    "start_time": "2022-11-01T16:21:28.588Z"
   },
   {
    "duration": 18,
    "start_time": "2022-11-01T16:21:38.221Z"
   },
   {
    "duration": 5,
    "start_time": "2022-11-01T16:21:47.153Z"
   },
   {
    "duration": 258,
    "start_time": "2022-11-01T16:24:39.159Z"
   },
   {
    "duration": 253,
    "start_time": "2022-11-01T16:26:42.441Z"
   },
   {
    "duration": 255,
    "start_time": "2022-11-01T16:26:51.062Z"
   },
   {
    "duration": 262,
    "start_time": "2022-11-01T16:29:20.225Z"
   },
   {
    "duration": 234,
    "start_time": "2022-11-01T16:29:33.897Z"
   },
   {
    "duration": 271,
    "start_time": "2022-11-01T16:29:53.685Z"
   },
   {
    "duration": 243,
    "start_time": "2022-11-01T16:30:05.946Z"
   },
   {
    "duration": 249,
    "start_time": "2022-11-01T16:30:24.945Z"
   },
   {
    "duration": 252,
    "start_time": "2022-11-01T16:30:49.989Z"
   },
   {
    "duration": 345,
    "start_time": "2022-11-01T16:31:25.794Z"
   },
   {
    "duration": 18,
    "start_time": "2022-11-01T16:48:30.684Z"
   },
   {
    "duration": 50,
    "start_time": "2022-11-01T18:56:24.878Z"
   },
   {
    "duration": 1184,
    "start_time": "2022-11-01T18:56:37.544Z"
   },
   {
    "duration": 42,
    "start_time": "2022-11-01T18:56:42.103Z"
   },
   {
    "duration": 13,
    "start_time": "2022-11-01T18:56:47.162Z"
   },
   {
    "duration": 8,
    "start_time": "2022-11-01T18:56:50.291Z"
   },
   {
    "duration": 10,
    "start_time": "2022-11-01T18:56:53.381Z"
   },
   {
    "duration": 6,
    "start_time": "2022-11-01T18:56:55.802Z"
   },
   {
    "duration": 5,
    "start_time": "2022-11-01T18:56:57.303Z"
   },
   {
    "duration": 4,
    "start_time": "2022-11-01T18:56:59.501Z"
   },
   {
    "duration": 13,
    "start_time": "2022-11-01T18:57:01.144Z"
   },
   {
    "duration": 17,
    "start_time": "2022-11-01T18:57:03.735Z"
   },
   {
    "duration": 21,
    "start_time": "2022-11-01T18:57:06.770Z"
   },
   {
    "duration": 277,
    "start_time": "2022-11-01T18:57:09.757Z"
   },
   {
    "duration": 18,
    "start_time": "2022-11-01T18:57:12.914Z"
   },
   {
    "duration": 4,
    "start_time": "2022-11-01T18:57:16.465Z"
   },
   {
    "duration": 245,
    "start_time": "2022-11-01T18:57:20.071Z"
   },
   {
    "duration": 8,
    "start_time": "2022-11-01T18:57:24.194Z"
   },
   {
    "duration": 8,
    "start_time": "2022-11-01T19:06:25.858Z"
   },
   {
    "duration": 11,
    "start_time": "2022-11-01T19:06:35.198Z"
   },
   {
    "duration": 61,
    "start_time": "2022-11-01T19:06:52.491Z"
   },
   {
    "duration": 37,
    "start_time": "2022-11-01T19:06:55.328Z"
   },
   {
    "duration": 14,
    "start_time": "2022-11-01T19:07:03.272Z"
   },
   {
    "duration": 8,
    "start_time": "2022-11-01T19:07:05.968Z"
   },
   {
    "duration": 8,
    "start_time": "2022-11-01T19:07:08.582Z"
   },
   {
    "duration": 6,
    "start_time": "2022-11-01T19:07:10.579Z"
   },
   {
    "duration": 5,
    "start_time": "2022-11-01T19:07:12.520Z"
   },
   {
    "duration": 5,
    "start_time": "2022-11-01T19:07:13.496Z"
   },
   {
    "duration": 18,
    "start_time": "2022-11-01T19:07:17.959Z"
   },
   {
    "duration": 25,
    "start_time": "2022-11-01T19:07:20.377Z"
   },
   {
    "duration": 19,
    "start_time": "2022-11-01T19:07:23.092Z"
   },
   {
    "duration": 307,
    "start_time": "2022-11-01T19:07:26.019Z"
   },
   {
    "duration": 17,
    "start_time": "2022-11-01T19:07:29.101Z"
   },
   {
    "duration": 4,
    "start_time": "2022-11-01T19:07:32.952Z"
   },
   {
    "duration": 276,
    "start_time": "2022-11-01T19:07:36.504Z"
   },
   {
    "duration": 17,
    "start_time": "2022-11-01T19:07:40.401Z"
   },
   {
    "duration": 20,
    "start_time": "2022-11-01T19:08:13.719Z"
   },
   {
    "duration": 289,
    "start_time": "2022-11-01T19:18:29.773Z"
   },
   {
    "duration": 285,
    "start_time": "2022-11-01T19:21:25.878Z"
   },
   {
    "duration": 5,
    "start_time": "2022-11-01T19:31:21.839Z"
   },
   {
    "duration": 10,
    "start_time": "2022-11-01T19:37:37.963Z"
   },
   {
    "duration": 13,
    "start_time": "2022-11-01T20:05:29.066Z"
   },
   {
    "duration": 636,
    "start_time": "2022-11-01T20:29:03.959Z"
   },
   {
    "duration": 37,
    "start_time": "2022-11-01T20:29:07.441Z"
   },
   {
    "duration": 15,
    "start_time": "2022-11-01T20:29:11.486Z"
   },
   {
    "duration": 9,
    "start_time": "2022-11-01T20:29:13.740Z"
   },
   {
    "duration": 9,
    "start_time": "2022-11-01T20:29:17.842Z"
   },
   {
    "duration": 5,
    "start_time": "2022-11-01T20:29:28.590Z"
   },
   {
    "duration": 5,
    "start_time": "2022-11-01T20:29:30.761Z"
   },
   {
    "duration": 5,
    "start_time": "2022-11-01T20:29:32.469Z"
   },
   {
    "duration": 11,
    "start_time": "2022-11-01T20:29:34.552Z"
   },
   {
    "duration": 16,
    "start_time": "2022-11-01T20:29:36.948Z"
   },
   {
    "duration": 18,
    "start_time": "2022-11-01T20:29:39.998Z"
   },
   {
    "duration": 242,
    "start_time": "2022-11-01T20:29:42.752Z"
   },
   {
    "duration": 16,
    "start_time": "2022-11-01T20:29:46.519Z"
   },
   {
    "duration": 4,
    "start_time": "2022-11-01T20:29:50.568Z"
   },
   {
    "duration": 218,
    "start_time": "2022-11-01T20:29:53.639Z"
   },
   {
    "duration": 19,
    "start_time": "2022-11-01T20:29:58.687Z"
   },
   {
    "duration": 13,
    "start_time": "2022-11-01T20:30:05.480Z"
   },
   {
    "duration": 293,
    "start_time": "2022-11-01T20:30:23.270Z"
   },
   {
    "duration": 86,
    "start_time": "2022-11-01T20:58:15.776Z"
   },
   {
    "duration": 96,
    "start_time": "2022-11-01T20:58:22.396Z"
   },
   {
    "duration": 150,
    "start_time": "2022-11-01T20:59:33.822Z"
   },
   {
    "duration": 217,
    "start_time": "2022-11-01T21:29:45.861Z"
   },
   {
    "duration": 221,
    "start_time": "2022-11-01T21:30:12.209Z"
   },
   {
    "duration": 303,
    "start_time": "2022-11-01T21:30:32.342Z"
   },
   {
    "duration": 203,
    "start_time": "2022-11-01T21:31:25.344Z"
   },
   {
    "duration": 197,
    "start_time": "2022-11-01T21:34:00.564Z"
   },
   {
    "duration": 213,
    "start_time": "2022-11-01T21:34:22.416Z"
   },
   {
    "duration": 218,
    "start_time": "2022-11-01T21:34:40.424Z"
   },
   {
    "duration": 305,
    "start_time": "2022-11-01T21:34:53.282Z"
   },
   {
    "duration": 136,
    "start_time": "2022-11-01T21:36:37.181Z"
   },
   {
    "duration": 12,
    "start_time": "2022-11-01T21:42:08.139Z"
   },
   {
    "duration": 218,
    "start_time": "2022-11-01T21:42:20.234Z"
   },
   {
    "duration": 215,
    "start_time": "2022-11-01T21:43:29.880Z"
   },
   {
    "duration": 278,
    "start_time": "2022-11-01T21:43:42.782Z"
   },
   {
    "duration": 324,
    "start_time": "2022-11-01T21:43:52.175Z"
   },
   {
    "duration": 360,
    "start_time": "2022-11-01T21:43:59.691Z"
   },
   {
    "duration": 256,
    "start_time": "2022-11-01T21:44:18.945Z"
   },
   {
    "duration": 244,
    "start_time": "2022-11-01T21:44:33.551Z"
   },
   {
    "duration": 237,
    "start_time": "2022-11-01T21:44:45.368Z"
   },
   {
    "duration": 256,
    "start_time": "2022-11-01T21:44:53.098Z"
   },
   {
    "duration": 268,
    "start_time": "2022-11-01T21:45:00.227Z"
   },
   {
    "duration": 339,
    "start_time": "2022-11-01T21:45:12.490Z"
   },
   {
    "duration": 269,
    "start_time": "2022-11-01T21:45:20.586Z"
   },
   {
    "duration": 264,
    "start_time": "2022-11-01T21:45:32.733Z"
   },
   {
    "duration": 248,
    "start_time": "2022-11-01T21:45:42.539Z"
   },
   {
    "duration": 250,
    "start_time": "2022-11-01T21:45:50.077Z"
   },
   {
    "duration": 342,
    "start_time": "2022-11-01T21:46:00.445Z"
   },
   {
    "duration": 273,
    "start_time": "2022-11-01T21:46:12.449Z"
   },
   {
    "duration": 267,
    "start_time": "2022-11-01T21:46:22.601Z"
   },
   {
    "duration": 264,
    "start_time": "2022-11-01T21:46:29.859Z"
   },
   {
    "duration": 259,
    "start_time": "2022-11-01T21:46:37.948Z"
   },
   {
    "duration": 271,
    "start_time": "2022-11-01T21:46:43.786Z"
   },
   {
    "duration": 338,
    "start_time": "2022-11-01T21:46:49.141Z"
   },
   {
    "duration": 278,
    "start_time": "2022-11-01T21:47:00.537Z"
   },
   {
    "duration": 345,
    "start_time": "2022-11-01T21:47:06.547Z"
   },
   {
    "duration": 254,
    "start_time": "2022-11-01T21:47:14.251Z"
   },
   {
    "duration": 211,
    "start_time": "2022-11-01T21:47:20.656Z"
   },
   {
    "duration": 332,
    "start_time": "2022-11-01T21:47:27.135Z"
   },
   {
    "duration": 288,
    "start_time": "2022-11-01T21:47:39.315Z"
   },
   {
    "duration": 250,
    "start_time": "2022-11-01T21:47:51.543Z"
   },
   {
    "duration": 238,
    "start_time": "2022-11-01T21:47:57.799Z"
   },
   {
    "duration": 257,
    "start_time": "2022-11-01T21:48:04.885Z"
   },
   {
    "duration": 284,
    "start_time": "2022-11-01T21:49:03.229Z"
   },
   {
    "duration": 90,
    "start_time": "2022-11-01T21:54:10.461Z"
   },
   {
    "duration": 15,
    "start_time": "2022-11-01T21:54:29.360Z"
   },
   {
    "duration": 12,
    "start_time": "2022-11-01T21:55:51.063Z"
   },
   {
    "duration": 343,
    "start_time": "2022-11-01T21:56:27.807Z"
   },
   {
    "duration": 72,
    "start_time": "2022-11-01T22:28:02.913Z"
   },
   {
    "duration": 15,
    "start_time": "2022-11-01T22:28:11.015Z"
   },
   {
    "duration": 105,
    "start_time": "2022-11-01T22:28:22.571Z"
   },
   {
    "duration": 78,
    "start_time": "2022-11-01T22:29:25.176Z"
   },
   {
    "duration": 71,
    "start_time": "2022-11-01T22:31:29.644Z"
   },
   {
    "duration": 232,
    "start_time": "2022-11-01T22:31:46.806Z"
   },
   {
    "duration": 187,
    "start_time": "2022-11-01T22:32:29.308Z"
   },
   {
    "duration": 207,
    "start_time": "2022-11-01T22:32:39.892Z"
   },
   {
    "duration": 219,
    "start_time": "2022-11-01T22:32:51.081Z"
   },
   {
    "duration": 232,
    "start_time": "2022-11-01T22:33:05.977Z"
   },
   {
    "duration": 223,
    "start_time": "2022-11-01T22:33:11.979Z"
   },
   {
    "duration": 314,
    "start_time": "2022-11-01T22:33:21.559Z"
   },
   {
    "duration": 237,
    "start_time": "2022-11-01T22:33:33.422Z"
   },
   {
    "duration": 253,
    "start_time": "2022-11-01T22:34:01.037Z"
   },
   {
    "duration": 226,
    "start_time": "2022-11-01T22:34:08.165Z"
   },
   {
    "duration": 240,
    "start_time": "2022-11-01T22:34:18.545Z"
   },
   {
    "duration": 235,
    "start_time": "2022-11-01T22:34:48.381Z"
   },
   {
    "duration": 29,
    "start_time": "2022-11-01T23:21:15.879Z"
   },
   {
    "duration": 29,
    "start_time": "2022-11-01T23:22:01.238Z"
   },
   {
    "duration": 8,
    "start_time": "2022-11-01T23:24:26.830Z"
   },
   {
    "duration": 5,
    "start_time": "2022-11-01T23:24:43.198Z"
   },
   {
    "duration": 187,
    "start_time": "2022-11-01T23:25:51.978Z"
   },
   {
    "duration": 184,
    "start_time": "2022-11-01T23:26:06.057Z"
   },
   {
    "duration": 201,
    "start_time": "2022-11-01T23:26:23.090Z"
   },
   {
    "duration": 188,
    "start_time": "2022-11-01T23:30:01.008Z"
   },
   {
    "duration": 194,
    "start_time": "2022-11-01T23:30:30.384Z"
   },
   {
    "duration": 157,
    "start_time": "2022-11-01T23:39:40.075Z"
   },
   {
    "duration": 195,
    "start_time": "2022-11-01T23:39:58.270Z"
   },
   {
    "duration": 1852,
    "start_time": "2022-11-02T13:44:32.081Z"
   },
   {
    "duration": 54,
    "start_time": "2022-11-02T13:44:37.398Z"
   },
   {
    "duration": 18,
    "start_time": "2022-11-02T13:44:41.588Z"
   },
   {
    "duration": 12,
    "start_time": "2022-11-02T13:44:44.368Z"
   },
   {
    "duration": 11,
    "start_time": "2022-11-02T13:44:46.716Z"
   },
   {
    "duration": 6,
    "start_time": "2022-11-02T13:44:48.886Z"
   },
   {
    "duration": 5,
    "start_time": "2022-11-02T13:44:50.605Z"
   },
   {
    "duration": 5,
    "start_time": "2022-11-02T13:44:52.311Z"
   },
   {
    "duration": 24,
    "start_time": "2022-11-02T13:44:54.633Z"
   },
   {
    "duration": 21,
    "start_time": "2022-11-02T13:44:57.401Z"
   },
   {
    "duration": 22,
    "start_time": "2022-11-02T13:45:00.564Z"
   },
   {
    "duration": 332,
    "start_time": "2022-11-02T13:45:03.744Z"
   },
   {
    "duration": 25,
    "start_time": "2022-11-02T13:45:07.496Z"
   },
   {
    "duration": 4,
    "start_time": "2022-11-02T13:45:10.979Z"
   },
   {
    "duration": 307,
    "start_time": "2022-11-02T13:45:14.751Z"
   },
   {
    "duration": 21,
    "start_time": "2022-11-02T13:45:20.296Z"
   },
   {
    "duration": 12,
    "start_time": "2022-11-02T13:45:26.910Z"
   },
   {
    "duration": 443,
    "start_time": "2022-11-02T13:45:38.044Z"
   },
   {
    "duration": 121,
    "start_time": "2022-11-02T13:47:07.581Z"
   },
   {
    "duration": 317,
    "start_time": "2022-11-02T13:47:27.547Z"
   },
   {
    "duration": 228,
    "start_time": "2022-11-02T13:47:52.842Z"
   },
   {
    "duration": 447,
    "start_time": "2022-11-02T13:48:05.590Z"
   },
   {
    "duration": 254,
    "start_time": "2022-11-02T13:50:08.964Z"
   },
   {
    "duration": 306,
    "start_time": "2022-11-02T13:50:30.515Z"
   },
   {
    "duration": 312,
    "start_time": "2022-11-02T14:04:20.311Z"
   },
   {
    "duration": 77,
    "start_time": "2022-11-02T14:04:24.149Z"
   },
   {
    "duration": 260,
    "start_time": "2022-11-02T14:04:31.300Z"
   },
   {
    "duration": 264,
    "start_time": "2022-11-02T14:04:56.339Z"
   },
   {
    "duration": 251,
    "start_time": "2022-11-02T14:05:13.340Z"
   },
   {
    "duration": 271,
    "start_time": "2022-11-02T14:05:49.494Z"
   },
   {
    "duration": 347,
    "start_time": "2022-11-02T14:19:47.246Z"
   },
   {
    "duration": 238,
    "start_time": "2022-11-02T14:20:36.065Z"
   },
   {
    "duration": 72,
    "start_time": "2022-11-02T14:21:16.144Z"
   },
   {
    "duration": 227,
    "start_time": "2022-11-02T14:21:29.222Z"
   },
   {
    "duration": 241,
    "start_time": "2022-11-02T14:21:57.532Z"
   },
   {
    "duration": 228,
    "start_time": "2022-11-02T14:22:04.604Z"
   },
   {
    "duration": 220,
    "start_time": "2022-11-02T14:22:16.084Z"
   },
   {
    "duration": 273,
    "start_time": "2022-11-02T14:23:03.233Z"
   },
   {
    "duration": 30,
    "start_time": "2022-11-02T14:51:52.101Z"
   },
   {
    "duration": 215,
    "start_time": "2022-11-02T14:52:08.561Z"
   },
   {
    "duration": 73,
    "start_time": "2022-11-02T14:52:30.853Z"
   },
   {
    "duration": 232,
    "start_time": "2022-11-02T14:52:52.208Z"
   },
   {
    "duration": 230,
    "start_time": "2022-11-02T14:53:09.662Z"
   },
   {
    "duration": 236,
    "start_time": "2022-11-02T14:54:00.279Z"
   },
   {
    "duration": 228,
    "start_time": "2022-11-02T15:01:31.844Z"
   },
   {
    "duration": 30,
    "start_time": "2022-11-02T15:48:26.174Z"
   },
   {
    "duration": 14,
    "start_time": "2022-11-02T15:48:37.008Z"
   },
   {
    "duration": 896,
    "start_time": "2022-11-02T15:48:48.601Z"
   },
   {
    "duration": 898,
    "start_time": "2022-11-02T15:49:17.675Z"
   },
   {
    "duration": 889,
    "start_time": "2022-11-02T15:51:37.278Z"
   },
   {
    "duration": 35,
    "start_time": "2022-11-02T15:52:56.882Z"
   },
   {
    "duration": 764,
    "start_time": "2022-11-02T15:53:23.840Z"
   },
   {
    "duration": 5,
    "start_time": "2022-11-02T16:06:20.104Z"
   },
   {
    "duration": 228,
    "start_time": "2022-11-02T16:16:30.651Z"
   },
   {
    "duration": 214,
    "start_time": "2022-11-02T16:17:03.891Z"
   },
   {
    "duration": 221,
    "start_time": "2022-11-02T16:25:53.950Z"
   },
   {
    "duration": 314,
    "start_time": "2022-11-02T16:27:25.011Z"
   },
   {
    "duration": 78,
    "start_time": "2022-11-02T16:28:14.581Z"
   },
   {
    "duration": 5,
    "start_time": "2022-11-02T16:28:23.686Z"
   },
   {
    "duration": 334,
    "start_time": "2022-11-02T16:39:27.901Z"
   },
   {
    "duration": 13,
    "start_time": "2022-11-02T16:40:27.507Z"
   },
   {
    "duration": 8,
    "start_time": "2022-11-02T16:40:38.032Z"
   },
   {
    "duration": 291,
    "start_time": "2022-11-02T16:41:10.517Z"
   },
   {
    "duration": 183,
    "start_time": "2022-11-02T16:41:28.670Z"
   },
   {
    "duration": 199,
    "start_time": "2022-11-02T16:41:49.948Z"
   },
   {
    "duration": 12,
    "start_time": "2022-11-02T16:54:26.400Z"
   },
   {
    "duration": 18,
    "start_time": "2022-11-02T16:54:38.964Z"
   },
   {
    "duration": 15,
    "start_time": "2022-11-02T16:57:28.526Z"
   },
   {
    "duration": 24,
    "start_time": "2022-11-02T16:59:55.446Z"
   },
   {
    "duration": 21,
    "start_time": "2022-11-02T17:00:35.871Z"
   },
   {
    "duration": 188,
    "start_time": "2022-11-02T17:00:49.810Z"
   },
   {
    "duration": 1528,
    "start_time": "2022-11-02T18:26:40.181Z"
   },
   {
    "duration": 42,
    "start_time": "2022-11-02T18:26:47.157Z"
   },
   {
    "duration": 15,
    "start_time": "2022-11-02T18:26:52.016Z"
   },
   {
    "duration": 10,
    "start_time": "2022-11-02T18:26:55.704Z"
   },
   {
    "duration": 11,
    "start_time": "2022-11-02T18:26:59.667Z"
   },
   {
    "duration": 7,
    "start_time": "2022-11-02T18:27:02.371Z"
   },
   {
    "duration": 6,
    "start_time": "2022-11-02T18:27:04.872Z"
   },
   {
    "duration": 5,
    "start_time": "2022-11-02T18:27:07.236Z"
   },
   {
    "duration": 14,
    "start_time": "2022-11-02T18:27:10.942Z"
   },
   {
    "duration": 17,
    "start_time": "2022-11-02T18:27:13.789Z"
   },
   {
    "duration": 20,
    "start_time": "2022-11-02T18:27:17.051Z"
   },
   {
    "duration": 294,
    "start_time": "2022-11-02T18:27:20.753Z"
   },
   {
    "duration": 18,
    "start_time": "2022-11-02T18:27:24.670Z"
   },
   {
    "duration": 4,
    "start_time": "2022-11-02T18:27:28.856Z"
   },
   {
    "duration": 263,
    "start_time": "2022-11-02T18:27:31.849Z"
   },
   {
    "duration": 22,
    "start_time": "2022-11-02T18:27:34.901Z"
   },
   {
    "duration": 17,
    "start_time": "2022-11-02T18:27:38.829Z"
   },
   {
    "duration": 250,
    "start_time": "2022-11-02T18:27:43.737Z"
   },
   {
    "duration": 216,
    "start_time": "2022-11-02T18:28:00.438Z"
   },
   {
    "duration": 214,
    "start_time": "2022-11-02T18:28:04.749Z"
   },
   {
    "duration": 44,
    "start_time": "2022-11-02T18:31:55.254Z"
   },
   {
    "duration": 101,
    "start_time": "2022-11-02T18:32:08.923Z"
   },
   {
    "duration": 10,
    "start_time": "2022-11-02T18:33:03.988Z"
   },
   {
    "duration": 11,
    "start_time": "2022-11-02T18:33:41.804Z"
   },
   {
    "duration": 32,
    "start_time": "2022-11-02T18:40:10.840Z"
   },
   {
    "duration": 30,
    "start_time": "2022-11-02T18:41:04.312Z"
   },
   {
    "duration": 2908,
    "start_time": "2022-11-02T18:41:58.551Z"
   },
   {
    "duration": 26,
    "start_time": "2022-11-02T18:43:39.819Z"
   },
   {
    "duration": 77,
    "start_time": "2022-11-02T18:43:52.533Z"
   },
   {
    "duration": 22,
    "start_time": "2022-11-02T18:44:00.607Z"
   },
   {
    "duration": 404,
    "start_time": "2022-11-02T18:45:29.288Z"
   },
   {
    "duration": 25,
    "start_time": "2022-11-02T18:46:20.147Z"
   },
   {
    "duration": 471,
    "start_time": "2022-11-02T18:46:44.277Z"
   },
   {
    "duration": 403,
    "start_time": "2022-11-02T18:50:04.796Z"
   },
   {
    "duration": 21,
    "start_time": "2022-11-02T19:14:19.808Z"
   },
   {
    "duration": 14,
    "start_time": "2022-11-02T19:15:38.051Z"
   },
   {
    "duration": 551,
    "start_time": "2022-11-02T19:18:51.161Z"
   },
   {
    "duration": 300,
    "start_time": "2022-11-02T19:20:42.568Z"
   },
   {
    "duration": 207,
    "start_time": "2022-11-02T19:25:02.862Z"
   },
   {
    "duration": 206,
    "start_time": "2022-11-02T19:26:48.621Z"
   },
   {
    "duration": 204,
    "start_time": "2022-11-02T19:32:29.211Z"
   },
   {
    "duration": 210,
    "start_time": "2022-11-02T19:33:42.453Z"
   },
   {
    "duration": 21,
    "start_time": "2022-11-02T20:05:11.751Z"
   },
   {
    "duration": 1392,
    "start_time": "2022-11-02T20:05:56.452Z"
   },
   {
    "duration": 1380,
    "start_time": "2022-11-02T20:10:25.819Z"
   },
   {
    "duration": 313,
    "start_time": "2022-11-02T20:15:05.075Z"
   },
   {
    "duration": 15,
    "start_time": "2022-11-02T20:16:42.920Z"
   },
   {
    "duration": 1589,
    "start_time": "2022-11-02T20:16:51.192Z"
   },
   {
    "duration": 51,
    "start_time": "2022-11-02T20:17:49.642Z"
   },
   {
    "duration": 1358,
    "start_time": "2022-11-02T20:17:58.068Z"
   },
   {
    "duration": 1357,
    "start_time": "2022-11-02T20:18:24.958Z"
   },
   {
    "duration": 1618,
    "start_time": "2022-11-02T20:18:54.442Z"
   },
   {
    "duration": 1219,
    "start_time": "2022-11-02T20:19:39.470Z"
   },
   {
    "duration": 1547,
    "start_time": "2022-11-02T20:19:49.557Z"
   },
   {
    "duration": 1367,
    "start_time": "2022-11-02T20:19:59.941Z"
   },
   {
    "duration": 1591,
    "start_time": "2022-11-02T20:20:06.264Z"
   },
   {
    "duration": 1370,
    "start_time": "2022-11-02T20:20:14.579Z"
   },
   {
    "duration": 1369,
    "start_time": "2022-11-02T20:20:24.457Z"
   },
   {
    "duration": 1695,
    "start_time": "2022-11-02T20:20:30.549Z"
   },
   {
    "duration": 492,
    "start_time": "2022-11-02T20:31:02.679Z"
   },
   {
    "duration": 1496,
    "start_time": "2022-11-02T20:31:29.307Z"
   },
   {
    "duration": 1523,
    "start_time": "2022-11-02T20:35:41.461Z"
   },
   {
    "duration": 1602,
    "start_time": "2022-11-02T20:36:38.369Z"
   },
   {
    "duration": 1412,
    "start_time": "2022-11-02T20:36:48.021Z"
   },
   {
    "duration": 1464,
    "start_time": "2022-11-02T20:55:11.029Z"
   },
   {
    "duration": 1597,
    "start_time": "2022-11-02T21:01:48.271Z"
   },
   {
    "duration": 1377,
    "start_time": "2022-11-02T21:01:57.324Z"
   },
   {
    "duration": 1340,
    "start_time": "2022-11-02T21:08:58.207Z"
   },
   {
    "duration": 1391,
    "start_time": "2022-11-02T21:09:20.164Z"
   },
   {
    "duration": 221,
    "start_time": "2022-11-02T21:13:43.985Z"
   },
   {
    "duration": 57,
    "start_time": "2022-11-02T21:16:24.555Z"
   },
   {
    "duration": 382,
    "start_time": "2022-11-02T21:16:38.753Z"
   },
   {
    "duration": 156,
    "start_time": "2022-11-02T21:17:14.772Z"
   },
   {
    "duration": 346,
    "start_time": "2022-11-02T21:17:28.162Z"
   },
   {
    "duration": 385,
    "start_time": "2022-11-02T21:19:18.416Z"
   },
   {
    "duration": 374,
    "start_time": "2022-11-02T21:20:06.340Z"
   },
   {
    "duration": 363,
    "start_time": "2022-11-02T21:21:26.945Z"
   },
   {
    "duration": 418,
    "start_time": "2022-11-02T21:24:01.137Z"
   },
   {
    "duration": 1336,
    "start_time": "2022-11-02T21:26:06.979Z"
   },
   {
    "duration": 7,
    "start_time": "2022-11-02T22:13:36.535Z"
   },
   {
    "duration": 11,
    "start_time": "2022-11-02T22:21:54.368Z"
   },
   {
    "duration": 8,
    "start_time": "2022-11-02T22:31:46.470Z"
   },
   {
    "duration": 12,
    "start_time": "2022-11-02T22:31:57.677Z"
   },
   {
    "duration": 246,
    "start_time": "2022-11-02T22:37:37.078Z"
   },
   {
    "duration": 100,
    "start_time": "2022-11-02T22:38:35.405Z"
   },
   {
    "duration": 262,
    "start_time": "2022-11-02T22:38:46.647Z"
   },
   {
    "duration": 263,
    "start_time": "2022-11-02T22:39:20.041Z"
   },
   {
    "duration": 254,
    "start_time": "2022-11-02T22:40:02.437Z"
   },
   {
    "duration": 431,
    "start_time": "2022-11-02T22:40:18.031Z"
   },
   {
    "duration": 292,
    "start_time": "2022-11-02T22:40:28.249Z"
   },
   {
    "duration": 269,
    "start_time": "2022-11-02T22:40:41.172Z"
   },
   {
    "duration": 255,
    "start_time": "2022-11-02T22:40:58.510Z"
   },
   {
    "duration": 261,
    "start_time": "2022-11-02T22:41:06.671Z"
   },
   {
    "duration": 258,
    "start_time": "2022-11-02T22:41:16.199Z"
   },
   {
    "duration": 255,
    "start_time": "2022-11-02T22:41:22.457Z"
   },
   {
    "duration": 266,
    "start_time": "2022-11-02T22:41:32.144Z"
   },
   {
    "duration": 252,
    "start_time": "2022-11-02T22:41:42.173Z"
   },
   {
    "duration": 251,
    "start_time": "2022-11-02T22:41:48.439Z"
   },
   {
    "duration": 245,
    "start_time": "2022-11-02T22:41:54.589Z"
   },
   {
    "duration": 260,
    "start_time": "2022-11-02T22:42:00.020Z"
   },
   {
    "duration": 254,
    "start_time": "2022-11-02T22:43:56.452Z"
   },
   {
    "duration": 249,
    "start_time": "2022-11-02T22:44:38.863Z"
   },
   {
    "duration": 275,
    "start_time": "2022-11-02T22:45:01.612Z"
   },
   {
    "duration": 473,
    "start_time": "2022-11-02T22:48:58.446Z"
   },
   {
    "duration": 263,
    "start_time": "2022-11-02T22:49:32.994Z"
   },
   {
    "duration": 281,
    "start_time": "2022-11-02T22:50:42.653Z"
   },
   {
    "duration": 275,
    "start_time": "2022-11-02T22:51:19.759Z"
   },
   {
    "duration": 8,
    "start_time": "2022-11-02T23:31:45.390Z"
   },
   {
    "duration": 279,
    "start_time": "2022-11-02T23:44:35.787Z"
   },
   {
    "duration": 368,
    "start_time": "2022-11-02T23:45:29.148Z"
   },
   {
    "duration": 17,
    "start_time": "2022-11-02T23:46:33.835Z"
   },
   {
    "duration": 280,
    "start_time": "2022-11-02T23:46:57.198Z"
   },
   {
    "duration": 310,
    "start_time": "2022-11-02T23:47:45.451Z"
   },
   {
    "duration": 299,
    "start_time": "2022-11-02T23:49:03.596Z"
   },
   {
    "duration": 526,
    "start_time": "2022-11-02T23:49:16.140Z"
   },
   {
    "duration": 567,
    "start_time": "2022-11-02T23:50:31.404Z"
   },
   {
    "duration": 992,
    "start_time": "2022-11-02T23:54:34.610Z"
   },
   {
    "duration": 51,
    "start_time": "2022-11-02T23:55:08.097Z"
   },
   {
    "duration": 511,
    "start_time": "2022-11-02T23:55:20.130Z"
   },
   {
    "duration": 562,
    "start_time": "2022-11-02T23:58:33.795Z"
   },
   {
    "duration": 513,
    "start_time": "2022-11-02T23:59:18.863Z"
   },
   {
    "duration": 560,
    "start_time": "2022-11-02T23:59:32.194Z"
   },
   {
    "duration": 45,
    "start_time": "2022-11-03T17:20:07.341Z"
   },
   {
    "duration": 1300,
    "start_time": "2022-11-03T17:20:13.157Z"
   },
   {
    "duration": 49,
    "start_time": "2022-11-03T17:20:18.267Z"
   },
   {
    "duration": 20,
    "start_time": "2022-11-03T17:20:22.226Z"
   },
   {
    "duration": 9,
    "start_time": "2022-11-03T17:20:24.735Z"
   },
   {
    "duration": 10,
    "start_time": "2022-11-03T17:20:27.072Z"
   },
   {
    "duration": 6,
    "start_time": "2022-11-03T17:20:28.916Z"
   },
   {
    "duration": 5,
    "start_time": "2022-11-03T17:20:30.509Z"
   },
   {
    "duration": 5,
    "start_time": "2022-11-03T17:20:32.129Z"
   },
   {
    "duration": 15,
    "start_time": "2022-11-03T17:20:34.066Z"
   },
   {
    "duration": 22,
    "start_time": "2022-11-03T17:20:36.081Z"
   },
   {
    "duration": 18,
    "start_time": "2022-11-03T17:20:38.102Z"
   },
   {
    "duration": 295,
    "start_time": "2022-11-03T17:20:41.491Z"
   },
   {
    "duration": 23,
    "start_time": "2022-11-03T17:20:44.089Z"
   },
   {
    "duration": 5,
    "start_time": "2022-11-03T17:20:47.194Z"
   },
   {
    "duration": 17,
    "start_time": "2022-11-03T17:20:50.572Z"
   },
   {
    "duration": 14,
    "start_time": "2022-11-03T17:20:53.071Z"
   },
   {
    "duration": 328,
    "start_time": "2022-11-03T17:20:56.853Z"
   },
   {
    "duration": 214,
    "start_time": "2022-11-03T17:21:02.315Z"
   },
   {
    "duration": 323,
    "start_time": "2022-11-03T17:21:07.064Z"
   },
   {
    "duration": 1238,
    "start_time": "2022-11-03T17:21:11.750Z"
   },
   {
    "duration": 5,
    "start_time": "2022-11-03T17:21:20.947Z"
   },
   {
    "duration": 12,
    "start_time": "2022-11-03T17:21:24.332Z"
   },
   {
    "duration": 11,
    "start_time": "2022-11-03T17:21:54.163Z"
   },
   {
    "duration": 195,
    "start_time": "2022-11-03T17:31:12.811Z"
   },
   {
    "duration": 247,
    "start_time": "2022-11-03T17:32:12.087Z"
   },
   {
    "duration": 216,
    "start_time": "2022-11-03T17:33:27.357Z"
   },
   {
    "duration": 201,
    "start_time": "2022-11-03T17:35:33.789Z"
   },
   {
    "duration": 358,
    "start_time": "2022-11-03T17:56:19.024Z"
   },
   {
    "duration": 295,
    "start_time": "2022-11-03T17:56:43.209Z"
   },
   {
    "duration": 47,
    "start_time": "2022-11-03T18:03:31.851Z"
   },
   {
    "duration": 40,
    "start_time": "2022-11-03T18:03:54.902Z"
   },
   {
    "duration": 446,
    "start_time": "2022-11-03T18:04:19.569Z"
   },
   {
    "duration": 364,
    "start_time": "2022-11-03T18:05:03.330Z"
   },
   {
    "duration": 24,
    "start_time": "2022-11-03T18:06:11.606Z"
   },
   {
    "duration": 64,
    "start_time": "2022-11-03T18:06:27.913Z"
   },
   {
    "duration": 12,
    "start_time": "2022-11-03T18:06:40.049Z"
   },
   {
    "duration": 15,
    "start_time": "2022-11-03T18:08:46.681Z"
   },
   {
    "duration": 16,
    "start_time": "2022-11-03T18:09:35.346Z"
   },
   {
    "duration": 282,
    "start_time": "2022-11-03T20:21:53.440Z"
   },
   {
    "duration": 282,
    "start_time": "2022-11-03T20:22:36.331Z"
   },
   {
    "duration": 11,
    "start_time": "2022-11-03T20:22:48.792Z"
   },
   {
    "duration": 11,
    "start_time": "2022-11-03T20:23:50.266Z"
   },
   {
    "duration": 11,
    "start_time": "2022-11-03T20:24:08.821Z"
   },
   {
    "duration": 61,
    "start_time": "2022-11-03T20:37:49.772Z"
   },
   {
    "duration": 38,
    "start_time": "2022-11-03T20:37:53.860Z"
   },
   {
    "duration": 23,
    "start_time": "2022-11-03T20:38:41.131Z"
   },
   {
    "duration": 13,
    "start_time": "2022-11-03T20:40:06.225Z"
   },
   {
    "duration": 10,
    "start_time": "2022-11-03T20:40:12.355Z"
   },
   {
    "duration": 12,
    "start_time": "2022-11-03T20:40:29.065Z"
   },
   {
    "duration": 6,
    "start_time": "2022-11-03T20:40:45.088Z"
   },
   {
    "duration": 5,
    "start_time": "2022-11-03T20:40:47.824Z"
   },
   {
    "duration": 5,
    "start_time": "2022-11-03T20:41:04.797Z"
   },
   {
    "duration": 13,
    "start_time": "2022-11-03T20:41:51.617Z"
   },
   {
    "duration": 17,
    "start_time": "2022-11-03T20:48:17.579Z"
   },
   {
    "duration": 27,
    "start_time": "2022-11-03T20:48:40.247Z"
   },
   {
    "duration": 409,
    "start_time": "2022-11-03T21:03:58.396Z"
   },
   {
    "duration": 343,
    "start_time": "2022-11-03T21:04:39.072Z"
   },
   {
    "duration": 16,
    "start_time": "2022-11-03T21:05:50.904Z"
   },
   {
    "duration": 6,
    "start_time": "2022-11-03T21:07:58.963Z"
   },
   {
    "duration": 289,
    "start_time": "2022-11-03T21:08:54.018Z"
   },
   {
    "duration": 307,
    "start_time": "2022-11-03T21:09:47.242Z"
   },
   {
    "duration": 14,
    "start_time": "2022-11-03T21:10:14.736Z"
   },
   {
    "duration": 4,
    "start_time": "2022-11-03T21:10:18.468Z"
   },
   {
    "duration": 330,
    "start_time": "2022-11-03T21:10:21.036Z"
   },
   {
    "duration": 82,
    "start_time": "2022-11-03T21:12:30.447Z"
   },
   {
    "duration": 14,
    "start_time": "2022-11-03T21:12:36.773Z"
   },
   {
    "duration": 369,
    "start_time": "2022-11-03T21:12:47.855Z"
   },
   {
    "duration": 17,
    "start_time": "2022-11-03T21:13:05.217Z"
   },
   {
    "duration": 68,
    "start_time": "2022-11-03T21:13:32.784Z"
   },
   {
    "duration": 48,
    "start_time": "2022-11-03T21:13:36.565Z"
   },
   {
    "duration": 15,
    "start_time": "2022-11-03T21:13:39.314Z"
   },
   {
    "duration": 15,
    "start_time": "2022-11-03T21:13:43.175Z"
   },
   {
    "duration": 9,
    "start_time": "2022-11-03T21:13:45.614Z"
   },
   {
    "duration": 11,
    "start_time": "2022-11-03T21:13:49.029Z"
   },
   {
    "duration": 6,
    "start_time": "2022-11-03T21:13:52.288Z"
   },
   {
    "duration": 5,
    "start_time": "2022-11-03T21:13:55.587Z"
   },
   {
    "duration": 5,
    "start_time": "2022-11-03T21:13:58.341Z"
   },
   {
    "duration": 14,
    "start_time": "2022-11-03T21:14:03.907Z"
   },
   {
    "duration": 24,
    "start_time": "2022-11-03T21:14:06.861Z"
   },
   {
    "duration": 18,
    "start_time": "2022-11-03T21:14:10.813Z"
   },
   {
    "duration": 295,
    "start_time": "2022-11-03T21:14:15.832Z"
   },
   {
    "duration": 16,
    "start_time": "2022-11-03T21:14:34.312Z"
   },
   {
    "duration": 5,
    "start_time": "2022-11-03T21:14:38.968Z"
   },
   {
    "duration": 235,
    "start_time": "2022-11-03T21:14:42.900Z"
   },
   {
    "duration": 19,
    "start_time": "2022-11-03T21:17:16.027Z"
   },
   {
    "duration": 12,
    "start_time": "2022-11-03T21:21:49.393Z"
   },
   {
    "duration": 20,
    "start_time": "2022-11-03T21:26:17.923Z"
   },
   {
    "duration": 18,
    "start_time": "2022-11-03T21:27:20.916Z"
   },
   {
    "duration": 23,
    "start_time": "2022-11-03T21:27:30.358Z"
   },
   {
    "duration": 16,
    "start_time": "2022-11-03T21:28:04.384Z"
   },
   {
    "duration": 24,
    "start_time": "2022-11-03T21:28:17.435Z"
   },
   {
    "duration": 16,
    "start_time": "2022-11-03T21:28:58.381Z"
   },
   {
    "duration": 338,
    "start_time": "2022-11-03T21:49:20.723Z"
   },
   {
    "duration": 249,
    "start_time": "2022-11-03T22:08:52.373Z"
   },
   {
    "duration": 253,
    "start_time": "2022-11-03T22:09:23.759Z"
   },
   {
    "duration": 441,
    "start_time": "2022-11-03T22:09:38.762Z"
   },
   {
    "duration": 281,
    "start_time": "2022-11-03T22:09:51.452Z"
   },
   {
    "duration": 306,
    "start_time": "2022-11-03T22:10:04.761Z"
   },
   {
    "duration": 386,
    "start_time": "2022-11-03T22:10:47.065Z"
   },
   {
    "duration": 288,
    "start_time": "2022-11-03T22:11:19.968Z"
   },
   {
    "duration": 246,
    "start_time": "2022-11-03T22:11:26.694Z"
   },
   {
    "duration": 349,
    "start_time": "2022-11-03T22:11:45.716Z"
   },
   {
    "duration": 250,
    "start_time": "2022-11-03T22:13:19.784Z"
   },
   {
    "duration": 251,
    "start_time": "2022-11-03T22:13:32.847Z"
   },
   {
    "duration": 230,
    "start_time": "2022-11-03T22:13:41.186Z"
   },
   {
    "duration": 251,
    "start_time": "2022-11-03T22:13:51.122Z"
   },
   {
    "duration": 6,
    "start_time": "2022-11-03T22:18:06.359Z"
   },
   {
    "duration": 23,
    "start_time": "2022-11-03T22:18:16.416Z"
   },
   {
    "duration": 18,
    "start_time": "2022-11-03T22:18:59.230Z"
   },
   {
    "duration": 21,
    "start_time": "2022-11-03T22:27:07.393Z"
   },
   {
    "duration": 17,
    "start_time": "2022-11-03T22:30:21.670Z"
   },
   {
    "duration": 19,
    "start_time": "2022-11-03T22:32:35.816Z"
   },
   {
    "duration": 372,
    "start_time": "2022-11-03T22:47:03.116Z"
   },
   {
    "duration": 258,
    "start_time": "2022-11-03T22:52:43.825Z"
   },
   {
    "duration": 282,
    "start_time": "2022-11-03T22:54:08.097Z"
   },
   {
    "duration": 272,
    "start_time": "2022-11-03T22:54:21.506Z"
   },
   {
    "duration": 342,
    "start_time": "2022-11-03T23:25:49.260Z"
   },
   {
    "duration": 331,
    "start_time": "2022-11-03T23:43:23.495Z"
   },
   {
    "duration": 1447,
    "start_time": "2022-11-03T23:43:36.895Z"
   },
   {
    "duration": 14,
    "start_time": "2022-11-04T00:09:48.998Z"
   },
   {
    "duration": 11,
    "start_time": "2022-11-04T00:09:58.388Z"
   },
   {
    "duration": 12,
    "start_time": "2022-11-04T00:10:25.455Z"
   },
   {
    "duration": 10,
    "start_time": "2022-11-04T00:10:37.097Z"
   },
   {
    "duration": 23,
    "start_time": "2022-11-04T00:11:50.024Z"
   },
   {
    "duration": 16,
    "start_time": "2022-11-04T00:12:01.722Z"
   },
   {
    "duration": 18,
    "start_time": "2022-11-04T00:12:29.487Z"
   },
   {
    "duration": 214,
    "start_time": "2022-11-04T00:22:24.562Z"
   },
   {
    "duration": 18,
    "start_time": "2022-11-04T00:23:41.548Z"
   },
   {
    "duration": 207,
    "start_time": "2022-11-04T00:26:09.365Z"
   },
   {
    "duration": 51,
    "start_time": "2022-11-04T13:16:31.745Z"
   },
   {
    "duration": 1395,
    "start_time": "2022-11-04T13:16:38.655Z"
   },
   {
    "duration": 39,
    "start_time": "2022-11-04T13:17:51.166Z"
   },
   {
    "duration": 15,
    "start_time": "2022-11-04T13:17:54.402Z"
   },
   {
    "duration": 14,
    "start_time": "2022-11-04T13:18:26.486Z"
   },
   {
    "duration": 8,
    "start_time": "2022-11-04T13:19:02.457Z"
   },
   {
    "duration": 10,
    "start_time": "2022-11-04T13:19:39.887Z"
   },
   {
    "duration": 6,
    "start_time": "2022-11-04T13:19:50.425Z"
   },
   {
    "duration": 5,
    "start_time": "2022-11-04T13:19:52.800Z"
   },
   {
    "duration": 5,
    "start_time": "2022-11-04T13:19:56.146Z"
   },
   {
    "duration": 13,
    "start_time": "2022-11-04T13:20:36.364Z"
   },
   {
    "duration": 19,
    "start_time": "2022-11-04T13:32:00.163Z"
   },
   {
    "duration": 27,
    "start_time": "2022-11-04T13:32:19.083Z"
   },
   {
    "duration": 373,
    "start_time": "2022-11-04T13:32:30.406Z"
   },
   {
    "duration": 18,
    "start_time": "2022-11-04T13:32:48.194Z"
   },
   {
    "duration": 5,
    "start_time": "2022-11-04T13:33:01.670Z"
   },
   {
    "duration": 268,
    "start_time": "2022-11-04T13:33:11.140Z"
   },
   {
    "duration": 22,
    "start_time": "2022-11-04T13:34:13.427Z"
   },
   {
    "duration": 257,
    "start_time": "2022-11-04T13:34:23.777Z"
   },
   {
    "duration": 64,
    "start_time": "2022-11-04T13:34:42.056Z"
   },
   {
    "duration": 39,
    "start_time": "2022-11-04T13:34:47.323Z"
   },
   {
    "duration": 15,
    "start_time": "2022-11-04T13:34:51.270Z"
   },
   {
    "duration": 14,
    "start_time": "2022-11-04T13:34:56.671Z"
   },
   {
    "duration": 10,
    "start_time": "2022-11-04T13:34:59.674Z"
   },
   {
    "duration": 9,
    "start_time": "2022-11-04T13:35:03.450Z"
   },
   {
    "duration": 6,
    "start_time": "2022-11-04T13:35:05.581Z"
   },
   {
    "duration": 6,
    "start_time": "2022-11-04T13:35:07.766Z"
   },
   {
    "duration": 5,
    "start_time": "2022-11-04T13:35:09.591Z"
   },
   {
    "duration": 13,
    "start_time": "2022-11-04T13:35:14.023Z"
   },
   {
    "duration": 16,
    "start_time": "2022-11-04T13:39:35.000Z"
   },
   {
    "duration": 18,
    "start_time": "2022-11-04T13:39:45.723Z"
   },
   {
    "duration": 318,
    "start_time": "2022-11-04T13:39:48.994Z"
   },
   {
    "duration": 17,
    "start_time": "2022-11-04T13:39:56.556Z"
   },
   {
    "duration": 3,
    "start_time": "2022-11-04T13:40:02.824Z"
   },
   {
    "duration": 327,
    "start_time": "2022-11-04T13:40:10.332Z"
   },
   {
    "duration": 20,
    "start_time": "2022-11-04T13:45:04.791Z"
   },
   {
    "duration": 13,
    "start_time": "2022-11-04T13:45:12.501Z"
   },
   {
    "duration": 315,
    "start_time": "2022-11-04T13:45:27.429Z"
   },
   {
    "duration": 227,
    "start_time": "2022-11-04T13:45:46.433Z"
   },
   {
    "duration": 274,
    "start_time": "2022-11-04T13:45:51.634Z"
   },
   {
    "duration": 23,
    "start_time": "2022-11-04T13:46:16.395Z"
   },
   {
    "duration": 298,
    "start_time": "2022-11-04T13:46:36.383Z"
   },
   {
    "duration": 354,
    "start_time": "2022-11-04T13:47:14.072Z"
   },
   {
    "duration": 1422,
    "start_time": "2022-11-04T13:47:31.958Z"
   },
   {
    "duration": 55,
    "start_time": "2022-11-04T13:50:06.167Z"
   },
   {
    "duration": 18,
    "start_time": "2022-11-04T13:50:27.307Z"
   },
   {
    "duration": 237,
    "start_time": "2022-11-04T13:52:13.141Z"
   },
   {
    "duration": 219,
    "start_time": "2022-11-04T13:52:34.206Z"
   },
   {
    "duration": 19,
    "start_time": "2022-11-04T13:53:18.376Z"
   },
   {
    "duration": 20,
    "start_time": "2022-11-04T14:03:20.533Z"
   },
   {
    "duration": 249,
    "start_time": "2022-11-04T14:04:27.868Z"
   },
   {
    "duration": 18,
    "start_time": "2022-11-04T14:04:45.663Z"
   },
   {
    "duration": 224,
    "start_time": "2022-11-04T14:06:34.070Z"
   },
   {
    "duration": 18,
    "start_time": "2022-11-04T14:07:06.161Z"
   },
   {
    "duration": 23,
    "start_time": "2022-11-04T14:09:17.926Z"
   },
   {
    "duration": 22,
    "start_time": "2022-11-04T14:12:46.991Z"
   },
   {
    "duration": 299,
    "start_time": "2022-11-04T14:14:06.724Z"
   },
   {
    "duration": 284,
    "start_time": "2022-11-04T14:14:59.679Z"
   },
   {
    "duration": 302,
    "start_time": "2022-11-04T14:15:36.521Z"
   },
   {
    "duration": 290,
    "start_time": "2022-11-04T14:16:33.462Z"
   },
   {
    "duration": 262,
    "start_time": "2022-11-04T14:18:17.164Z"
   },
   {
    "duration": 846,
    "start_time": "2022-11-04T14:20:11.402Z"
   },
   {
    "duration": 436,
    "start_time": "2022-11-04T14:20:28.851Z"
   },
   {
    "duration": 26,
    "start_time": "2022-11-04T14:20:42.647Z"
   },
   {
    "duration": 18,
    "start_time": "2022-11-04T14:21:48.590Z"
   },
   {
    "duration": 274,
    "start_time": "2022-11-04T14:21:58.378Z"
   },
   {
    "duration": 21,
    "start_time": "2022-11-04T14:23:31.593Z"
   },
   {
    "duration": 217,
    "start_time": "2022-11-04T14:23:43.868Z"
   },
   {
    "duration": 21,
    "start_time": "2022-11-04T14:25:01.394Z"
   },
   {
    "duration": 326,
    "start_time": "2022-11-04T14:25:19.598Z"
   },
   {
    "duration": 318,
    "start_time": "2022-11-04T14:26:29.602Z"
   },
   {
    "duration": 305,
    "start_time": "2022-11-04T14:27:14.388Z"
   },
   {
    "duration": 554,
    "start_time": "2022-11-04T14:48:32.616Z"
   },
   {
    "duration": 308,
    "start_time": "2022-11-04T14:49:39.935Z"
   },
   {
    "duration": 319,
    "start_time": "2022-11-04T14:50:51.977Z"
   },
   {
    "duration": 397,
    "start_time": "2022-11-04T14:51:18.794Z"
   },
   {
    "duration": 310,
    "start_time": "2022-11-04T14:51:25.136Z"
   },
   {
    "duration": 319,
    "start_time": "2022-11-04T14:51:41.784Z"
   },
   {
    "duration": 423,
    "start_time": "2022-11-04T14:52:02.692Z"
   },
   {
    "duration": 7,
    "start_time": "2022-11-04T16:25:43.374Z"
   },
   {
    "duration": 950,
    "start_time": "2022-11-04T16:25:50.729Z"
   },
   {
    "duration": 542,
    "start_time": "2022-11-04T16:26:53.492Z"
   },
   {
    "duration": 11,
    "start_time": "2022-11-04T16:29:45.028Z"
   },
   {
    "duration": 12,
    "start_time": "2022-11-04T16:29:59.385Z"
   },
   {
    "duration": 11,
    "start_time": "2022-11-04T16:30:33.956Z"
   },
   {
    "duration": 12,
    "start_time": "2022-11-04T16:31:05.502Z"
   },
   {
    "duration": 12,
    "start_time": "2022-11-04T16:31:26.039Z"
   },
   {
    "duration": 45,
    "start_time": "2022-11-04T16:43:08.976Z"
   },
   {
    "duration": 13,
    "start_time": "2022-11-04T16:43:28.783Z"
   },
   {
    "duration": 17,
    "start_time": "2022-11-04T16:43:41.423Z"
   },
   {
    "duration": 14,
    "start_time": "2022-11-04T16:45:07.599Z"
   },
   {
    "duration": 16,
    "start_time": "2022-11-04T16:47:51.496Z"
   },
   {
    "duration": 16,
    "start_time": "2022-11-04T16:48:21.360Z"
   },
   {
    "duration": 14,
    "start_time": "2022-11-04T16:48:34.701Z"
   },
   {
    "duration": 24,
    "start_time": "2022-11-04T16:48:42.771Z"
   },
   {
    "duration": 25,
    "start_time": "2022-11-04T16:49:12.589Z"
   },
   {
    "duration": 15,
    "start_time": "2022-11-04T16:49:31.993Z"
   },
   {
    "duration": 26,
    "start_time": "2022-11-04T16:49:57.168Z"
   },
   {
    "duration": 28,
    "start_time": "2022-11-04T17:00:08.828Z"
   },
   {
    "duration": 14,
    "start_time": "2022-11-04T17:00:52.810Z"
   },
   {
    "duration": 15,
    "start_time": "2022-11-04T17:01:09.958Z"
   },
   {
    "duration": 9,
    "start_time": "2022-11-04T17:15:19.396Z"
   },
   {
    "duration": 10,
    "start_time": "2022-11-04T17:15:50.574Z"
   },
   {
    "duration": 15,
    "start_time": "2022-11-04T17:16:33.976Z"
   },
   {
    "duration": 11,
    "start_time": "2022-11-04T17:24:42.595Z"
   },
   {
    "duration": 12,
    "start_time": "2022-11-04T17:25:07.635Z"
   },
   {
    "duration": 30,
    "start_time": "2022-11-04T17:36:31.590Z"
   },
   {
    "duration": 26,
    "start_time": "2022-11-04T17:38:26.385Z"
   },
   {
    "duration": 43,
    "start_time": "2022-11-04T17:39:04.558Z"
   },
   {
    "duration": 27,
    "start_time": "2022-11-04T17:39:18.004Z"
   },
   {
    "duration": 570,
    "start_time": "2022-11-04T17:39:32.397Z"
   },
   {
    "duration": 38,
    "start_time": "2022-11-04T18:00:06.951Z"
   },
   {
    "duration": 20,
    "start_time": "2022-11-04T18:01:43.451Z"
   },
   {
    "duration": 18,
    "start_time": "2022-11-04T18:02:15.094Z"
   },
   {
    "duration": 64,
    "start_time": "2022-11-04T18:03:08.284Z"
   },
   {
    "duration": 36,
    "start_time": "2022-11-04T18:03:11.396Z"
   },
   {
    "duration": 14,
    "start_time": "2022-11-04T18:03:15.024Z"
   },
   {
    "duration": 9,
    "start_time": "2022-11-04T18:03:17.483Z"
   },
   {
    "duration": 9,
    "start_time": "2022-11-04T18:03:21.402Z"
   },
   {
    "duration": 5,
    "start_time": "2022-11-04T18:03:23.388Z"
   },
   {
    "duration": 6,
    "start_time": "2022-11-04T18:03:26.086Z"
   },
   {
    "duration": 5,
    "start_time": "2022-11-04T18:03:29.313Z"
   },
   {
    "duration": 13,
    "start_time": "2022-11-04T18:03:31.408Z"
   },
   {
    "duration": 17,
    "start_time": "2022-11-04T18:03:34.827Z"
   },
   {
    "duration": 19,
    "start_time": "2022-11-04T18:03:37.647Z"
   },
   {
    "duration": 316,
    "start_time": "2022-11-04T18:03:40.537Z"
   },
   {
    "duration": 16,
    "start_time": "2022-11-04T18:03:45.278Z"
   },
   {
    "duration": 4,
    "start_time": "2022-11-04T18:03:48.630Z"
   },
   {
    "duration": 345,
    "start_time": "2022-11-04T18:03:52.292Z"
   },
   {
    "duration": 20,
    "start_time": "2022-11-04T18:03:57.266Z"
   },
   {
    "duration": 14,
    "start_time": "2022-11-04T18:04:01.408Z"
   },
   {
    "duration": 338,
    "start_time": "2022-11-04T18:04:04.393Z"
   },
   {
    "duration": 296,
    "start_time": "2022-11-04T18:04:08.045Z"
   },
   {
    "duration": 20,
    "start_time": "2022-11-04T18:04:12.670Z"
   },
   {
    "duration": 294,
    "start_time": "2022-11-04T18:04:16.176Z"
   },
   {
    "duration": 360,
    "start_time": "2022-11-04T18:04:20.272Z"
   },
   {
    "duration": 1334,
    "start_time": "2022-11-04T18:04:24.146Z"
   },
   {
    "duration": 6,
    "start_time": "2022-11-04T18:04:29.530Z"
   },
   {
    "duration": 20,
    "start_time": "2022-11-04T18:04:32.568Z"
   },
   {
    "duration": 329,
    "start_time": "2022-11-04T18:04:37.964Z"
   },
   {
    "duration": 330,
    "start_time": "2022-11-04T18:04:41.693Z"
   },
   {
    "duration": 320,
    "start_time": "2022-11-04T18:04:50.809Z"
   },
   {
    "duration": 6,
    "start_time": "2022-11-04T18:04:56.600Z"
   },
   {
    "duration": 30,
    "start_time": "2022-11-04T18:04:59.632Z"
   },
   {
    "duration": 28,
    "start_time": "2022-11-04T18:06:08.822Z"
   },
   {
    "duration": 28,
    "start_time": "2022-11-04T18:06:40.609Z"
   },
   {
    "duration": 580,
    "start_time": "2022-11-04T18:06:50.124Z"
   },
   {
    "duration": 20,
    "start_time": "2022-11-04T18:18:26.645Z"
   },
   {
    "duration": 20,
    "start_time": "2022-11-04T18:19:12.671Z"
   },
   {
    "duration": 20,
    "start_time": "2022-11-04T18:20:46.862Z"
   },
   {
    "duration": 21,
    "start_time": "2022-11-04T18:21:32.923Z"
   },
   {
    "duration": 19,
    "start_time": "2022-11-04T18:21:45.955Z"
   },
   {
    "duration": 20,
    "start_time": "2022-11-04T18:22:13.802Z"
   },
   {
    "duration": 59,
    "start_time": "2022-11-04T18:22:22.976Z"
   },
   {
    "duration": 63,
    "start_time": "2022-11-04T18:22:40.236Z"
   },
   {
    "duration": 42,
    "start_time": "2022-11-04T18:22:47.568Z"
   },
   {
    "duration": 3,
    "start_time": "2022-11-04T18:24:18.012Z"
   },
   {
    "duration": 5,
    "start_time": "2022-11-04T18:24:34.986Z"
   },
   {
    "duration": 6,
    "start_time": "2022-11-04T18:35:42.348Z"
   },
   {
    "duration": 13,
    "start_time": "2022-11-04T18:35:51.673Z"
   },
   {
    "duration": 14,
    "start_time": "2022-11-04T18:50:10.619Z"
   },
   {
    "duration": 16,
    "start_time": "2022-11-04T18:50:56.232Z"
   },
   {
    "duration": 15,
    "start_time": "2022-11-04T18:53:31.274Z"
   },
   {
    "duration": 15,
    "start_time": "2022-11-04T18:54:44.742Z"
   },
   {
    "duration": 13,
    "start_time": "2022-11-04T18:55:31.804Z"
   },
   {
    "duration": 591,
    "start_time": "2022-11-04T18:56:55.027Z"
   },
   {
    "duration": 536,
    "start_time": "2022-11-04T18:57:31.220Z"
   },
   {
    "duration": 639,
    "start_time": "2022-11-04T18:57:54.534Z"
   },
   {
    "duration": 166,
    "start_time": "2022-11-04T18:59:02.563Z"
   },
   {
    "duration": 487,
    "start_time": "2022-11-04T18:59:15.836Z"
   },
   {
    "duration": 527,
    "start_time": "2022-11-04T19:00:05.789Z"
   },
   {
    "duration": 479,
    "start_time": "2022-11-04T19:00:44.718Z"
   },
   {
    "duration": 468,
    "start_time": "2022-11-04T19:01:32.189Z"
   },
   {
    "duration": 44,
    "start_time": "2022-11-04T19:16:07.243Z"
   },
   {
    "duration": 45,
    "start_time": "2022-11-04T19:16:20.736Z"
   },
   {
    "duration": 3,
    "start_time": "2022-11-04T19:16:28.472Z"
   },
   {
    "duration": 42,
    "start_time": "2022-11-04T19:18:11.901Z"
   },
   {
    "duration": 5,
    "start_time": "2022-11-04T19:19:58.617Z"
   },
   {
    "duration": 14,
    "start_time": "2022-11-04T19:20:57.151Z"
   },
   {
    "duration": 600,
    "start_time": "2022-11-04T19:21:13.338Z"
   },
   {
    "duration": 579,
    "start_time": "2022-11-04T19:21:50.634Z"
   },
   {
    "duration": 592,
    "start_time": "2022-11-04T19:22:02.557Z"
   },
   {
    "duration": 171,
    "start_time": "2022-11-04T19:22:18.207Z"
   },
   {
    "duration": 481,
    "start_time": "2022-11-04T19:22:30.816Z"
   },
   {
    "duration": 13,
    "start_time": "2022-11-04T19:24:07.751Z"
   },
   {
    "duration": 491,
    "start_time": "2022-11-04T19:37:28.988Z"
   },
   {
    "duration": 46,
    "start_time": "2022-11-04T19:37:58.444Z"
   },
   {
    "duration": 50,
    "start_time": "2022-11-04T19:38:16.700Z"
   },
   {
    "duration": 173,
    "start_time": "2022-11-04T19:39:06.485Z"
   },
   {
    "duration": 504,
    "start_time": "2022-11-04T19:39:22.536Z"
   },
   {
    "duration": 474,
    "start_time": "2022-11-04T19:39:32.183Z"
   },
   {
    "duration": 547,
    "start_time": "2022-11-04T19:40:17.705Z"
   },
   {
    "duration": 595,
    "start_time": "2022-11-04T19:40:37.647Z"
   },
   {
    "duration": 496,
    "start_time": "2022-11-04T19:41:19.379Z"
   },
   {
    "duration": 13,
    "start_time": "2022-11-04T19:50:53.361Z"
   },
   {
    "duration": 5,
    "start_time": "2022-11-04T19:51:23.041Z"
   },
   {
    "duration": 554,
    "start_time": "2022-11-04T19:59:53.804Z"
   },
   {
    "duration": 7,
    "start_time": "2022-11-04T20:27:59.724Z"
   },
   {
    "duration": 5,
    "start_time": "2022-11-04T20:28:16.851Z"
   },
   {
    "duration": 10,
    "start_time": "2022-11-04T20:43:14.536Z"
   },
   {
    "duration": 11,
    "start_time": "2022-11-04T20:47:22.986Z"
   },
   {
    "duration": 17,
    "start_time": "2022-11-04T21:14:51.818Z"
   },
   {
    "duration": 6,
    "start_time": "2022-11-04T21:15:47.976Z"
   },
   {
    "duration": 8,
    "start_time": "2022-11-04T21:26:11.214Z"
   },
   {
    "duration": 7,
    "start_time": "2022-11-04T21:26:31.394Z"
   },
   {
    "duration": 5,
    "start_time": "2022-11-04T21:26:55.622Z"
   },
   {
    "duration": 8,
    "start_time": "2022-11-04T21:33:06.853Z"
   },
   {
    "duration": 5,
    "start_time": "2022-11-04T21:34:52.021Z"
   },
   {
    "duration": 471,
    "start_time": "2022-11-04T21:56:45.687Z"
   },
   {
    "duration": 468,
    "start_time": "2022-11-04T21:57:34.343Z"
   },
   {
    "duration": 629,
    "start_time": "2022-11-04T21:57:57.477Z"
   },
   {
    "duration": 13,
    "start_time": "2022-11-04T21:58:58.720Z"
   },
   {
    "duration": 13,
    "start_time": "2022-11-04T22:00:17.622Z"
   },
   {
    "duration": 521,
    "start_time": "2022-11-04T22:12:27.372Z"
   },
   {
    "duration": 525,
    "start_time": "2022-11-04T22:12:58.659Z"
   },
   {
    "duration": 474,
    "start_time": "2022-11-04T22:16:50.130Z"
   },
   {
    "duration": 483,
    "start_time": "2022-11-04T22:17:11.282Z"
   },
   {
    "duration": 478,
    "start_time": "2022-11-04T22:17:44.174Z"
   },
   {
    "duration": 608,
    "start_time": "2022-11-04T22:21:52.094Z"
   },
   {
    "duration": 512,
    "start_time": "2022-11-04T22:23:23.349Z"
   },
   {
    "duration": 510,
    "start_time": "2022-11-04T22:23:50.095Z"
   },
   {
    "duration": 544,
    "start_time": "2022-11-04T22:28:18.679Z"
   },
   {
    "duration": 482,
    "start_time": "2022-11-04T22:28:41.735Z"
   },
   {
    "duration": 43,
    "start_time": "2022-11-04T22:29:32.261Z"
   },
   {
    "duration": 17,
    "start_time": "2022-11-04T22:29:38.185Z"
   },
   {
    "duration": 612,
    "start_time": "2022-11-04T22:29:44.895Z"
   },
   {
    "duration": 1658,
    "start_time": "2022-11-05T12:00:06.397Z"
   },
   {
    "duration": 43,
    "start_time": "2022-11-05T12:00:15.536Z"
   },
   {
    "duration": 18,
    "start_time": "2022-11-05T12:00:24.976Z"
   },
   {
    "duration": 16,
    "start_time": "2022-11-05T12:00:35.355Z"
   },
   {
    "duration": 13,
    "start_time": "2022-11-05T12:00:38.252Z"
   },
   {
    "duration": 10,
    "start_time": "2022-11-05T12:00:41.161Z"
   },
   {
    "duration": 5,
    "start_time": "2022-11-05T12:00:43.957Z"
   },
   {
    "duration": 6,
    "start_time": "2022-11-05T12:00:45.881Z"
   },
   {
    "duration": 15,
    "start_time": "2022-11-05T12:00:47.821Z"
   },
   {
    "duration": 23,
    "start_time": "2022-11-05T12:00:50.913Z"
   },
   {
    "duration": 27,
    "start_time": "2022-11-05T12:00:56.107Z"
   },
   {
    "duration": 19,
    "start_time": "2022-11-05T12:01:02.474Z"
   },
   {
    "duration": 331,
    "start_time": "2022-11-05T12:01:13.486Z"
   },
   {
    "duration": 32,
    "start_time": "2022-11-05T12:01:41.520Z"
   },
   {
    "duration": 5,
    "start_time": "2022-11-05T12:02:03.377Z"
   },
   {
    "duration": 348,
    "start_time": "2022-11-05T12:02:11.516Z"
   },
   {
    "duration": 26,
    "start_time": "2022-11-05T12:02:24.011Z"
   },
   {
    "duration": 17,
    "start_time": "2022-11-05T12:02:56.546Z"
   },
   {
    "duration": 13,
    "start_time": "2022-11-05T12:03:18.036Z"
   },
   {
    "duration": 429,
    "start_time": "2022-11-05T12:07:41.711Z"
   },
   {
    "duration": 272,
    "start_time": "2022-11-05T12:11:28.080Z"
   },
   {
    "duration": 307,
    "start_time": "2022-11-05T12:11:30.899Z"
   },
   {
    "duration": 22,
    "start_time": "2022-11-05T12:11:46.239Z"
   },
   {
    "duration": 398,
    "start_time": "2022-11-05T12:12:12.061Z"
   },
   {
    "duration": 373,
    "start_time": "2022-11-05T12:12:54.333Z"
   },
   {
    "duration": 1471,
    "start_time": "2022-11-05T12:13:08.908Z"
   },
   {
    "duration": 7,
    "start_time": "2022-11-05T12:13:44.217Z"
   },
   {
    "duration": 21,
    "start_time": "2022-11-05T12:13:58.153Z"
   },
   {
    "duration": 236,
    "start_time": "2022-11-05T12:14:28.638Z"
   },
   {
    "duration": 325,
    "start_time": "2022-11-05T12:14:42.414Z"
   },
   {
    "duration": 486,
    "start_time": "2022-11-05T12:14:50.784Z"
   },
   {
    "duration": 12,
    "start_time": "2022-11-05T12:23:12.935Z"
   },
   {
    "duration": 15,
    "start_time": "2022-11-05T12:25:09.449Z"
   },
   {
    "duration": 604,
    "start_time": "2022-11-05T12:25:26.214Z"
   },
   {
    "duration": 16,
    "start_time": "2022-11-05T12:25:47.101Z"
   },
   {
    "duration": 577,
    "start_time": "2022-11-05T12:26:23.938Z"
   },
   {
    "duration": 6,
    "start_time": "2022-11-05T12:52:00.271Z"
   },
   {
    "duration": 14,
    "start_time": "2022-11-05T12:52:58.445Z"
   },
   {
    "duration": 606,
    "start_time": "2022-11-05T12:54:17.275Z"
   },
   {
    "duration": 11,
    "start_time": "2022-11-05T13:54:31.293Z"
   },
   {
    "duration": 6,
    "start_time": "2022-11-05T13:54:33.447Z"
   },
   {
    "duration": 9,
    "start_time": "2022-11-05T13:54:36.088Z"
   },
   {
    "duration": 5,
    "start_time": "2022-11-05T13:54:37.839Z"
   },
   {
    "duration": 1157,
    "start_time": "2022-11-05T17:44:44.492Z"
   },
   {
    "duration": 37,
    "start_time": "2022-11-05T17:44:45.651Z"
   },
   {
    "duration": 15,
    "start_time": "2022-11-05T17:44:45.689Z"
   },
   {
    "duration": 15,
    "start_time": "2022-11-05T17:44:45.722Z"
   },
   {
    "duration": 12,
    "start_time": "2022-11-05T17:44:45.739Z"
   },
   {
    "duration": 10,
    "start_time": "2022-11-05T17:44:45.752Z"
   },
   {
    "duration": 5,
    "start_time": "2022-11-05T17:44:45.763Z"
   },
   {
    "duration": 12,
    "start_time": "2022-11-05T17:44:45.770Z"
   },
   {
    "duration": 8,
    "start_time": "2022-11-05T17:44:45.784Z"
   },
   {
    "duration": 37,
    "start_time": "2022-11-05T17:44:45.795Z"
   },
   {
    "duration": 14,
    "start_time": "2022-11-05T17:44:45.834Z"
   },
   {
    "duration": 17,
    "start_time": "2022-11-05T17:44:45.850Z"
   },
   {
    "duration": 275,
    "start_time": "2022-11-05T17:44:45.868Z"
   },
   {
    "duration": 14,
    "start_time": "2022-11-05T17:44:46.145Z"
   },
   {
    "duration": 3,
    "start_time": "2022-11-05T17:44:46.161Z"
   },
   {
    "duration": 227,
    "start_time": "2022-11-05T17:44:46.166Z"
   },
   {
    "duration": 14,
    "start_time": "2022-11-05T17:44:46.395Z"
   },
   {
    "duration": 22,
    "start_time": "2022-11-05T17:44:46.410Z"
   },
   {
    "duration": 303,
    "start_time": "2022-11-05T17:44:46.434Z"
   },
   {
    "duration": 222,
    "start_time": "2022-11-05T17:44:46.738Z"
   },
   {
    "duration": 17,
    "start_time": "2022-11-05T17:44:46.961Z"
   },
   {
    "duration": 278,
    "start_time": "2022-11-05T17:44:46.980Z"
   },
   {
    "duration": 404,
    "start_time": "2022-11-05T17:44:47.259Z"
   },
   {
    "duration": 1219,
    "start_time": "2022-11-05T17:44:47.665Z"
   },
   {
    "duration": 9,
    "start_time": "2022-11-05T17:44:48.886Z"
   },
   {
    "duration": 38,
    "start_time": "2022-11-05T17:44:48.897Z"
   },
   {
    "duration": 268,
    "start_time": "2022-11-05T17:44:48.936Z"
   },
   {
    "duration": 303,
    "start_time": "2022-11-05T17:44:49.208Z"
   },
   {
    "duration": 291,
    "start_time": "2022-11-05T17:44:49.513Z"
   },
   {
    "duration": 6,
    "start_time": "2022-11-05T17:44:49.806Z"
   },
   {
    "duration": 12,
    "start_time": "2022-11-05T17:44:49.822Z"
   },
   {
    "duration": 580,
    "start_time": "2022-11-05T17:44:49.836Z"
   },
   {
    "duration": 12,
    "start_time": "2022-11-05T17:44:50.421Z"
   },
   {
    "duration": 476,
    "start_time": "2022-11-05T17:44:50.435Z"
   },
   {
    "duration": 11,
    "start_time": "2022-11-05T17:44:50.912Z"
   },
   {
    "duration": 35,
    "start_time": "2022-11-05T17:44:50.925Z"
   },
   {
    "duration": 519,
    "start_time": "2022-11-05T17:44:50.961Z"
   },
   {
    "duration": 7,
    "start_time": "2022-11-05T17:44:51.482Z"
   },
   {
    "duration": 25,
    "start_time": "2022-11-05T17:44:51.490Z"
   },
   {
    "duration": 21,
    "start_time": "2022-11-05T17:44:51.516Z"
   },
   {
    "duration": 5,
    "start_time": "2022-11-05T17:44:51.539Z"
   },
   {
    "duration": 1093,
    "start_time": "2022-11-05T18:38:25.877Z"
   },
   {
    "duration": 37,
    "start_time": "2022-11-05T18:38:26.971Z"
   },
   {
    "duration": 16,
    "start_time": "2022-11-05T18:38:27.009Z"
   },
   {
    "duration": 13,
    "start_time": "2022-11-05T18:38:27.027Z"
   },
   {
    "duration": 9,
    "start_time": "2022-11-05T18:38:27.042Z"
   },
   {
    "duration": 9,
    "start_time": "2022-11-05T18:38:27.052Z"
   },
   {
    "duration": 8,
    "start_time": "2022-11-05T18:38:27.063Z"
   },
   {
    "duration": 7,
    "start_time": "2022-11-05T18:38:27.072Z"
   },
   {
    "duration": 15,
    "start_time": "2022-11-05T18:38:27.080Z"
   },
   {
    "duration": 31,
    "start_time": "2022-11-05T18:38:27.098Z"
   },
   {
    "duration": 15,
    "start_time": "2022-11-05T18:38:27.130Z"
   },
   {
    "duration": 17,
    "start_time": "2022-11-05T18:38:27.146Z"
   },
   {
    "duration": 292,
    "start_time": "2022-11-05T18:38:27.164Z"
   },
   {
    "duration": 18,
    "start_time": "2022-11-05T18:38:27.458Z"
   },
   {
    "duration": 4,
    "start_time": "2022-11-05T18:38:27.478Z"
   },
   {
    "duration": 253,
    "start_time": "2022-11-05T18:38:27.484Z"
   },
   {
    "duration": 14,
    "start_time": "2022-11-05T18:38:27.739Z"
   },
   {
    "duration": 11,
    "start_time": "2022-11-05T18:38:27.754Z"
   },
   {
    "duration": 296,
    "start_time": "2022-11-05T18:38:27.766Z"
   },
   {
    "duration": 217,
    "start_time": "2022-11-05T18:38:28.064Z"
   },
   {
    "duration": 17,
    "start_time": "2022-11-05T18:38:28.282Z"
   },
   {
    "duration": 284,
    "start_time": "2022-11-05T18:38:28.300Z"
   },
   {
    "duration": 444,
    "start_time": "2022-11-05T18:38:28.586Z"
   },
   {
    "duration": 1201,
    "start_time": "2022-11-05T18:38:29.034Z"
   },
   {
    "duration": 5,
    "start_time": "2022-11-05T18:38:30.237Z"
   },
   {
    "duration": 29,
    "start_time": "2022-11-05T18:38:30.244Z"
   },
   {
    "duration": 218,
    "start_time": "2022-11-05T18:38:30.274Z"
   },
   {
    "duration": 280,
    "start_time": "2022-11-05T18:38:30.495Z"
   },
   {
    "duration": 297,
    "start_time": "2022-11-05T18:38:30.777Z"
   },
   {
    "duration": 7,
    "start_time": "2022-11-05T18:38:31.076Z"
   },
   {
    "duration": 35,
    "start_time": "2022-11-05T18:38:31.085Z"
   },
   {
    "duration": 604,
    "start_time": "2022-11-05T18:38:31.122Z"
   },
   {
    "duration": 13,
    "start_time": "2022-11-05T18:38:31.727Z"
   },
   {
    "duration": 462,
    "start_time": "2022-11-05T18:38:31.741Z"
   },
   {
    "duration": 5,
    "start_time": "2022-11-05T18:38:32.204Z"
   },
   {
    "duration": 19,
    "start_time": "2022-11-05T18:38:32.211Z"
   },
   {
    "duration": 502,
    "start_time": "2022-11-05T18:38:32.232Z"
   },
   {
    "duration": 7,
    "start_time": "2022-11-05T18:38:32.736Z"
   },
   {
    "duration": 8,
    "start_time": "2022-11-05T18:38:32.744Z"
   },
   {
    "duration": 8,
    "start_time": "2022-11-05T18:38:32.753Z"
   },
   {
    "duration": 6,
    "start_time": "2022-11-05T18:38:32.763Z"
   }
  ],
  "kernelspec": {
   "display_name": "Python 3 (ipykernel)",
   "language": "python",
   "name": "python3"
  },
  "language_info": {
   "codemirror_mode": {
    "name": "ipython",
    "version": 3
   },
   "file_extension": ".py",
   "mimetype": "text/x-python",
   "name": "python",
   "nbconvert_exporter": "python",
   "pygments_lexer": "ipython3",
   "version": "3.9.12"
  },
  "toc": {
   "base_numbering": 1,
   "nav_menu": {},
   "number_sections": true,
   "sideBar": true,
   "skip_h1_title": true,
   "title_cell": "Table of Contents",
   "title_sidebar": "Contents",
   "toc_cell": false,
   "toc_position": {},
   "toc_section_display": true,
   "toc_window_display": true
  }
 },
 "nbformat": 4,
 "nbformat_minor": 2
}
